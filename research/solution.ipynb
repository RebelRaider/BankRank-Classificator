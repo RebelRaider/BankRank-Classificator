{
 "cells": [
  {
   "cell_type": "code",
   "execution_count": 1,
   "metadata": {
    "colab": {
     "base_uri": "https://localhost:8080/"
    },
    "executionInfo": {
     "elapsed": 7491,
     "status": "ok",
     "timestamp": 1694298578954,
     "user": {
      "displayName": "Леонид Чесников",
      "userId": "02283243865444924445"
     },
     "user_tz": -180
    },
    "id": "f5DQsysOBI7Z",
    "outputId": "e594add6-e340-451f-ca39-82eaa79164ac"
   },
   "outputs": [
    {
     "name": "stdout",
     "output_type": "stream",
     "text": [
      "Defaulting to user installation because normal site-packages is not writeable\n",
      "Looking in indexes: https://pypi.org/simple, https://pypi.ngc.nvidia.com\n",
      "Requirement already satisfied: openpyxl in /home/best/.local/lib/python3.10/site-packages (3.1.2)\n",
      "Requirement already satisfied: et-xmlfile in /home/best/.local/lib/python3.10/site-packages (from openpyxl) (1.1.0)\n"
     ]
    }
   ],
   "source": [
    "!pip install openpyxl"
   ]
  },
  {
   "cell_type": "code",
   "execution_count": 2,
   "metadata": {
    "colab": {
     "base_uri": "https://localhost:8080/"
    },
    "executionInfo": {
     "elapsed": 11535,
     "status": "ok",
     "timestamp": 1694298590485,
     "user": {
      "displayName": "Леонид Чесников",
      "userId": "02283243865444924445"
     },
     "user_tz": -180
    },
    "id": "e_3aK8OrwQO6",
    "outputId": "685de5dc-24ae-4e56-efef-22a81717c5ca"
   },
   "outputs": [],
   "source": [
    "!pip install -q -U tensorflow-text"
   ]
  },
  {
   "cell_type": "code",
   "execution_count": 3,
   "metadata": {
    "colab": {
     "base_uri": "https://localhost:8080/"
    },
    "executionInfo": {
     "elapsed": 23368,
     "status": "ok",
     "timestamp": 1694298613849,
     "user": {
      "displayName": "Леонид Чесников",
      "userId": "02283243865444924445"
     },
     "user_tz": -180
    },
    "id": "F0GHrZ3xghpy",
    "outputId": "ba619d12-b67f-40fc-c41b-466f238b242b"
   },
   "outputs": [
    {
     "name": "stdout",
     "output_type": "stream",
     "text": [
      "Defaulting to user installation because normal site-packages is not writeable\n",
      "Looking in indexes: https://pypi.org/simple, https://pypi.ngc.nvidia.com\n",
      "Requirement already satisfied: natasha in /home/best/.local/lib/python3.10/site-packages (1.6.0)\n",
      "Requirement already satisfied: pymorphy2 in /home/best/.local/lib/python3.10/site-packages (from natasha) (0.9.1)\n",
      "Requirement already satisfied: razdel>=0.5.0 in /home/best/.local/lib/python3.10/site-packages (from natasha) (0.5.0)\n",
      "Requirement already satisfied: navec>=0.9.0 in /home/best/.local/lib/python3.10/site-packages (from natasha) (0.10.0)\n",
      "Requirement already satisfied: slovnet>=0.6.0 in /home/best/.local/lib/python3.10/site-packages (from natasha) (0.6.0)\n",
      "Requirement already satisfied: yargy>=0.16.0 in /home/best/.local/lib/python3.10/site-packages (from natasha) (0.16.0)\n",
      "Requirement already satisfied: ipymarkup>=0.8.0 in /home/best/.local/lib/python3.10/site-packages (from natasha) (0.9.0)\n",
      "Requirement already satisfied: intervaltree>=3 in /home/best/.local/lib/python3.10/site-packages (from ipymarkup>=0.8.0->natasha) (3.1.0)\n",
      "Requirement already satisfied: numpy in /home/best/.local/lib/python3.10/site-packages (from navec>=0.9.0->natasha) (1.23.5)\n",
      "Requirement already satisfied: dawg-python>=0.7.1 in /home/best/.local/lib/python3.10/site-packages (from pymorphy2->natasha) (0.7.2)\n",
      "Requirement already satisfied: pymorphy2-dicts-ru<3.0,>=2.4 in /home/best/.local/lib/python3.10/site-packages (from pymorphy2->natasha) (2.4.417127.4579844)\n",
      "Requirement already satisfied: docopt>=0.6 in /home/best/.local/lib/python3.10/site-packages (from pymorphy2->natasha) (0.6.2)\n",
      "Requirement already satisfied: sortedcontainers<3.0,>=2.0 in /home/best/.local/lib/python3.10/site-packages (from intervaltree>=3->ipymarkup>=0.8.0->natasha) (2.4.0)\n"
     ]
    }
   ],
   "source": [
    "!pip install natasha"
   ]
  },
  {
   "cell_type": "markdown",
   "metadata": {
    "id": "DmwwVmG1lZFg"
   },
   "source": [
    "# Import"
   ]
  },
  {
   "cell_type": "code",
   "execution_count": 4,
   "metadata": {
    "executionInfo": {
     "elapsed": 14072,
     "status": "ok",
     "timestamp": 1694299491387,
     "user": {
      "displayName": "Леонид Чесников",
      "userId": "02283243865444924445"
     },
     "user_tz": -180
    },
    "id": "MhhQAU7_lbMP",
    "tags": []
   },
   "outputs": [
    {
     "name": "stderr",
     "output_type": "stream",
     "text": [
      "2023-09-10 05:45:20.112519: I tensorflow/core/util/port.cc:110] oneDNN custom operations are on. You may see slightly different numerical results due to floating-point round-off errors from different computation orders. To turn them off, set the environment variable `TF_ENABLE_ONEDNN_OPTS=0`.\n",
      "2023-09-10 05:45:20.133189: I tensorflow/core/platform/cpu_feature_guard.cc:182] This TensorFlow binary is optimized to use available CPU instructions in performance-critical operations.\n",
      "To enable the following instructions: AVX2 AVX_VNNI FMA, in other operations, rebuild TensorFlow with the appropriate compiler flags.\n",
      "2023-09-10 05:45:20.447156: W tensorflow/compiler/tf2tensorrt/utils/py_utils.cc:38] TF-TRT Warning: Could not find TensorRT\n"
     ]
    }
   ],
   "source": [
    "import re\n",
    "import time\n",
    "\n",
    "import pandas as pd\n",
    "import numpy as np\n",
    "import sklearn\n",
    "from sklearn.preprocessing import LabelEncoder\n",
    "from sklearn.model_selection import train_test_split\n",
    "from bs4 import BeautifulSoup  # Для удаления HTML тегов\n",
    "\n",
    "import tensorflow as tf\n",
    "from tensorflow.keras import Model\n",
    "from tensorflow.keras.layers import Input, Dense, Dropout\n",
    "from tensorflow.keras.layers import Embedding, Flatten, Input, concatenate, Reshape\n",
    "from tensorflow.keras.utils import plot_model, to_categorical\n",
    "from tensorflow.keras.optimizers import Adam, Adadelta\n",
    "from tensorflow.keras.callbacks import ModelCheckpoint, Callback\n",
    "import tensorflow_hub as hub\n",
    "import tensorflow_text as text\n",
    "\n",
    "from natasha import (\n",
    "    Segmenter,\n",
    "    MorphVocab,\n",
    "\n",
    "    NewsEmbedding,\n",
    "    NewsMorphTagger,\n",
    "    NewsSyntaxParser,\n",
    "    NewsNERTagger,\n",
    "\n",
    "    PER,\n",
    "    NamesExtractor,\n",
    "    DatesExtractor,\n",
    "    MoneyExtractor,\n",
    "    AddrExtractor,\n",
    "\n",
    "    Doc\n",
    ")\n",
    "from matplotlib import pyplot as plt\n",
    "import joblib\n",
    "# from google.colab import drive"
   ]
  },
  {
   "cell_type": "markdown",
   "metadata": {
    "id": "0yMvCfONlK_6"
   },
   "source": [
    "# Settings\n",
    "Путь до папки с файлом"
   ]
  },
  {
   "cell_type": "code",
   "execution_count": 5,
   "metadata": {
    "colab": {
     "base_uri": "https://localhost:8080/"
    },
    "executionInfo": {
     "elapsed": 2392,
     "status": "ok",
     "timestamp": 1694300360456,
     "user": {
      "displayName": "Леонид Чесников",
      "userId": "02283243865444924445"
     },
     "user_tz": -180
    },
    "id": "dsQDFrZAlM8f",
    "outputId": "98d486ff-51e4-416e-8a72-42429c9f6029",
    "tags": []
   },
   "outputs": [],
   "source": [
    "# вход на файл\n",
    "# drive.mount(\"/content/drive\")\n",
    "DIR = '/home/best/Code/HACKATONS/HacksAi_2023/solution/files/'\n",
    "df = pd.read_excel(DIR + \"CRA_train_1200.xlsx\")"
   ]
  },
  {
   "cell_type": "markdown",
   "metadata": {
    "id": "qpzMwOpElWAH"
   },
   "source": [
    "# Data\n",
    "\n",
    "Получам данные"
   ]
  },
  {
   "cell_type": "code",
   "execution_count": 6,
   "metadata": {
    "colab": {
     "base_uri": "https://localhost:8080/",
     "height": 206
    },
    "executionInfo": {
     "elapsed": 350,
     "status": "ok",
     "timestamp": 1694299512298,
     "user": {
      "displayName": "Леонид Чесников",
      "userId": "02283243865444924445"
     },
     "user_tz": -180
    },
    "id": "LxAgQFT5H8lZ",
    "outputId": "9f6afaa3-ff59-4fc1-c807-6e365d1bc44c",
    "tags": []
   },
   "outputs": [
    {
     "data": {
      "text/html": [
       "<div>\n",
       "<style scoped>\n",
       "    .dataframe tbody tr th:only-of-type {\n",
       "        vertical-align: middle;\n",
       "    }\n",
       "\n",
       "    .dataframe tbody tr th {\n",
       "        vertical-align: top;\n",
       "    }\n",
       "\n",
       "    .dataframe thead th {\n",
       "        text-align: right;\n",
       "    }\n",
       "</style>\n",
       "<table border=\"1\" class=\"dataframe\">\n",
       "  <thead>\n",
       "    <tr style=\"text-align: right;\">\n",
       "      <th></th>\n",
       "      <th>Id</th>\n",
       "      <th>pr_txt</th>\n",
       "      <th>Категория</th>\n",
       "      <th>Уровень рейтинга</th>\n",
       "    </tr>\n",
       "  </thead>\n",
       "  <tbody>\n",
       "    <tr>\n",
       "      <th>0</th>\n",
       "      <td>1</td>\n",
       "      <td>Повышение кредитного рейтинга  Акционерного об...</td>\n",
       "      <td>A</td>\n",
       "      <td>A</td>\n",
       "    </tr>\n",
       "    <tr>\n",
       "      <th>1</th>\n",
       "      <td>2</td>\n",
       "      <td>«Эксперт РА» подтвердил кредитный рейтинг комп...</td>\n",
       "      <td>BB</td>\n",
       "      <td>BB</td>\n",
       "    </tr>\n",
       "    <tr>\n",
       "      <th>2</th>\n",
       "      <td>3</td>\n",
       "      <td>НКР повысило кредитный рейтинг ООО \"ОТЭКО-Порт...</td>\n",
       "      <td>A</td>\n",
       "      <td>A</td>\n",
       "    </tr>\n",
       "    <tr>\n",
       "      <th>3</th>\n",
       "      <td>4</td>\n",
       "      <td>«Эксперт РА» присвоил кредитный рейтинг ПАО «Ф...</td>\n",
       "      <td>AAA</td>\n",
       "      <td>AAA</td>\n",
       "    </tr>\n",
       "    <tr>\n",
       "      <th>4</th>\n",
       "      <td>5</td>\n",
       "      <td>29 марта 2023 г. Ведущий рейтинговый аналитик ...</td>\n",
       "      <td>BBB</td>\n",
       "      <td>BBB</td>\n",
       "    </tr>\n",
       "  </tbody>\n",
       "</table>\n",
       "</div>"
      ],
      "text/plain": [
       "   Id                                             pr_txt Категория  \\\n",
       "0   1  Повышение кредитного рейтинга  Акционерного об...         A   \n",
       "1   2  «Эксперт РА» подтвердил кредитный рейтинг комп...        BB   \n",
       "2   3  НКР повысило кредитный рейтинг ООО \"ОТЭКО-Порт...         A   \n",
       "3   4  «Эксперт РА» присвоил кредитный рейтинг ПАО «Ф...       AAA   \n",
       "4   5  29 марта 2023 г. Ведущий рейтинговый аналитик ...       BBB   \n",
       "\n",
       "  Уровень рейтинга  \n",
       "0                A  \n",
       "1               BB  \n",
       "2                A  \n",
       "3              AAA  \n",
       "4              BBB  "
      ]
     },
     "execution_count": 6,
     "metadata": {},
     "output_type": "execute_result"
    }
   ],
   "source": [
    "df.head()"
   ]
  },
  {
   "cell_type": "code",
   "execution_count": 7,
   "metadata": {
    "colab": {
     "base_uri": "https://localhost:8080/"
    },
    "executionInfo": {
     "elapsed": 3,
     "status": "ok",
     "timestamp": 1694299512709,
     "user": {
      "displayName": "Леонид Чесников",
      "userId": "02283243865444924445"
     },
     "user_tz": -180
    },
    "id": "zZfrSPYEH8lb",
    "outputId": "99cb9587-708c-407f-a76d-b32f3cd6766a",
    "tags": []
   },
   "outputs": [
    {
     "data": {
      "text/plain": [
       "(1200, 4)"
      ]
     },
     "execution_count": 7,
     "metadata": {},
     "output_type": "execute_result"
    }
   ],
   "source": [
    "df.shape"
   ]
  },
  {
   "cell_type": "markdown",
   "metadata": {
    "id": "NNK_St1oH8lb"
   },
   "source": [
    "## Data checking\n",
    "\n",
    "Изучаем данные"
   ]
  },
  {
   "cell_type": "code",
   "execution_count": 8,
   "metadata": {
    "colab": {
     "base_uri": "https://localhost:8080/"
    },
    "executionInfo": {
     "elapsed": 3,
     "status": "ok",
     "timestamp": 1694299513749,
     "user": {
      "displayName": "Леонид Чесников",
      "userId": "02283243865444924445"
     },
     "user_tz": -180
    },
    "id": "yavSqsIbH8lc",
    "outputId": "f6c08844-9d6d-4a8a-cbbd-5e9e37920bf8",
    "tags": []
   },
   "outputs": [
    {
     "name": "stdout",
     "output_type": "stream",
     "text": [
      "<class 'pandas.core.frame.DataFrame'>\n",
      "RangeIndex: 1200 entries, 0 to 1199\n",
      "Data columns (total 4 columns):\n",
      " #   Column            Non-Null Count  Dtype \n",
      "---  ------            --------------  ----- \n",
      " 0   Id                1200 non-null   int64 \n",
      " 1   pr_txt            1200 non-null   object\n",
      " 2   Категория         1200 non-null   object\n",
      " 3   Уровень рейтинга  1200 non-null   object\n",
      "dtypes: int64(1), object(3)\n",
      "memory usage: 37.6+ KB\n"
     ]
    }
   ],
   "source": [
    "df.info()"
   ]
  },
  {
   "cell_type": "code",
   "execution_count": 9,
   "metadata": {
    "colab": {
     "base_uri": "https://localhost:8080/"
    },
    "executionInfo": {
     "elapsed": 2,
     "status": "ok",
     "timestamp": 1694299514199,
     "user": {
      "displayName": "Леонид Чесников",
      "userId": "02283243865444924445"
     },
     "user_tz": -180
    },
    "id": "Gph66YTbH8ld",
    "outputId": "9ab49557-47ff-48d1-86ae-eb22d654e683",
    "tags": []
   },
   "outputs": [
    {
     "data": {
      "text/plain": [
       "array(['A', 'BB', 'AAA', 'BBB', 'AA', 'B', 'C'], dtype=object)"
      ]
     },
     "execution_count": 9,
     "metadata": {},
     "output_type": "execute_result"
    }
   ],
   "source": [
    "df['Категория'].unique()"
   ]
  },
  {
   "cell_type": "code",
   "execution_count": 10,
   "metadata": {
    "executionInfo": {
     "elapsed": 1,
     "status": "ok",
     "timestamp": 1694299514504,
     "user": {
      "displayName": "Леонид Чесников",
      "userId": "02283243865444924445"
     },
     "user_tz": -180
    },
    "id": "RCfNHfO6BI7y",
    "tags": []
   },
   "outputs": [],
   "source": [
    "labels_cat = ['A', 'AA', 'AAA', 'B', 'BB', 'BBB', 'C']"
   ]
  },
  {
   "cell_type": "code",
   "execution_count": 11,
   "metadata": {
    "colab": {
     "base_uri": "https://localhost:8080/"
    },
    "executionInfo": {
     "elapsed": 2,
     "status": "ok",
     "timestamp": 1694299514884,
     "user": {
      "displayName": "Леонид Чесников",
      "userId": "02283243865444924445"
     },
     "user_tz": -180
    },
    "id": "wOVGoKEzH8le",
    "outputId": "c333852b-cf03-44d8-ead3-34a6de22641b",
    "tags": []
   },
   "outputs": [
    {
     "data": {
      "text/plain": [
       "array(['A', 'BB', 'AAA', 'BBB', 'AA+', 'BB+', 'BB-', 'A-', 'A+', 'B',\n",
       "       'AA-', 'BBB+', 'BBB-', 'B-', 'AA', 'B+', 'C'], dtype=object)"
      ]
     },
     "execution_count": 11,
     "metadata": {},
     "output_type": "execute_result"
    }
   ],
   "source": [
    "df['Уровень рейтинга'].unique()"
   ]
  },
  {
   "cell_type": "code",
   "execution_count": 12,
   "metadata": {
    "executionInfo": {
     "elapsed": 1,
     "status": "ok",
     "timestamp": 1694299515512,
     "user": {
      "displayName": "Леонид Чесников",
      "userId": "02283243865444924445"
     },
     "user_tz": -180
    },
    "id": "q_7wXkxGBI7y",
    "tags": []
   },
   "outputs": [],
   "source": [
    "labels_rat = ['A+', 'A', 'A-', 'AA+', 'AA', 'AA-', 'AAA', 'B+', 'B', 'B-', 'BB+', 'BB', 'BB-', 'BBB+', 'BBB', 'BBB-', 'C']"
   ]
  },
  {
   "cell_type": "code",
   "execution_count": 13,
   "metadata": {
    "colab": {
     "base_uri": "https://localhost:8080/"
    },
    "executionInfo": {
     "elapsed": 2,
     "status": "ok",
     "timestamp": 1694299515803,
     "user": {
      "displayName": "Леонид Чесников",
      "userId": "02283243865444924445"
     },
     "user_tz": -180
    },
    "id": "w7C8UBujH8le",
    "outputId": "b59103e5-16e2-4b06-ba21-b7b6bb1e86ff",
    "tags": []
   },
   "outputs": [
    {
     "data": {
      "text/plain": [
       "(1200,)"
      ]
     },
     "execution_count": 13,
     "metadata": {},
     "output_type": "execute_result"
    }
   ],
   "source": [
    "df['pr_txt'].unique().shape"
   ]
  },
  {
   "cell_type": "markdown",
   "metadata": {
    "id": "OItmXHrMYKYT"
   },
   "source": [
    "# Class\n",
    "\n",
    "Основной класс для работы с NLP"
   ]
  },
  {
   "cell_type": "code",
   "execution_count": 14,
   "metadata": {
    "executionInfo": {
     "elapsed": 272,
     "status": "ok",
     "timestamp": 1694300363999,
     "user": {
      "displayName": "Леонид Чесников",
      "userId": "02283243865444924445"
     },
     "user_tz": -180
    },
    "id": "oji5YhJEH8li",
    "tags": []
   },
   "outputs": [],
   "source": [
    "class Nlp:\n",
    "    def __init__(self):\n",
    "        # Инициализация объектов, необходимых для обработки текста с использованием Natasha и Spacy.\n",
    "        self.segmenter = Segmenter()  # Сегментация текста на предложения.\n",
    "        self.morph_vocab = MorphVocab()  # Создание словаря морфологических данных.\n",
    "        self.emb = NewsEmbedding()  # Получение векторных представлений слов.\n",
    "        self.morph_tagger = NewsMorphTagger(self.emb)  # Морфологическая разметка текста.\n",
    "        self.ner_tagger = NewsNERTagger(self.emb)  # Распознавание именованных сущностей.\n",
    "        self.loc_extractor = AddrExtractor(self.morph_vocab)  # Извлечение адресов.\n",
    "        self.names_extractor = NamesExtractor(self.morph_vocab)  # Извлечение имен.\n",
    "        self.translator = str.maketrans({chr(10): '', chr(9): ''})\n",
    "        self.stop_words = ['АО «Эксперт РА', 'АКРА', 'Компания', 'Группа', 'Эксперт РА', 'Рейтинговое агентство', 'АО Эксперт  РА', 'Кредитные', 'Оценка внешнее влияние', 'Группа.']\n",
    "\n",
    "\n",
    "    # Очищаем текст регулярными выражениями\n",
    "    def clear_text(self, text):\n",
    "        soup = BeautifulSoup(text)\n",
    "        text = soup.get_text()\n",
    "        text = re.sub(r'(http\\S+)|(www\\S+)|([\\w\\d]+www\\S+)|([\\w\\d]+http\\S+)', '', text)\n",
    "        text = re.sub(r'[\\n\\t\\«]', ' ', text).strip()  # Перенос, табуляция\n",
    "        text = re.sub(r'[^\\w\\d\\s\\.\\,\\\"]', ' ', text)  # Только слова, цифры, пробелы, точки и запятые\n",
    "        text = re.sub(r'\\s+', ' ', text)  # Удаляем двойные пробелы\n",
    "        pat = \"\\s+([{}]+)\".format(re.escape(\"\\.\\,\"))\n",
    "        text = re.sub(\"\\s{2,}\", \" \", re.sub(pat, r\"\\1\", text))\n",
    "        return text\n",
    "\n",
    "\n",
    "    def natasha_preprocessing(self, text) -> Doc:\n",
    "        # Предобработка текста с использованием библиотеки Natasha.\n",
    "        assert type(text) == str  # Проверка на входной текст.\n",
    "        doc = Doc(text)  # Создание объекта Doc для текста.\n",
    "        doc.segment(self.segmenter)  # Сегментация текста на предложения.\n",
    "        doc.tag_morph(self.morph_tagger)  # Морфологическая разметка текста.\n",
    "        doc.tag_ner(self.ner_tagger)  # Распознавание именованных сущностей.\n",
    "        return doc\n",
    "\n",
    "\n",
    "    # В категорийные признаки\n",
    "    def to_categorical(self, df, labels):\n",
    "        le = LabelEncoder()\n",
    "        le.fit(labels)\n",
    "        label = le.transform(df)\n",
    "        return to_categorical(label, num_classes=len(labels), dtype='int')\n",
    "\n",
    "\n",
    "    def get_features(self, text):\n",
    "        doc = Doc(text)  # Создание объекта Doc для текста.\n",
    "        doc.segment(self.segmenter)  # Сегментация текста на предложения.\n",
    "        doc.tag_morph(self.morph_tagger)  # Морфологическая разметка текста.\n",
    "        doc.tag_ner(self.ner_tagger)\n",
    "        words = [token.text for token in doc.tokens if token.pos not in [\"ADP\", \"PUNCT\", \"NUM\", \"CCONJ\", 'PROPN']]\n",
    "        count = len(words)  # Количество слов в строке\n",
    "        if count > 0:\n",
    "            average = sum(len(word) for word in words) / count\n",
    "            uniq = round(100*len(set(words))/count)  # % уникальных слов в строке\n",
    "        for span in doc.spans:\n",
    "          span.normalize(self.morph_vocab)  # Нормализация именованных сущностей.\n",
    "        ners = [(span.normal, span.type) for span in doc.spans if span.normal not in self.stop_words]\n",
    "        counted_ners = self.ners_counter(ners)\n",
    "        features_list = [count, average, uniq, counted_ners[\"ORG\"], counted_ners[\"LOC\"], counted_ners[\"PER\"]]\n",
    "        return features_list\n",
    "\n",
    "\n",
    "    def tag_ner(self, text) -> list:\n",
    "        # Извлечение именованных сущностей из текста.\n",
    "        doc = self.natasha_preprocessing(text)\n",
    "        for span in doc.spans:\n",
    "            span.normalize(self.morph_vocab)  # Нормализация именованных сущностей.\n",
    "        return [(span.start, span.stop, span.normal, span.type) for span in doc.spans if span.normal not in self.stop_words]\n",
    "\n",
    "\n",
    "    def ners_counter(self, ners):\n",
    "        counted_ners = {\"ORG\": 0, \"LOC\": 0, \"PER\": 0}\n",
    "        for ner in ners:\n",
    "            counted_ners[ner[1]] += 1\n",
    "        return counted_ners"
   ]
  },
  {
   "cell_type": "code",
   "execution_count": 15,
   "metadata": {
    "executionInfo": {
     "elapsed": 1618,
     "status": "ok",
     "timestamp": 1694300366374,
     "user": {
      "displayName": "Леонид Чесников",
      "userId": "02283243865444924445"
     },
     "user_tz": -180
    },
    "id": "vGWINMF-YV6h",
    "tags": []
   },
   "outputs": [],
   "source": [
    "nlp = Nlp()"
   ]
  },
  {
   "cell_type": "markdown",
   "metadata": {
    "id": "Ma0LcGcaH8li"
   },
   "source": [
    "# Cleaning up text\n",
    "Очищаем текст HTML, гиперссылок, прочих ненужных символов и двойных пробелов"
   ]
  },
  {
   "cell_type": "code",
   "execution_count": 16,
   "metadata": {
    "executionInfo": {
     "elapsed": 519,
     "status": "ok",
     "timestamp": 1694299524745,
     "user": {
      "displayName": "Леонид Чесников",
      "userId": "02283243865444924445"
     },
     "user_tz": -180
    },
    "id": "HS-2rP7xH8li",
    "tags": []
   },
   "outputs": [],
   "source": [
    "sample_text = ' Присвоенный  https://raexpert.ru/ratings/methods/current \")     рейтинг и прогноз <rating> по нему отражают всю существенную информацию в отношении  объекта рейтинга'"
   ]
  },
  {
   "cell_type": "code",
   "execution_count": 17,
   "metadata": {
    "colab": {
     "base_uri": "https://localhost:8080/"
    },
    "executionInfo": {
     "elapsed": 3,
     "status": "ok",
     "timestamp": 1694299524745,
     "user": {
      "displayName": "Леонид Чесников",
      "userId": "02283243865444924445"
     },
     "user_tz": -180
    },
    "id": "1YNxXZbRH8lj",
    "outputId": "64a75c69-11f0-4dc2-a5eb-6d35101687fe",
    "tags": []
   },
   "outputs": [
    {
     "name": "stdout",
     "output_type": "stream",
     "text": [
      "ДО:  Присвоенный  https://raexpert.ru/ratings/methods/current \")     рейтинг и прогноз <rating> по нему отражают всю существенную информацию в отношении  объекта рейтинга\n",
      "\n",
      "ПОСЛЕ: Присвоенный \" рейтинг и прогноз по нему отражают всю существенную информацию в отношении объекта рейтинга\n"
     ]
    }
   ],
   "source": [
    "cleared_text = nlp.clear_text(sample_text)\n",
    "print('ДО:', sample_text)\n",
    "print()\n",
    "print('ПОСЛЕ:', cleared_text)"
   ]
  },
  {
   "cell_type": "code",
   "execution_count": 18,
   "metadata": {
    "colab": {
     "base_uri": "https://localhost:8080/"
    },
    "executionInfo": {
     "elapsed": 742,
     "status": "ok",
     "timestamp": 1694300369463,
     "user": {
      "displayName": "Леонид Чесников",
      "userId": "02283243865444924445"
     },
     "user_tz": -180
    },
    "id": "kPoo7De3H8lj",
    "outputId": "94dbbf49-d87b-42fc-bdfc-a31b62d81ea9",
    "tags": []
   },
   "outputs": [
    {
     "name": "stdout",
     "output_type": "stream",
     "text": [
      "1200\n"
     ]
    }
   ],
   "source": [
    "cleared_text_list = []\n",
    "for i in range(df.shape[0]):\n",
    "    text = nlp.clear_text(df['pr_txt'].iloc[i])\n",
    "    cleared_text_list.append(text)\n",
    "\n",
    "print(len(cleared_text_list))"
   ]
  },
  {
   "cell_type": "markdown",
   "metadata": {
    "id": "8bEeYcX1H8lf"
   },
   "source": [
    "# To categorical\n",
    "\n",
    "Переводим каегории и рейтинги в OHE"
   ]
  },
  {
   "cell_type": "code",
   "execution_count": 19,
   "metadata": {
    "colab": {
     "base_uri": "https://localhost:8080/"
    },
    "executionInfo": {
     "elapsed": 453,
     "status": "ok",
     "timestamp": 1694300372430,
     "user": {
      "displayName": "Леонид Чесников",
      "userId": "02283243865444924445"
     },
     "user_tz": -180
    },
    "id": "UDoYmuM3H8lf",
    "outputId": "15e32428-ddef-4f5d-99c1-e19c6565343d",
    "tags": []
   },
   "outputs": [
    {
     "name": "stdout",
     "output_type": "stream",
     "text": [
      "(1200, 7) (1200, 17)\n"
     ]
    }
   ],
   "source": [
    "cat_categorical = nlp.to_categorical(df['Категория'], labels_cat)\n",
    "rating_categorical = nlp.to_categorical(df['Уровень рейтинга'], labels_rat)\n",
    "print(cat_categorical.shape, rating_categorical.shape)"
   ]
  },
  {
   "cell_type": "markdown",
   "metadata": {
    "id": "nzyZH2FGbwTl"
   },
   "source": [
    "# To dataFrame"
   ]
  },
  {
   "cell_type": "code",
   "execution_count": 20,
   "metadata": {
    "colab": {
     "base_uri": "https://localhost:8080/"
    },
    "executionInfo": {
     "elapsed": 255,
     "status": "ok",
     "timestamp": 1694300375560,
     "user": {
      "displayName": "Леонид Чесников",
      "userId": "02283243865444924445"
     },
     "user_tz": -180
    },
    "id": "xgprLwhgH8lj",
    "outputId": "f69ef295-d7f7-446f-a222-2a35df1180c4",
    "tags": []
   },
   "outputs": [
    {
     "name": "stdout",
     "output_type": "stream",
     "text": [
      "(1200, 1) (1200, 7) (1200, 17)\n"
     ]
    }
   ],
   "source": [
    "df_text = pd.DataFrame(cleared_text_list, columns=['text'])\n",
    "df_cat = pd.DataFrame(cat_categorical)\n",
    "df_rat = pd.DataFrame(rating_categorical)\n",
    "print(df_text.shape, df_cat.shape, df_rat.shape)"
   ]
  },
  {
   "cell_type": "markdown",
   "metadata": {
    "id": "4qcF_TNFH8lk"
   },
   "source": [
    "## Feature Extraction\n",
    "Извлекаем дополнительные признаки, такие как:\n",
    "- NER - имена, названия\n",
    "- NER - даты\n",
    "- NER - деньги  # Выкидывает ошибку на обработке некоторых текстов\n",
    "- NER - локации, адреса\n",
    "- длинна текста\n",
    "- средняя длинна слова\n",
    "- уникальность текста\n",
    "\n",
    "ВНИМАНИЕ!\n",
    "Извлечение именованных сущностей - долгий процесс!!!"
   ]
  },
  {
   "cell_type": "code",
   "execution_count": 21,
   "metadata": {
    "colab": {
     "base_uri": "https://localhost:8080/"
    },
    "executionInfo": {
     "elapsed": 45082,
     "status": "ok",
     "timestamp": 1694300425852,
     "user": {
      "displayName": "Леонид Чесников",
      "userId": "02283243865444924445"
     },
     "user_tz": -180
    },
    "id": "Urcx9k1Cp9g8",
    "outputId": "0a7869f7-b7c4-4214-aa41-2ab82d5fcf1c",
    "tags": []
   },
   "outputs": [
    {
     "data": {
      "text/plain": [
       "(1200, 6)"
      ]
     },
     "execution_count": 21,
     "metadata": {},
     "output_type": "execute_result"
    }
   ],
   "source": [
    "x_features = np.array(list(df_text['text'].map(nlp.get_features)))\n",
    "x_features.shape"
   ]
  },
  {
   "cell_type": "code",
   "execution_count": 22,
   "metadata": {
    "colab": {
     "base_uri": "https://localhost:8080/"
    },
    "executionInfo": {
     "elapsed": 3,
     "status": "ok",
     "timestamp": 1694300426746,
     "user": {
      "displayName": "Леонид Чесников",
      "userId": "02283243865444924445"
     },
     "user_tz": -180
    },
    "id": "eqr83PUXH8lm",
    "outputId": "5889f745-70b5-4ad0-9611-5a28ac595469"
   },
   "outputs": [
    {
     "data": {
      "text/plain": [
       "array([[7.94000000e+02, 8.11335013e+00, 6.10000000e+01, 2.80000000e+01,\n",
       "        8.00000000e+00, 0.00000000e+00],\n",
       "       [7.48000000e+02, 8.32085561e+00, 7.00000000e+01, 3.30000000e+01,\n",
       "        3.00000000e+00, 0.00000000e+00],\n",
       "       [1.10800000e+03, 8.13357401e+00, 6.40000000e+01, 4.50000000e+01,\n",
       "        2.50000000e+01, 2.00000000e+00],\n",
       "       ...,\n",
       "       [8.03000000e+02, 8.00747198e+00, 6.00000000e+01, 3.60000000e+01,\n",
       "        4.00000000e+00, 1.00000000e+00],\n",
       "       [9.39000000e+02, 8.02449414e+00, 6.50000000e+01, 3.60000000e+01,\n",
       "        2.40000000e+01, 0.00000000e+00],\n",
       "       [1.11200000e+03, 7.98291367e+00, 6.50000000e+01, 4.70000000e+01,\n",
       "        4.00000000e+00, 0.00000000e+00]])"
      ]
     },
     "execution_count": 22,
     "metadata": {},
     "output_type": "execute_result"
    }
   ],
   "source": [
    "x_features"
   ]
  },
  {
   "cell_type": "code",
   "execution_count": 23,
   "metadata": {
    "executionInfo": {
     "elapsed": 268,
     "status": "ok",
     "timestamp": 1694300460868,
     "user": {
      "displayName": "Леонид Чесников",
      "userId": "02283243865444924445"
     },
     "user_tz": -180
    },
    "id": "hy09UmKMH8lm"
   },
   "outputs": [],
   "source": [
    "x_features_np = np.array(x_features)"
   ]
  },
  {
   "cell_type": "code",
   "execution_count": 24,
   "metadata": {
    "id": "xiNQM72lBI78"
   },
   "outputs": [],
   "source": [
    "np.save(DIR + 'x_features_3.npy', x_features_np)"
   ]
  },
  {
   "cell_type": "code",
   "execution_count": 25,
   "metadata": {
    "colab": {
     "base_uri": "https://localhost:8080/"
    },
    "executionInfo": {
     "elapsed": 261,
     "status": "ok",
     "timestamp": 1694300610344,
     "user": {
      "displayName": "Леонид Чесников",
      "userId": "02283243865444924445"
     },
     "user_tz": -180
    },
    "id": "2qUCjThqBI78",
    "outputId": "22957afe-e5ca-41d6-f1f0-fafd38f527ef"
   },
   "outputs": [
    {
     "name": "stdout",
     "output_type": "stream",
     "text": [
      "<class 'pandas.core.frame.DataFrame'>\n",
      "RangeIndex: 1200 entries, 0 to 1199\n",
      "Data columns (total 6 columns):\n",
      " #   Column    Non-Null Count  Dtype  \n",
      "---  ------    --------------  -----  \n",
      " 0   name      1200 non-null   float64\n",
      " 1   date      1200 non-null   float64\n",
      " 2   location  1200 non-null   float64\n",
      " 3   count     1200 non-null   float64\n",
      " 4   average   1200 non-null   float64\n",
      " 5   uniq      1200 non-null   float64\n",
      "dtypes: float64(6)\n",
      "memory usage: 56.4 KB\n"
     ]
    }
   ],
   "source": [
    "df_features = pd.DataFrame(x_features, columns=['name', 'date', 'location', 'count', 'average', 'uniq'])\n",
    "df_features.to_csv(DIR + 'df_features_2.csv')\n",
    "df_features.info()"
   ]
  },
  {
   "cell_type": "code",
   "execution_count": 26,
   "metadata": {
    "executionInfo": {
     "elapsed": 299,
     "status": "ok",
     "timestamp": 1694300535768,
     "user": {
      "displayName": "Леонид Чесников",
      "userId": "02283243865444924445"
     },
     "user_tz": -180
    },
    "id": "Rwu0RjlkBI78"
   },
   "outputs": [],
   "source": [
    "# x_features_np = numpy.load(DIR + 'x_features_3.npy')"
   ]
  },
  {
   "cell_type": "code",
   "execution_count": 27,
   "metadata": {
    "id": "vX1KVX3YBI78"
   },
   "outputs": [],
   "source": [
    "# df_features = pd.read_csv(DIR + 'df_features_3.csv')"
   ]
  },
  {
   "cell_type": "markdown",
   "metadata": {
    "id": "cVFjipr9H8lk"
   },
   "source": [
    "# Data analysis"
   ]
  },
  {
   "cell_type": "markdown",
   "metadata": {
    "id": "262x0TNnH8ln",
    "jp-MarkdownHeadingCollapsed": true,
    "tags": []
   },
   "source": [
    "### Histogramm"
   ]
  },
  {
   "cell_type": "code",
   "execution_count": 28,
   "metadata": {
    "colab": {
     "base_uri": "https://localhost:8080/",
     "height": 367
    },
    "executionInfo": {
     "elapsed": 1224,
     "status": "ok",
     "timestamp": 1694199190772,
     "user": {
      "displayName": "Алексей Домненко",
      "userId": "15727968404806094454"
     },
     "user_tz": -240
    },
    "id": "CpL6RPJ3H8ln",
    "outputId": "e227327e-5943-4ee8-be6e-43bffdf645a7"
   },
   "outputs": [
    {
     "data": {
      "text/plain": [
       "Text(0, 0.5, 'Количество текстов')"
      ]
     },
     "execution_count": 28,
     "metadata": {},
     "output_type": "execute_result"
    },
    {
     "data": {
      "image/png": "[encoded data removed]",
      "text/plain": [
       "<Figure size 1600x400 with 3 Axes>"
      ]
     },
     "metadata": {},
     "output_type": "display_data"
    }
   ],
   "source": [
    "fig, axs = plt.subplots(1, 3, figsize=(16, 4))\n",
    "\n",
    "n_bins = 10\n",
    "axs[0].hist(x_features_np[:,3], bins=n_bins)\n",
    "axs[0].set_title('Количество слов в тексте')\n",
    "axs[0].set_xlabel(\"Длина строки\")\n",
    "axs[0].set_ylabel(\"Количество текстов\")\n",
    "axs[1].hist(x_features_np[:,4], bins=n_bins)\n",
    "axs[1].set_title('Средняя длинна слова')\n",
    "axs[1].set_ylabel(\"Количество текстов\")\n",
    "axs[2].hist(x_features_np[:,5], bins=n_bins)\n",
    "axs[2].set_title('Уникальных слов')\n",
    "axs[2].set_xlabel(\"Процент уникальности\")\n",
    "axs[2].set_ylabel(\"Количество текстов\")"
   ]
  },
  {
   "cell_type": "markdown",
   "metadata": {
    "id": "0kqBuky3H8lo",
    "jp-MarkdownHeadingCollapsed": true,
    "tags": []
   },
   "source": [
    "### Scatter"
   ]
  },
  {
   "cell_type": "code",
   "execution_count": 29,
   "metadata": {
    "colab": {
     "base_uri": "https://localhost:8080/",
     "height": 501
    },
    "executionInfo": {
     "elapsed": 1390,
     "status": "ok",
     "timestamp": 1694200956214,
     "user": {
      "displayName": "Алексей Домненко",
      "userId": "15727968404806094454"
     },
     "user_tz": -240
    },
    "id": "L7dvAa8lH8lo",
    "outputId": "503129d1-9b02-42e3-b2c5-5158bab02601"
   },
   "outputs": [
    {
     "data": {
      "image/png": "[encoded data removed]",
      "text/plain": [
       "<Figure size 1000x500 with 1 Axes>"
      ]
     },
     "metadata": {},
     "output_type": "display_data"
    }
   ],
   "source": [
    "x_np = np.arange(0, df_text['text'].shape[0])\n",
    "\n",
    "plt.figure(figsize=(10, 5))\n",
    "plt.title(label = 'Количество слов', fontsize=20)\n",
    "plt.xlabel('Количество слов', fontsize=16)\n",
    "plt.ylabel('Тексты', fontsize=16)\n",
    "plt.scatter(x_features_np[:,0], x_np)\n",
    "plt.scatter(np.sort(x_features_np[:,0]), x_np)\n",
    "plt.show()"
   ]
  },
  {
   "cell_type": "markdown",
   "metadata": {
    "id": "lfitHy_3H8lo",
    "jp-MarkdownHeadingCollapsed": true,
    "tags": []
   },
   "source": [
    "### Fractions"
   ]
  },
  {
   "cell_type": "code",
   "execution_count": 30,
   "metadata": {
    "colab": {
     "base_uri": "https://localhost:8080/",
     "height": 544
    },
    "executionInfo": {
     "elapsed": 1645,
     "status": "ok",
     "timestamp": 1694200733152,
     "user": {
      "displayName": "Алексей Домненко",
      "userId": "15727968404806094454"
     },
     "user_tz": -240
    },
    "id": "O3M0JxbsH8lr",
    "outputId": "ef0e51b4-0f5f-498e-a892-70c74323389c"
   },
   "outputs": [
    {
     "data": {
      "image/png": "[encoded data removed]",
      "text/plain": [
       "<Figure size 2000x1000 with 2 Axes>"
      ]
     },
     "metadata": {},
     "output_type": "display_data"
    }
   ],
   "source": [
    "# === Категории ===\n",
    "cat_list = ['A', 'BB', 'AAA', 'BBB', 'AA', 'B', 'C']\n",
    "cat_frac_list = []\n",
    "for cat in cat_list:\n",
    "  frac = round(100*df[df['Категория'] == cat].shape[0]/df.shape[0], 2)\n",
    "  cat_frac_list.append(frac)\n",
    "\n",
    "# === Рейтинги ===\n",
    "rat_list = ['A', 'BB', 'AAA', 'BBB', 'AA+', 'BB+', 'BB-', 'A-', 'A+', 'B', 'AA-', 'BBB+', 'BBB-', 'B-', 'AA', 'B+', 'C']\n",
    "rat_frac_list = []\n",
    "for rat in rat_list:\n",
    "  frac = round(100*df[df['Уровень рейтинга'] == rat].shape[0]/df.shape[0], 2)\n",
    "  rat_frac_list.append(frac)\n",
    "\n",
    "fig, axs = plt.subplots(1, 2, figsize=(20, 10))\n",
    "axs[0].pie(cat_frac_list, labels=cat_list, autopct='%1.1f%%', explode=(0.05, 0.05, 0.05, 0.05, 0.05, 0.05, 0.05), textprops = {\"fontsize\":16})\n",
    "axs[0].set_title(label='Распределение категорий', fontsize=20)\n",
    "axs[1].pie(rat_frac_list, labels=rat_list, autopct='%1.1f%%', explode=(0.05, 0.05, 0.05, 0.05, 0.05, 0.05, 0.05, 0.05, 0.05, 0.05, 0.05, 0.05, 0.05, 0.05, 0.05, 0.05, 0.05), textprops = {\"fontsize\":16})\n",
    "axs[1].set_title(label='Распределение рейтингов', fontsize=20)\n",
    "plt.show()\n"
   ]
  },
  {
   "cell_type": "markdown",
   "metadata": {
    "id": "L1j16OktH8ls"
   },
   "source": [
    "# train_test_split"
   ]
  },
  {
   "cell_type": "code",
   "execution_count": 31,
   "metadata": {
    "executionInfo": {
     "elapsed": 2,
     "status": "ok",
     "timestamp": 1694300613943,
     "user": {
      "displayName": "Леонид Чесников",
      "userId": "02283243865444924445"
     },
     "user_tz": -180
    },
    "id": "MzcXXfqTaY3e"
   },
   "outputs": [],
   "source": [
    "x_cat_train, x_cat_val, y_cat_train, y_cat_val = train_test_split(df_text, df_cat, train_size=0.8, random_state=12)\n",
    "x_rat_train, x_rat_val, y_rat_train, y_rat_val = train_test_split(df_text, df_rat, train_size=0.8, random_state=12)\n",
    "x_feat_train, x_feat_val = train_test_split(x_features, train_size=0.8, random_state=12)"
   ]
  },
  {
   "cell_type": "code",
   "execution_count": 32,
   "metadata": {
    "colab": {
     "base_uri": "https://localhost:8080/"
    },
    "executionInfo": {
     "elapsed": 2,
     "status": "ok",
     "timestamp": 1694300614408,
     "user": {
      "displayName": "Леонид Чесников",
      "userId": "02283243865444924445"
     },
     "user_tz": -180
    },
    "id": "hOtvQ7fzPLCD",
    "outputId": "53f2ad13-8ab1-4899-c749-b831cff6e628"
   },
   "outputs": [
    {
     "name": "stdout",
     "output_type": "stream",
     "text": [
      "(960, 1) (240, 1)\n",
      "(960, 1) (240, 1)\n",
      "(960, 6) (240, 6)\n"
     ]
    }
   ],
   "source": [
    "print(x_cat_train.shape, x_cat_val.shape)\n",
    "print(x_rat_train.shape, x_rat_val.shape)\n",
    "print(x_feat_train.shape, x_feat_val.shape)"
   ]
  },
  {
   "cell_type": "code",
   "execution_count": 33,
   "metadata": {
    "colab": {
     "base_uri": "https://localhost:8080/"
    },
    "executionInfo": {
     "elapsed": 2,
     "status": "ok",
     "timestamp": 1694300615043,
     "user": {
      "displayName": "Леонид Чесников",
      "userId": "02283243865444924445"
     },
     "user_tz": -180
    },
    "id": "fmnlP1fxPWPS",
    "outputId": "fda4d2af-6cdb-4726-de35-6431021e8bb9"
   },
   "outputs": [
    {
     "name": "stdout",
     "output_type": "stream",
     "text": [
      "(960, 7) (240, 7)\n",
      "(960, 17) (240, 17)\n"
     ]
    }
   ],
   "source": [
    "print(y_cat_train.shape, y_cat_val.shape)\n",
    "print(y_rat_train.shape, y_rat_val.shape)"
   ]
  },
  {
   "cell_type": "markdown",
   "metadata": {
    "id": "rJKrNs-QAiJK"
   },
   "source": [
    "# Loading the BERT Model\n",
    "We will load two models, one for pre-processing and one for coding. Model links are below."
   ]
  },
  {
   "cell_type": "code",
   "execution_count": 34,
   "metadata": {
    "executionInfo": {
     "elapsed": 36575,
     "status": "ok",
     "timestamp": 1694299964657,
     "user": {
      "displayName": "Леонид Чесников",
      "userId": "02283243865444924445"
     },
     "user_tz": -180
    },
    "id": "jxiMgVeUAtK6"
   },
   "outputs": [
    {
     "name": "stderr",
     "output_type": "stream",
     "text": [
      "2023-09-10 05:47:04.921216: I tensorflow/compiler/xla/stream_executor/cuda/cuda_gpu_executor.cc:995] successful NUMA node read from SysFS had negative value (-1), but there must be at least one NUMA node, so returning NUMA node zero. See more at https://github.com/torvalds/linux/blob/v6.0/Documentation/ABI/testing/sysfs-bus-pci#L344-L355\n",
      "2023-09-10 05:47:04.934070: I tensorflow/compiler/xla/stream_executor/cuda/cuda_gpu_executor.cc:995] successful NUMA node read from SysFS had negative value (-1), but there must be at least one NUMA node, so returning NUMA node zero. See more at https://github.com/torvalds/linux/blob/v6.0/Documentation/ABI/testing/sysfs-bus-pci#L344-L355\n",
      "2023-09-10 05:47:04.934157: I tensorflow/compiler/xla/stream_executor/cuda/cuda_gpu_executor.cc:995] successful NUMA node read from SysFS had negative value (-1), but there must be at least one NUMA node, so returning NUMA node zero. See more at https://github.com/torvalds/linux/blob/v6.0/Documentation/ABI/testing/sysfs-bus-pci#L344-L355\n",
      "2023-09-10 05:47:04.935212: I tensorflow/compiler/xla/stream_executor/cuda/cuda_gpu_executor.cc:995] successful NUMA node read from SysFS had negative value (-1), but there must be at least one NUMA node, so returning NUMA node zero. See more at https://github.com/torvalds/linux/blob/v6.0/Documentation/ABI/testing/sysfs-bus-pci#L344-L355\n",
      "2023-09-10 05:47:04.935272: I tensorflow/compiler/xla/stream_executor/cuda/cuda_gpu_executor.cc:995] successful NUMA node read from SysFS had negative value (-1), but there must be at least one NUMA node, so returning NUMA node zero. See more at https://github.com/torvalds/linux/blob/v6.0/Documentation/ABI/testing/sysfs-bus-pci#L344-L355\n",
      "2023-09-10 05:47:04.935309: I tensorflow/compiler/xla/stream_executor/cuda/cuda_gpu_executor.cc:995] successful NUMA node read from SysFS had negative value (-1), but there must be at least one NUMA node, so returning NUMA node zero. See more at https://github.com/torvalds/linux/blob/v6.0/Documentation/ABI/testing/sysfs-bus-pci#L344-L355\n",
      "2023-09-10 05:47:05.222980: I tensorflow/compiler/xla/stream_executor/cuda/cuda_gpu_executor.cc:995] successful NUMA node read from SysFS had negative value (-1), but there must be at least one NUMA node, so returning NUMA node zero. See more at https://github.com/torvalds/linux/blob/v6.0/Documentation/ABI/testing/sysfs-bus-pci#L344-L355\n",
      "2023-09-10 05:47:05.223070: I tensorflow/compiler/xla/stream_executor/cuda/cuda_gpu_executor.cc:995] successful NUMA node read from SysFS had negative value (-1), but there must be at least one NUMA node, so returning NUMA node zero. See more at https://github.com/torvalds/linux/blob/v6.0/Documentation/ABI/testing/sysfs-bus-pci#L344-L355\n",
      "2023-09-10 05:47:05.223134: I tensorflow/compiler/xla/stream_executor/cuda/cuda_gpu_executor.cc:995] successful NUMA node read from SysFS had negative value (-1), but there must be at least one NUMA node, so returning NUMA node zero. See more at https://github.com/torvalds/linux/blob/v6.0/Documentation/ABI/testing/sysfs-bus-pci#L344-L355\n",
      "2023-09-10 05:47:05.223179: I tensorflow/core/common_runtime/gpu/gpu_device.cc:1639] Created device /job:localhost/replica:0/task:0/device:GPU:0 with 21855 MB memory:  -> device: 0, name: NVIDIA GeForce RTX 4090, pci bus id: 0000:01:00.0, compute capability: 8.9\n"
     ]
    }
   ],
   "source": [
    "bert_preprocess = hub.KerasLayer(\"https://tfhub.dev/tensorflow/bert_multi_cased_preprocess/3\")\n",
    "bert_encoder = hub.KerasLayer(\"https://tfhub.dev/tensorflow/bert_multi_cased_L-12_H-768_A-12/4\", trainable=True)"
   ]
  },
  {
   "cell_type": "markdown",
   "metadata": {
    "id": "1uU4JSvFBJqa"
   },
   "source": [
    "# Initializing BERT Layers\n",
    "In the code below, create an input layer using the tf.keras.layers.Input method. Will use **preprocessed_text** as input for this layer.\n",
    "\n",
    "The **bert_encoder** function then converts the preprocessed text into embadding vectors. This will be the output of this layer. The **outputs** will then be passed to the layers of the neural network."
   ]
  },
  {
   "cell_type": "code",
   "execution_count": 35,
   "metadata": {
    "id": "U7cpoot3BOiw"
   },
   "outputs": [],
   "source": [
    "text_input = Input(shape=(), dtype=tf.string, name='text')\n",
    "preprocessed_text = bert_preprocess(text_input)\n",
    "outputs = bert_encoder(preprocessed_text)"
   ]
  },
  {
   "cell_type": "markdown",
   "metadata": {
    "id": "jJKwk9YufHVy"
   },
   "source": [
    "# === model_cat ===\n",
    "Модель для работы с категориями\n",
    "Представляет собой Fine Tuning BERT (SOTA) - предварительно обученная модель, которая дообучается на наших данных.\n",
    "Дополнительно для улучшения скора - создаём дополнительный вход и подаём туда фичи.\n",
    "Итого, модель с 2 входами:\n",
    "- текст\n",
    "- 6 признаков\n"
   ]
  },
  {
   "cell_type": "markdown",
   "metadata": {
    "id": "QKuuM5U3ftpy"
   },
   "source": [
    "## Model with multiple inputs\n",
    "Модель с двумя входами"
   ]
  },
  {
   "cell_type": "code",
   "execution_count": 36,
   "metadata": {
    "executionInfo": {
     "elapsed": 2,
     "status": "ok",
     "timestamp": 1694300622435,
     "user": {
      "displayName": "Леонид Чесников",
      "userId": "02283243865444924445"
     },
     "user_tz": -180
    },
    "id": "Rane4-LffxP5"
   },
   "outputs": [],
   "source": [
    "text_input = Input(shape=(), dtype=tf.string, name='text_input')\n",
    "preprocessed_text = bert_preprocess(text_input)\n",
    "outputs = bert_encoder(preprocessed_text)\n",
    "\n",
    "features_input = Input(shape=(6), name='features_input')\n",
    "x_1 = outputs['pooled_output']\n",
    "x_2 = Dense(6, activation='relu')(features_input)\n",
    "x = concatenate([x_1, x_2])\n",
    "x = Dropout(0.25)(x)\n",
    "x_output = Dense(7, activation='softmax')(x)"
   ]
  },
  {
   "cell_type": "code",
   "execution_count": 37,
   "metadata": {
    "colab": {
     "base_uri": "https://localhost:8080/",
     "height": 343
    },
    "executionInfo": {
     "elapsed": 5,
     "status": "ok",
     "timestamp": 1694300622991,
     "user": {
      "displayName": "Леонид Чесников",
      "userId": "02283243865444924445"
     },
     "user_tz": -180
    },
    "id": "cCKJQ1SLfzui",
    "outputId": "3805dc8a-a775-42e1-d413-e153290babdd"
   },
   "outputs": [
    {
     "data": {
      "image/png": "[encoded data removed]",
      "text/plain": [
       "<IPython.core.display.Image object>"
      ]
     },
     "execution_count": 37,
     "metadata": {},
     "output_type": "execute_result"
    }
   ],
   "source": [
    "model_cat = Model(inputs=[text_input, features_input], outputs = [x_output])\n",
    "plot_model(model_cat, show_shapes=True, expand_nested=True, show_layer_names=True, dpi=50)"
   ]
  },
  {
   "cell_type": "code",
   "execution_count": 38,
   "metadata": {
    "colab": {
     "base_uri": "https://localhost:8080/"
    },
    "executionInfo": {
     "elapsed": 376,
     "status": "ok",
     "timestamp": 1694300623646,
     "user": {
      "displayName": "Леонид Чесников",
      "userId": "02283243865444924445"
     },
     "user_tz": -180
    },
    "id": "QF3yeXv6f1ik",
    "outputId": "262f8481-6a13-4c8f-b559-ff494b7735a7"
   },
   "outputs": [
    {
     "name": "stdout",
     "output_type": "stream",
     "text": [
      "Model: \"model\"\n",
      "__________________________________________________________________________________________________\n",
      " Layer (type)                Output Shape                 Param #   Connected to                  \n",
      "==================================================================================================\n",
      " text_input (InputLayer)     [(None,)]                    0         []                            \n",
      "                                                                                                  \n",
      " keras_layer (KerasLayer)    {'input_type_ids': (None,    0         ['text_input[0][0]']          \n",
      "                             128),                                                                \n",
      "                              'input_mask': (None, 128)                                           \n",
      "                             , 'input_word_ids': (None,                                           \n",
      "                              128)}                                                               \n",
      "                                                                                                  \n",
      " features_input (InputLayer  [(None, 6)]                  0         []                            \n",
      " )                                                                                                \n",
      "                                                                                                  \n",
      " keras_layer_1 (KerasLayer)  {'pooled_output': (None, 7   1778534   ['keras_layer[1][0]',         \n",
      "                             68),                         41         'keras_layer[1][1]',         \n",
      "                              'sequence_output': (None,              'keras_layer[1][2]']         \n",
      "                              128, 768),                                                          \n",
      "                              'encoder_outputs': [(None                                           \n",
      "                             , 128, 768),                                                         \n",
      "                              (None, 128, 768),                                                   \n",
      "                              (None, 128, 768),                                                   \n",
      "                              (None, 128, 768),                                                   \n",
      "                              (None, 128, 768),                                                   \n",
      "                              (None, 128, 768),                                                   \n",
      "                              (None, 128, 768),                                                   \n",
      "                              (None, 128, 768),                                                   \n",
      "                              (None, 128, 768),                                                   \n",
      "                              (None, 128, 768),                                                   \n",
      "                              (None, 128, 768),                                                   \n",
      "                              (None, 128, 768)],                                                  \n",
      "                              'default': (None, 768)}                                             \n",
      "                                                                                                  \n",
      " dense (Dense)               (None, 6)                    42        ['features_input[0][0]']      \n",
      "                                                                                                  \n",
      " concatenate (Concatenate)   (None, 774)                  0         ['keras_layer_1[1][13]',      \n",
      "                                                                     'dense[0][0]']               \n",
      "                                                                                                  \n",
      " dropout (Dropout)           (None, 774)                  0         ['concatenate[0][0]']         \n",
      "                                                                                                  \n",
      " dense_1 (Dense)             (None, 7)                    5425      ['dropout[0][0]']             \n",
      "                                                                                                  \n",
      "==================================================================================================\n",
      "Total params: 177858908 (678.48 MB)\n",
      "Trainable params: 177858907 (678.48 MB)\n",
      "Non-trainable params: 1 (1.00 Byte)\n",
      "__________________________________________________________________________________________________\n",
      "None\n"
     ]
    }
   ],
   "source": [
    "print(model_cat.summary())"
   ]
  },
  {
   "cell_type": "markdown",
   "metadata": {
    "id": "3rfUTb5uf3jZ"
   },
   "source": [
    "## Model complite\n",
    "Особенность - очень маленький шаг обучения. Для ускорения обучения до 5 - 7 эпох, можно поднять learning_rate до 0.00005, но не более. Далее - существенное снижение точности."
   ]
  },
  {
   "cell_type": "code",
   "execution_count": 39,
   "metadata": {
    "executionInfo": {
     "elapsed": 299,
     "status": "ok",
     "timestamp": 1694300626351,
     "user": {
      "displayName": "Леонид Чесников",
      "userId": "02283243865444924445"
     },
     "user_tz": -180
    },
    "id": "QNf-Q9e-f6pJ"
   },
   "outputs": [],
   "source": [
    "model_cat.compile(loss='categorical_crossentropy', optimizer=Adam(learning_rate=(0.00001)), metrics=['accuracy'])\n",
    "\n",
    "checkpointer = ModelCheckpoint(\n",
    "  filepath = DIR + 'model_cat_3_w.h5',\n",
    "  monitor = 'val_accuracy',\n",
    "  mode = 'max',\n",
    "  verbose = 1,\n",
    "  save_best_only = True\n",
    ")"
   ]
  },
  {
   "cell_type": "code",
   "execution_count": 40,
   "metadata": {
    "colab": {
     "base_uri": "https://localhost:8080/"
    },
    "id": "iP7QSVvWf8z5",
    "outputId": "89de49ba-1755-4ab3-f123-27036b67b115"
   },
   "outputs": [
    {
     "name": "stdout",
     "output_type": "stream",
     "text": [
      "Epoch 1/120\n"
     ]
    },
    {
     "name": "stderr",
     "output_type": "stream",
     "text": [
      "2023-09-10 05:47:15.819684: I tensorflow/compiler/xla/stream_executor/cuda/cuda_blas.cc:606] TensorFloat-32 will be used for the matrix multiplication. This will only be logged once.\n",
      "2023-09-10 05:47:15.843985: I tensorflow/compiler/xla/service/service.cc:168] XLA service 0x7fa5a40fc480 initialized for platform CUDA (this does not guarantee that XLA will be used). Devices:\n",
      "2023-09-10 05:47:15.843995: I tensorflow/compiler/xla/service/service.cc:176]   StreamExecutor device (0): NVIDIA GeForce RTX 4090, Compute Capability 8.9\n",
      "2023-09-10 05:47:15.846757: I tensorflow/compiler/mlir/tensorflow/utils/dump_mlir_util.cc:255] disabling MLIR crash reproducer, set env var `MLIR_CRASH_REPRODUCER_DIRECTORY` to enable.\n",
      "2023-09-10 05:47:15.929541: I tensorflow/compiler/xla/stream_executor/cuda/cuda_dnn.cc:432] Loaded cuDNN version 8600\n",
      "2023-09-10 05:47:15.983131: I ./tensorflow/compiler/jit/device_compiler.h:186] Compiled cluster using XLA!  This line is logged at most once for the lifetime of the process.\n"
     ]
    },
    {
     "name": "stdout",
     "output_type": "stream",
     "text": [
      "60/60 [==============================] - ETA: 0s - loss: 25.8457 - accuracy: 0.0927\n",
      "Epoch 1: val_accuracy improved from -inf to 0.30833, saving model to /home/best/Code/HACKATONS/HacksAi_2023/solution/files/model_cat_3_w.h5\n"
     ]
    },
    {
     "name": "stderr",
     "output_type": "stream",
     "text": [
      "/home/best/.local/lib/python3.10/site-packages/keras/src/engine/training.py:3000: UserWarning: You are saving your model as an HDF5 file via `model.save()`. This file format is considered legacy. We recommend using instead the native Keras format, e.g. `model.save('my_model.keras')`.\n",
      "  saving_api.save_model(\n"
     ]
    },
    {
     "name": "stdout",
     "output_type": "stream",
     "text": [
      "60/60 [==============================] - 27s 208ms/step - loss: 25.8457 - accuracy: 0.0927 - val_loss: 14.0824 - val_accuracy: 0.3083\n",
      "Epoch 2/120\n",
      "60/60 [==============================] - ETA: 0s - loss: 21.7265 - accuracy: 0.1990\n",
      "Epoch 2: val_accuracy did not improve from 0.30833\n",
      "60/60 [==============================] - 9s 153ms/step - loss: 21.7265 - accuracy: 0.1990 - val_loss: 13.0754 - val_accuracy: 0.3083\n",
      "Epoch 3/120\n",
      "60/60 [==============================] - ETA: 0s - loss: 19.3630 - accuracy: 0.1937\n",
      "Epoch 3: val_accuracy did not improve from 0.30833\n",
      "60/60 [==============================] - 8s 138ms/step - loss: 19.3630 - accuracy: 0.1937 - val_loss: 12.3216 - val_accuracy: 0.3083\n",
      "Epoch 4/120\n",
      "60/60 [==============================] - ETA: 0s - loss: 17.9254 - accuracy: 0.2021\n",
      "Epoch 4: val_accuracy did not improve from 0.30833\n",
      "60/60 [==============================] - 8s 138ms/step - loss: 17.9254 - accuracy: 0.2021 - val_loss: 11.5307 - val_accuracy: 0.3083\n",
      "Epoch 5/120\n",
      "60/60 [==============================] - ETA: 0s - loss: 18.5376 - accuracy: 0.1969\n",
      "Epoch 5: val_accuracy did not improve from 0.30833\n",
      "60/60 [==============================] - 8s 137ms/step - loss: 18.5376 - accuracy: 0.1969 - val_loss: 10.7599 - val_accuracy: 0.3083\n",
      "Epoch 6/120\n",
      "60/60 [==============================] - ETA: 0s - loss: 17.8630 - accuracy: 0.1833\n",
      "Epoch 6: val_accuracy did not improve from 0.30833\n",
      "60/60 [==============================] - 8s 131ms/step - loss: 17.8630 - accuracy: 0.1833 - val_loss: 10.6458 - val_accuracy: 0.3083\n",
      "Epoch 7/120\n",
      "60/60 [==============================] - ETA: 0s - loss: 15.6743 - accuracy: 0.2167\n",
      "Epoch 7: val_accuracy improved from 0.30833 to 0.31667, saving model to /home/best/Code/HACKATONS/HacksAi_2023/solution/files/model_cat_3_w.h5\n",
      "60/60 [==============================] - 9s 158ms/step - loss: 15.6743 - accuracy: 0.2167 - val_loss: 9.6808 - val_accuracy: 0.3167\n",
      "Epoch 8/120\n",
      "60/60 [==============================] - ETA: 0s - loss: 15.6093 - accuracy: 0.2073\n",
      "Epoch 8: val_accuracy did not improve from 0.31667\n",
      "60/60 [==============================] - 7s 124ms/step - loss: 15.6093 - accuracy: 0.2073 - val_loss: 9.6450 - val_accuracy: 0.3125\n",
      "Epoch 9/120\n",
      "60/60 [==============================] - ETA: 0s - loss: 15.6022 - accuracy: 0.2167\n",
      "Epoch 9: val_accuracy improved from 0.31667 to 0.34167, saving model to /home/best/Code/HACKATONS/HacksAi_2023/solution/files/model_cat_3_w.h5\n",
      "60/60 [==============================] - 9s 156ms/step - loss: 15.6022 - accuracy: 0.2167 - val_loss: 8.7106 - val_accuracy: 0.3417\n",
      "Epoch 10/120\n",
      "60/60 [==============================] - ETA: 0s - loss: 13.5563 - accuracy: 0.2552\n",
      "Epoch 10: val_accuracy did not improve from 0.34167\n",
      "60/60 [==============================] - 7s 124ms/step - loss: 13.5563 - accuracy: 0.2552 - val_loss: 7.5226 - val_accuracy: 0.2917\n",
      "Epoch 11/120\n",
      "60/60 [==============================] - ETA: 0s - loss: 12.7788 - accuracy: 0.2573\n",
      "Epoch 11: val_accuracy improved from 0.34167 to 0.35417, saving model to /home/best/Code/HACKATONS/HacksAi_2023/solution/files/model_cat_3_w.h5\n",
      "60/60 [==============================] - 9s 158ms/step - loss: 12.7788 - accuracy: 0.2573 - val_loss: 7.0213 - val_accuracy: 0.3542\n",
      "Epoch 12/120\n",
      "60/60 [==============================] - ETA: 0s - loss: 12.0330 - accuracy: 0.2812\n",
      "Epoch 12: val_accuracy improved from 0.35417 to 0.37083, saving model to /home/best/Code/HACKATONS/HacksAi_2023/solution/files/model_cat_3_w.h5\n",
      "60/60 [==============================] - 9s 158ms/step - loss: 12.0330 - accuracy: 0.2812 - val_loss: 6.4623 - val_accuracy: 0.3708\n",
      "Epoch 13/120\n",
      "60/60 [==============================] - ETA: 0s - loss: 10.9982 - accuracy: 0.3104\n",
      "Epoch 13: val_accuracy improved from 0.37083 to 0.42500, saving model to /home/best/Code/HACKATONS/HacksAi_2023/solution/files/model_cat_3_w.h5\n",
      "60/60 [==============================] - 9s 156ms/step - loss: 10.9982 - accuracy: 0.3104 - val_loss: 6.0907 - val_accuracy: 0.4250\n",
      "Epoch 14/120\n",
      "60/60 [==============================] - ETA: 0s - loss: 10.0493 - accuracy: 0.3375\n",
      "Epoch 14: val_accuracy improved from 0.42500 to 0.44167, saving model to /home/best/Code/HACKATONS/HacksAi_2023/solution/files/model_cat_3_w.h5\n",
      "60/60 [==============================] - 9s 153ms/step - loss: 10.0493 - accuracy: 0.3375 - val_loss: 6.0120 - val_accuracy: 0.4417\n",
      "Epoch 15/120\n",
      "60/60 [==============================] - ETA: 0s - loss: 9.0113 - accuracy: 0.3583\n",
      "Epoch 15: val_accuracy improved from 0.44167 to 0.46250, saving model to /home/best/Code/HACKATONS/HacksAi_2023/solution/files/model_cat_3_w.h5\n",
      "60/60 [==============================] - 9s 156ms/step - loss: 9.0113 - accuracy: 0.3583 - val_loss: 6.0298 - val_accuracy: 0.4625\n",
      "Epoch 16/120\n",
      "60/60 [==============================] - ETA: 0s - loss: 8.3656 - accuracy: 0.4073\n",
      "Epoch 16: val_accuracy improved from 0.46250 to 0.48750, saving model to /home/best/Code/HACKATONS/HacksAi_2023/solution/files/model_cat_3_w.h5\n",
      "60/60 [==============================] - 9s 152ms/step - loss: 8.3656 - accuracy: 0.4073 - val_loss: 4.9912 - val_accuracy: 0.4875\n",
      "Epoch 17/120\n",
      "60/60 [==============================] - ETA: 0s - loss: 7.6739 - accuracy: 0.4323\n",
      "Epoch 17: val_accuracy improved from 0.48750 to 0.51250, saving model to /home/best/Code/HACKATONS/HacksAi_2023/solution/files/model_cat_3_w.h5\n",
      "60/60 [==============================] - 9s 153ms/step - loss: 7.6739 - accuracy: 0.4323 - val_loss: 4.6081 - val_accuracy: 0.5125\n",
      "Epoch 18/120\n",
      "60/60 [==============================] - ETA: 0s - loss: 7.8003 - accuracy: 0.4573\n",
      "Epoch 18: val_accuracy improved from 0.51250 to 0.57917, saving model to /home/best/Code/HACKATONS/HacksAi_2023/solution/files/model_cat_3_w.h5\n",
      "60/60 [==============================] - 9s 153ms/step - loss: 7.8003 - accuracy: 0.4573 - val_loss: 4.3925 - val_accuracy: 0.5792\n",
      "Epoch 19/120\n",
      "60/60 [==============================] - ETA: 0s - loss: 6.6815 - accuracy: 0.4760\n",
      "Epoch 19: val_accuracy did not improve from 0.57917\n",
      "60/60 [==============================] - 7s 119ms/step - loss: 6.6815 - accuracy: 0.4760 - val_loss: 4.7078 - val_accuracy: 0.5417\n",
      "Epoch 20/120\n",
      "60/60 [==============================] - ETA: 0s - loss: 6.4984 - accuracy: 0.5094\n",
      "Epoch 20: val_accuracy did not improve from 0.57917\n",
      "60/60 [==============================] - 7s 118ms/step - loss: 6.4984 - accuracy: 0.5094 - val_loss: 4.6961 - val_accuracy: 0.5583\n",
      "Epoch 21/120\n",
      "60/60 [==============================] - ETA: 0s - loss: 5.9441 - accuracy: 0.5208\n",
      "Epoch 21: val_accuracy did not improve from 0.57917\n",
      "60/60 [==============================] - 7s 119ms/step - loss: 5.9441 - accuracy: 0.5208 - val_loss: 4.0172 - val_accuracy: 0.5708\n",
      "Epoch 22/120\n",
      "60/60 [==============================] - ETA: 0s - loss: 5.7726 - accuracy: 0.5542\n",
      "Epoch 22: val_accuracy improved from 0.57917 to 0.63750, saving model to /home/best/Code/HACKATONS/HacksAi_2023/solution/files/model_cat_3_w.h5\n",
      "60/60 [==============================] - 9s 152ms/step - loss: 5.7726 - accuracy: 0.5542 - val_loss: 4.5432 - val_accuracy: 0.6375\n",
      "Epoch 23/120\n",
      "60/60 [==============================] - ETA: 0s - loss: 5.3573 - accuracy: 0.5583\n",
      "Epoch 23: val_accuracy improved from 0.63750 to 0.66667, saving model to /home/best/Code/HACKATONS/HacksAi_2023/solution/files/model_cat_3_w.h5\n",
      "60/60 [==============================] - 9s 151ms/step - loss: 5.3573 - accuracy: 0.5583 - val_loss: 4.4069 - val_accuracy: 0.6667\n",
      "Epoch 24/120\n",
      "60/60 [==============================] - ETA: 0s - loss: 4.6868 - accuracy: 0.6146\n",
      "Epoch 24: val_accuracy did not improve from 0.66667\n",
      "60/60 [==============================] - 7s 124ms/step - loss: 4.6868 - accuracy: 0.6146 - val_loss: 3.9720 - val_accuracy: 0.6583\n",
      "Epoch 25/120\n",
      "60/60 [==============================] - ETA: 0s - loss: 3.9969 - accuracy: 0.6375\n",
      "Epoch 25: val_accuracy did not improve from 0.66667\n",
      "60/60 [==============================] - 7s 118ms/step - loss: 3.9969 - accuracy: 0.6375 - val_loss: 4.8300 - val_accuracy: 0.5500\n",
      "Epoch 26/120\n",
      "60/60 [==============================] - ETA: 0s - loss: 4.4936 - accuracy: 0.6177\n",
      "Epoch 26: val_accuracy improved from 0.66667 to 0.68750, saving model to /home/best/Code/HACKATONS/HacksAi_2023/solution/files/model_cat_3_w.h5\n",
      "60/60 [==============================] - 9s 153ms/step - loss: 4.4936 - accuracy: 0.6177 - val_loss: 4.1968 - val_accuracy: 0.6875\n"
     ]
    },
    {
     "name": "stdout",
     "output_type": "stream",
     "text": [
      "Epoch 27/120\n",
      "60/60 [==============================] - ETA: 0s - loss: 4.1533 - accuracy: 0.6687\n",
      "Epoch 27: val_accuracy did not improve from 0.68750\n",
      "60/60 [==============================] - 7s 117ms/step - loss: 4.1533 - accuracy: 0.6687 - val_loss: 4.2901 - val_accuracy: 0.6583\n",
      "Epoch 28/120\n",
      "60/60 [==============================] - ETA: 0s - loss: 3.8005 - accuracy: 0.6448\n",
      "Epoch 28: val_accuracy did not improve from 0.68750\n",
      "60/60 [==============================] - 7s 117ms/step - loss: 3.8005 - accuracy: 0.6448 - val_loss: 3.9945 - val_accuracy: 0.6750\n",
      "Epoch 29/120\n",
      "60/60 [==============================] - ETA: 0s - loss: 3.4999 - accuracy: 0.6969\n",
      "Epoch 29: val_accuracy did not improve from 0.68750\n",
      "60/60 [==============================] - 7s 120ms/step - loss: 3.4999 - accuracy: 0.6969 - val_loss: 4.4853 - val_accuracy: 0.6667\n",
      "Epoch 30/120\n",
      "60/60 [==============================] - ETA: 0s - loss: 3.3027 - accuracy: 0.7104\n",
      "Epoch 30: val_accuracy improved from 0.68750 to 0.70833, saving model to /home/best/Code/HACKATONS/HacksAi_2023/solution/files/model_cat_3_w.h5\n",
      "60/60 [==============================] - 9s 150ms/step - loss: 3.3027 - accuracy: 0.7104 - val_loss: 3.8226 - val_accuracy: 0.7083\n",
      "Epoch 31/120\n",
      "60/60 [==============================] - ETA: 0s - loss: 3.1705 - accuracy: 0.7344\n",
      "Epoch 31: val_accuracy did not improve from 0.70833\n",
      "60/60 [==============================] - 7s 119ms/step - loss: 3.1705 - accuracy: 0.7344 - val_loss: 3.9418 - val_accuracy: 0.7000\n",
      "Epoch 32/120\n",
      "60/60 [==============================] - ETA: 0s - loss: 2.7766 - accuracy: 0.7583\n",
      "Epoch 32: val_accuracy did not improve from 0.70833\n",
      "60/60 [==============================] - 7s 117ms/step - loss: 2.7766 - accuracy: 0.7583 - val_loss: 4.7254 - val_accuracy: 0.6667\n",
      "Epoch 33/120\n",
      "60/60 [==============================] - ETA: 0s - loss: 3.0295 - accuracy: 0.7396\n",
      "Epoch 33: val_accuracy did not improve from 0.70833\n",
      "60/60 [==============================] - 7s 122ms/step - loss: 3.0295 - accuracy: 0.7396 - val_loss: 4.7985 - val_accuracy: 0.6833\n",
      "Epoch 34/120\n",
      "60/60 [==============================] - ETA: 0s - loss: 3.1773 - accuracy: 0.7427\n",
      "Epoch 34: val_accuracy did not improve from 0.70833\n",
      "60/60 [==============================] - 7s 119ms/step - loss: 3.1773 - accuracy: 0.7427 - val_loss: 4.5654 - val_accuracy: 0.6875\n",
      "Epoch 35/120\n",
      "60/60 [==============================] - ETA: 0s - loss: 2.5694 - accuracy: 0.7760\n",
      "Epoch 35: val_accuracy improved from 0.70833 to 0.73333, saving model to /home/best/Code/HACKATONS/HacksAi_2023/solution/files/model_cat_3_w.h5\n",
      "60/60 [==============================] - 9s 150ms/step - loss: 2.5694 - accuracy: 0.7760 - val_loss: 3.5707 - val_accuracy: 0.7333\n",
      "Epoch 36/120\n",
      "60/60 [==============================] - ETA: 0s - loss: 2.3937 - accuracy: 0.7719\n",
      "Epoch 36: val_accuracy did not improve from 0.73333\n",
      "60/60 [==============================] - 7s 118ms/step - loss: 2.3937 - accuracy: 0.7719 - val_loss: 4.0697 - val_accuracy: 0.7125\n",
      "Epoch 37/120\n",
      "60/60 [==============================] - ETA: 0s - loss: 2.5048 - accuracy: 0.8042\n",
      "Epoch 37: val_accuracy did not improve from 0.73333\n",
      "60/60 [==============================] - 7s 119ms/step - loss: 2.5048 - accuracy: 0.8042 - val_loss: 3.9941 - val_accuracy: 0.7333\n",
      "Epoch 38/120\n",
      "60/60 [==============================] - ETA: 0s - loss: 2.2447 - accuracy: 0.8167\n",
      "Epoch 38: val_accuracy improved from 0.73333 to 0.73750, saving model to /home/best/Code/HACKATONS/HacksAi_2023/solution/files/model_cat_3_w.h5\n",
      "60/60 [==============================] - 9s 149ms/step - loss: 2.2447 - accuracy: 0.8167 - val_loss: 3.6941 - val_accuracy: 0.7375\n",
      "Epoch 39/120\n",
      "60/60 [==============================] - ETA: 0s - loss: 2.2232 - accuracy: 0.7990\n",
      "Epoch 39: val_accuracy did not improve from 0.73750\n",
      "60/60 [==============================] - 7s 120ms/step - loss: 2.2232 - accuracy: 0.7990 - val_loss: 3.4367 - val_accuracy: 0.7375\n",
      "Epoch 40/120\n",
      "60/60 [==============================] - ETA: 0s - loss: 2.0869 - accuracy: 0.8125\n",
      "Epoch 40: val_accuracy did not improve from 0.73750\n",
      "60/60 [==============================] - 7s 118ms/step - loss: 2.0869 - accuracy: 0.8125 - val_loss: 3.5775 - val_accuracy: 0.7042\n",
      "Epoch 41/120\n",
      "60/60 [==============================] - ETA: 0s - loss: 2.0543 - accuracy: 0.8156\n",
      "Epoch 41: val_accuracy did not improve from 0.73750\n",
      "60/60 [==============================] - 7s 117ms/step - loss: 2.0543 - accuracy: 0.8156 - val_loss: 4.0287 - val_accuracy: 0.7125\n",
      "Epoch 42/120\n",
      "60/60 [==============================] - ETA: 0s - loss: 1.9001 - accuracy: 0.8323\n",
      "Epoch 42: val_accuracy did not improve from 0.73750\n",
      "60/60 [==============================] - 7s 118ms/step - loss: 1.9001 - accuracy: 0.8323 - val_loss: 3.7165 - val_accuracy: 0.7375\n",
      "Epoch 43/120\n",
      "60/60 [==============================] - ETA: 0s - loss: 2.1372 - accuracy: 0.8365\n",
      "Epoch 43: val_accuracy did not improve from 0.73750\n",
      "60/60 [==============================] - 7s 118ms/step - loss: 2.1372 - accuracy: 0.8365 - val_loss: 3.8074 - val_accuracy: 0.7375\n",
      "Epoch 44/120\n",
      "60/60 [==============================] - ETA: 0s - loss: 1.6820 - accuracy: 0.8448\n",
      "Epoch 44: val_accuracy did not improve from 0.73750\n",
      "60/60 [==============================] - 7s 122ms/step - loss: 1.6820 - accuracy: 0.8448 - val_loss: 4.0364 - val_accuracy: 0.7292\n",
      "Epoch 45/120\n",
      "60/60 [==============================] - ETA: 0s - loss: 1.6891 - accuracy: 0.8458\n",
      "Epoch 45: val_accuracy did not improve from 0.73750\n",
      "60/60 [==============================] - 7s 119ms/step - loss: 1.6891 - accuracy: 0.8458 - val_loss: 4.1383 - val_accuracy: 0.7333\n",
      "Epoch 46/120\n",
      "60/60 [==============================] - ETA: 0s - loss: 2.0028 - accuracy: 0.8417\n",
      "Epoch 46: val_accuracy did not improve from 0.73750\n",
      "60/60 [==============================] - 7s 117ms/step - loss: 2.0028 - accuracy: 0.8417 - val_loss: 3.7957 - val_accuracy: 0.7125\n",
      "Epoch 47/120\n",
      "60/60 [==============================] - ETA: 0s - loss: 1.6416 - accuracy: 0.8531\n",
      "Epoch 47: val_accuracy did not improve from 0.73750\n",
      "60/60 [==============================] - 7s 119ms/step - loss: 1.6416 - accuracy: 0.8531 - val_loss: 4.4213 - val_accuracy: 0.7083\n",
      "Epoch 48/120\n",
      "60/60 [==============================] - ETA: 0s - loss: 1.5315 - accuracy: 0.8625\n",
      "Epoch 48: val_accuracy did not improve from 0.73750\n",
      "60/60 [==============================] - 7s 120ms/step - loss: 1.5315 - accuracy: 0.8625 - val_loss: 4.6738 - val_accuracy: 0.7167\n",
      "Epoch 49/120\n",
      "60/60 [==============================] - ETA: 0s - loss: 1.3503 - accuracy: 0.8865\n",
      "Epoch 49: val_accuracy did not improve from 0.73750\n",
      "60/60 [==============================] - 7s 120ms/step - loss: 1.3503 - accuracy: 0.8865 - val_loss: 4.1178 - val_accuracy: 0.7167\n",
      "Epoch 50/120\n",
      "60/60 [==============================] - ETA: 0s - loss: 1.0886 - accuracy: 0.8948\n",
      "Epoch 50: val_accuracy did not improve from 0.73750\n",
      "60/60 [==============================] - 7s 118ms/step - loss: 1.0886 - accuracy: 0.8948 - val_loss: 4.1060 - val_accuracy: 0.7042\n",
      "Epoch 51/120\n",
      "60/60 [==============================] - ETA: 0s - loss: 1.1274 - accuracy: 0.8927\n",
      "Epoch 51: val_accuracy did not improve from 0.73750\n",
      "60/60 [==============================] - 7s 122ms/step - loss: 1.1274 - accuracy: 0.8927 - val_loss: 4.2704 - val_accuracy: 0.7333\n",
      "Epoch 52/120\n",
      "60/60 [==============================] - ETA: 0s - loss: 1.2692 - accuracy: 0.8885\n",
      "Epoch 52: val_accuracy did not improve from 0.73750\n",
      "60/60 [==============================] - 7s 118ms/step - loss: 1.2692 - accuracy: 0.8885 - val_loss: 3.8618 - val_accuracy: 0.7333\n",
      "Epoch 53/120\n",
      "60/60 [==============================] - ETA: 0s - loss: 1.1956 - accuracy: 0.8875\n",
      "Epoch 53: val_accuracy did not improve from 0.73750\n",
      "60/60 [==============================] - 7s 117ms/step - loss: 1.1956 - accuracy: 0.8875 - val_loss: 3.9773 - val_accuracy: 0.7292\n",
      "Epoch 54/120\n",
      "60/60 [==============================] - ETA: 0s - loss: 1.1628 - accuracy: 0.9073\n",
      "Epoch 54: val_accuracy did not improve from 0.73750\n",
      "60/60 [==============================] - 7s 117ms/step - loss: 1.1628 - accuracy: 0.9073 - val_loss: 5.0128 - val_accuracy: 0.7042\n",
      "Epoch 55/120\n",
      "60/60 [==============================] - ETA: 0s - loss: 1.2748 - accuracy: 0.8979\n",
      "Epoch 55: val_accuracy did not improve from 0.73750\n"
     ]
    },
    {
     "name": "stdout",
     "output_type": "stream",
     "text": [
      "60/60 [==============================] - 7s 118ms/step - loss: 1.2748 - accuracy: 0.8979 - val_loss: 3.9539 - val_accuracy: 0.7125\n",
      "Epoch 56/120\n",
      "60/60 [==============================] - ETA: 0s - loss: 1.0118 - accuracy: 0.8969\n",
      "Epoch 56: val_accuracy did not improve from 0.73750\n",
      "60/60 [==============================] - 7s 118ms/step - loss: 1.0118 - accuracy: 0.8969 - val_loss: 4.1300 - val_accuracy: 0.7208\n",
      "Epoch 57/120\n",
      "60/60 [==============================] - ETA: 0s - loss: 1.0401 - accuracy: 0.9094\n",
      "Epoch 57: val_accuracy did not improve from 0.73750\n",
      "60/60 [==============================] - 7s 117ms/step - loss: 1.0401 - accuracy: 0.9094 - val_loss: 5.8756 - val_accuracy: 0.7000\n",
      "Epoch 58/120\n",
      "60/60 [==============================] - ETA: 0s - loss: 0.8668 - accuracy: 0.9135\n",
      "Epoch 58: val_accuracy did not improve from 0.73750\n",
      "60/60 [==============================] - 7s 117ms/step - loss: 0.8668 - accuracy: 0.9135 - val_loss: 4.3449 - val_accuracy: 0.7292\n",
      "Epoch 59/120\n",
      "60/60 [==============================] - ETA: 0s - loss: 0.6625 - accuracy: 0.9135\n",
      "Epoch 59: val_accuracy did not improve from 0.73750\n",
      "60/60 [==============================] - 7s 117ms/step - loss: 0.6625 - accuracy: 0.9135 - val_loss: 4.2600 - val_accuracy: 0.7292\n",
      "Epoch 60/120\n",
      "60/60 [==============================] - ETA: 0s - loss: 0.9621 - accuracy: 0.9250\n",
      "Epoch 60: val_accuracy did not improve from 0.73750\n",
      "60/60 [==============================] - 7s 119ms/step - loss: 0.9621 - accuracy: 0.9250 - val_loss: 5.0452 - val_accuracy: 0.7000\n",
      "Epoch 61/120\n",
      "60/60 [==============================] - ETA: 0s - loss: 0.6133 - accuracy: 0.9365\n",
      "Epoch 61: val_accuracy did not improve from 0.73750\n",
      "60/60 [==============================] - 7s 119ms/step - loss: 0.6133 - accuracy: 0.9365 - val_loss: 4.5458 - val_accuracy: 0.7042\n",
      "Epoch 62/120\n",
      "60/60 [==============================] - ETA: 0s - loss: 0.9021 - accuracy: 0.9125\n",
      "Epoch 62: val_accuracy did not improve from 0.73750\n",
      "60/60 [==============================] - 7s 116ms/step - loss: 0.9021 - accuracy: 0.9125 - val_loss: 4.5906 - val_accuracy: 0.7125\n",
      "Epoch 63/120\n",
      "60/60 [==============================] - ETA: 0s - loss: 1.0338 - accuracy: 0.9094\n",
      "Epoch 63: val_accuracy improved from 0.73750 to 0.74167, saving model to /home/best/Code/HACKATONS/HacksAi_2023/solution/files/model_cat_3_w.h5\n",
      "60/60 [==============================] - 9s 152ms/step - loss: 1.0338 - accuracy: 0.9094 - val_loss: 4.8255 - val_accuracy: 0.7417\n",
      "Epoch 64/120\n",
      "60/60 [==============================] - ETA: 0s - loss: 0.9195 - accuracy: 0.9281\n",
      "Epoch 64: val_accuracy did not improve from 0.74167\n",
      "60/60 [==============================] - 7s 118ms/step - loss: 0.9195 - accuracy: 0.9281 - val_loss: 4.5210 - val_accuracy: 0.7292\n",
      "Epoch 65/120\n",
      "60/60 [==============================] - ETA: 0s - loss: 0.7847 - accuracy: 0.9333\n",
      "Epoch 65: val_accuracy did not improve from 0.74167\n",
      "60/60 [==============================] - 7s 119ms/step - loss: 0.7847 - accuracy: 0.9333 - val_loss: 4.4003 - val_accuracy: 0.7333\n",
      "Epoch 66/120\n",
      "60/60 [==============================] - ETA: 0s - loss: 0.7511 - accuracy: 0.9344\n",
      "Epoch 66: val_accuracy did not improve from 0.74167\n",
      "60/60 [==============================] - 7s 119ms/step - loss: 0.7511 - accuracy: 0.9344 - val_loss: 4.6697 - val_accuracy: 0.7292\n",
      "Epoch 67/120\n",
      "60/60 [==============================] - ETA: 0s - loss: 0.8792 - accuracy: 0.9281\n",
      "Epoch 67: val_accuracy improved from 0.74167 to 0.74583, saving model to /home/best/Code/HACKATONS/HacksAi_2023/solution/files/model_cat_3_w.h5\n",
      "60/60 [==============================] - 9s 152ms/step - loss: 0.8792 - accuracy: 0.9281 - val_loss: 4.6582 - val_accuracy: 0.7458\n",
      "Epoch 68/120\n",
      "60/60 [==============================] - ETA: 0s - loss: 0.7024 - accuracy: 0.9333\n",
      "Epoch 68: val_accuracy did not improve from 0.74583\n",
      "60/60 [==============================] - 7s 118ms/step - loss: 0.7024 - accuracy: 0.9333 - val_loss: 4.3191 - val_accuracy: 0.7333\n",
      "Epoch 69/120\n",
      "60/60 [==============================] - ETA: 0s - loss: 0.7549 - accuracy: 0.9229\n",
      "Epoch 69: val_accuracy did not improve from 0.74583\n",
      "60/60 [==============================] - 7s 118ms/step - loss: 0.7549 - accuracy: 0.9229 - val_loss: 4.5709 - val_accuracy: 0.7333\n",
      "Epoch 70/120\n",
      "60/60 [==============================] - ETA: 0s - loss: 0.7122 - accuracy: 0.9333\n",
      "Epoch 70: val_accuracy improved from 0.74583 to 0.75417, saving model to /home/best/Code/HACKATONS/HacksAi_2023/solution/files/model_cat_3_w.h5\n",
      "60/60 [==============================] - 9s 150ms/step - loss: 0.7122 - accuracy: 0.9333 - val_loss: 4.2927 - val_accuracy: 0.7542\n",
      "Epoch 71/120\n",
      "60/60 [==============================] - ETA: 0s - loss: 0.6104 - accuracy: 0.9365\n",
      "Epoch 71: val_accuracy did not improve from 0.75417\n",
      "60/60 [==============================] - 7s 118ms/step - loss: 0.6104 - accuracy: 0.9365 - val_loss: 4.2977 - val_accuracy: 0.7500\n",
      "Epoch 72/120\n",
      "60/60 [==============================] - ETA: 0s - loss: 0.8205 - accuracy: 0.9365\n",
      "Epoch 72: val_accuracy did not improve from 0.75417\n",
      "60/60 [==============================] - 7s 118ms/step - loss: 0.8205 - accuracy: 0.9365 - val_loss: 4.6588 - val_accuracy: 0.7250\n",
      "Epoch 73/120\n",
      "60/60 [==============================] - ETA: 0s - loss: 0.5912 - accuracy: 0.9302\n",
      "Epoch 73: val_accuracy did not improve from 0.75417\n",
      "60/60 [==============================] - 7s 119ms/step - loss: 0.5912 - accuracy: 0.9302 - val_loss: 4.4127 - val_accuracy: 0.7375\n",
      "Epoch 74/120\n",
      "60/60 [==============================] - ETA: 0s - loss: 0.6239 - accuracy: 0.9417\n",
      "Epoch 74: val_accuracy did not improve from 0.75417\n",
      "60/60 [==============================] - 7s 120ms/step - loss: 0.6239 - accuracy: 0.9417 - val_loss: 4.2475 - val_accuracy: 0.7333\n",
      "Epoch 75/120\n",
      "60/60 [==============================] - ETA: 0s - loss: 0.6426 - accuracy: 0.9396\n",
      "Epoch 75: val_accuracy did not improve from 0.75417\n",
      "60/60 [==============================] - 7s 118ms/step - loss: 0.6426 - accuracy: 0.9396 - val_loss: 4.7039 - val_accuracy: 0.7042\n",
      "Epoch 76/120\n",
      "60/60 [==============================] - ETA: 0s - loss: 0.5253 - accuracy: 0.9375\n",
      "Epoch 76: val_accuracy did not improve from 0.75417\n",
      "60/60 [==============================] - 7s 117ms/step - loss: 0.5253 - accuracy: 0.9375 - val_loss: 4.7604 - val_accuracy: 0.7292\n",
      "Epoch 77/120\n",
      "60/60 [==============================] - ETA: 0s - loss: 0.4336 - accuracy: 0.9521\n",
      "Epoch 77: val_accuracy did not improve from 0.75417\n",
      "60/60 [==============================] - 7s 118ms/step - loss: 0.4336 - accuracy: 0.9521 - val_loss: 5.1674 - val_accuracy: 0.7083\n",
      "Epoch 78/120\n",
      "60/60 [==============================] - ETA: 0s - loss: 0.3626 - accuracy: 0.9479\n",
      "Epoch 78: val_accuracy did not improve from 0.75417\n",
      "60/60 [==============================] - 7s 120ms/step - loss: 0.3626 - accuracy: 0.9479 - val_loss: 4.8982 - val_accuracy: 0.7333\n",
      "Epoch 79/120\n",
      "60/60 [==============================] - ETA: 0s - loss: 0.5337 - accuracy: 0.9292\n",
      "Epoch 79: val_accuracy did not improve from 0.75417\n",
      "60/60 [==============================] - 7s 118ms/step - loss: 0.5337 - accuracy: 0.9292 - val_loss: 4.5461 - val_accuracy: 0.7250\n",
      "Epoch 80/120\n",
      "60/60 [==============================] - ETA: 0s - loss: 0.5641 - accuracy: 0.9396\n",
      "Epoch 80: val_accuracy did not improve from 0.75417\n",
      "60/60 [==============================] - 7s 117ms/step - loss: 0.5641 - accuracy: 0.9396 - val_loss: 4.9206 - val_accuracy: 0.7167\n",
      "Epoch 81/120\n",
      "60/60 [==============================] - ETA: 0s - loss: 0.8471 - accuracy: 0.9365\n",
      "Epoch 81: val_accuracy improved from 0.75417 to 0.76667, saving model to /home/best/Code/HACKATONS/HacksAi_2023/solution/files/model_cat_3_w.h5\n",
      "60/60 [==============================] - 9s 148ms/step - loss: 0.8471 - accuracy: 0.9365 - val_loss: 4.0609 - val_accuracy: 0.7667\n",
      "Epoch 82/120\n",
      "60/60 [==============================] - ETA: 0s - loss: 0.5242 - accuracy: 0.9333\n",
      "Epoch 82: val_accuracy did not improve from 0.76667\n",
      "60/60 [==============================] - 7s 118ms/step - loss: 0.5242 - accuracy: 0.9333 - val_loss: 4.1806 - val_accuracy: 0.7625\n",
      "Epoch 83/120\n",
      "60/60 [==============================] - ETA: 0s - loss: 0.5166 - accuracy: 0.9417\n",
      "Epoch 83: val_accuracy did not improve from 0.76667\n",
      "60/60 [==============================] - 7s 118ms/step - loss: 0.5166 - accuracy: 0.9417 - val_loss: 4.3723 - val_accuracy: 0.7542\n"
     ]
    },
    {
     "name": "stdout",
     "output_type": "stream",
     "text": [
      "Epoch 84/120\n",
      "60/60 [==============================] - ETA: 0s - loss: 0.5031 - accuracy: 0.9521\n",
      "Epoch 84: val_accuracy did not improve from 0.76667\n",
      "60/60 [==============================] - 7s 118ms/step - loss: 0.5031 - accuracy: 0.9521 - val_loss: 4.5341 - val_accuracy: 0.7417\n",
      "Epoch 85/120\n",
      "60/60 [==============================] - ETA: 0s - loss: 0.2798 - accuracy: 0.9698\n",
      "Epoch 85: val_accuracy did not improve from 0.76667\n",
      "60/60 [==============================] - 7s 119ms/step - loss: 0.2798 - accuracy: 0.9698 - val_loss: 4.4679 - val_accuracy: 0.7417\n",
      "Epoch 86/120\n",
      "60/60 [==============================] - ETA: 0s - loss: 0.3897 - accuracy: 0.9552\n",
      "Epoch 86: val_accuracy did not improve from 0.76667\n",
      "60/60 [==============================] - 7s 120ms/step - loss: 0.3897 - accuracy: 0.9552 - val_loss: 4.5484 - val_accuracy: 0.7625\n",
      "Epoch 87/120\n",
      "60/60 [==============================] - ETA: 0s - loss: 0.4048 - accuracy: 0.9563\n",
      "Epoch 87: val_accuracy did not improve from 0.76667\n",
      "60/60 [==============================] - 7s 120ms/step - loss: 0.4048 - accuracy: 0.9563 - val_loss: 4.6206 - val_accuracy: 0.7542\n",
      "Epoch 88/120\n",
      "60/60 [==============================] - ETA: 0s - loss: 0.3364 - accuracy: 0.9646\n",
      "Epoch 88: val_accuracy did not improve from 0.76667\n",
      "60/60 [==============================] - 7s 119ms/step - loss: 0.3364 - accuracy: 0.9646 - val_loss: 4.7368 - val_accuracy: 0.7542\n",
      "Epoch 89/120\n",
      "60/60 [==============================] - ETA: 0s - loss: 0.4041 - accuracy: 0.9677\n",
      "Epoch 89: val_accuracy did not improve from 0.76667\n",
      "60/60 [==============================] - 7s 119ms/step - loss: 0.4041 - accuracy: 0.9677 - val_loss: 4.5836 - val_accuracy: 0.7542\n",
      "Epoch 90/120\n",
      "60/60 [==============================] - ETA: 0s - loss: 0.4108 - accuracy: 0.9625\n",
      "Epoch 90: val_accuracy did not improve from 0.76667\n",
      "60/60 [==============================] - 7s 119ms/step - loss: 0.4108 - accuracy: 0.9625 - val_loss: 4.6212 - val_accuracy: 0.7542\n",
      "Epoch 91/120\n",
      "60/60 [==============================] - ETA: 0s - loss: 0.3109 - accuracy: 0.9635\n",
      "Epoch 91: val_accuracy did not improve from 0.76667\n",
      "60/60 [==============================] - 7s 120ms/step - loss: 0.3109 - accuracy: 0.9635 - val_loss: 4.6865 - val_accuracy: 0.7500\n",
      "Epoch 92/120\n",
      "60/60 [==============================] - ETA: 0s - loss: 0.2859 - accuracy: 0.9729\n",
      "Epoch 92: val_accuracy did not improve from 0.76667\n",
      "60/60 [==============================] - 7s 120ms/step - loss: 0.2859 - accuracy: 0.9729 - val_loss: 4.5598 - val_accuracy: 0.7667\n",
      "Epoch 93/120\n",
      "60/60 [==============================] - ETA: 0s - loss: 0.3011 - accuracy: 0.9740\n",
      "Epoch 93: val_accuracy did not improve from 0.76667\n",
      "60/60 [==============================] - 7s 118ms/step - loss: 0.3011 - accuracy: 0.9740 - val_loss: 4.5310 - val_accuracy: 0.7667\n",
      "Epoch 94/120\n",
      "60/60 [==============================] - ETA: 0s - loss: 0.2361 - accuracy: 0.9740\n",
      "Epoch 94: val_accuracy did not improve from 0.76667\n",
      "60/60 [==============================] - 7s 119ms/step - loss: 0.2361 - accuracy: 0.9740 - val_loss: 4.8246 - val_accuracy: 0.7583\n",
      "Epoch 95/120\n",
      "60/60 [==============================] - ETA: 0s - loss: 0.8203 - accuracy: 0.9417\n",
      "Epoch 95: val_accuracy did not improve from 0.76667\n",
      "60/60 [==============================] - 7s 119ms/step - loss: 0.8203 - accuracy: 0.9417 - val_loss: 4.1736 - val_accuracy: 0.7375\n",
      "Epoch 96/120\n",
      "60/60 [==============================] - ETA: 0s - loss: 0.3484 - accuracy: 0.9510\n",
      "Epoch 96: val_accuracy did not improve from 0.76667\n",
      "60/60 [==============================] - 7s 119ms/step - loss: 0.3484 - accuracy: 0.9510 - val_loss: 4.4014 - val_accuracy: 0.7625\n",
      "Epoch 97/120\n",
      "60/60 [==============================] - ETA: 0s - loss: 0.3168 - accuracy: 0.9615\n",
      "Epoch 97: val_accuracy did not improve from 0.76667\n",
      "60/60 [==============================] - 7s 119ms/step - loss: 0.3168 - accuracy: 0.9615 - val_loss: 4.4221 - val_accuracy: 0.7542\n",
      "Epoch 98/120\n",
      "60/60 [==============================] - ETA: 0s - loss: 0.3553 - accuracy: 0.9677\n",
      "Epoch 98: val_accuracy did not improve from 0.76667\n",
      "60/60 [==============================] - 7s 119ms/step - loss: 0.3553 - accuracy: 0.9677 - val_loss: 4.6620 - val_accuracy: 0.7417\n",
      "Epoch 99/120\n",
      "60/60 [==============================] - ETA: 0s - loss: 0.2467 - accuracy: 0.9740\n",
      "Epoch 99: val_accuracy did not improve from 0.76667\n",
      "60/60 [==============================] - 7s 121ms/step - loss: 0.2467 - accuracy: 0.9740 - val_loss: 4.6779 - val_accuracy: 0.7458\n",
      "Epoch 100/120\n",
      "60/60 [==============================] - ETA: 0s - loss: 0.2018 - accuracy: 0.9812\n",
      "Epoch 100: val_accuracy did not improve from 0.76667\n",
      "60/60 [==============================] - 7s 120ms/step - loss: 0.2018 - accuracy: 0.9812 - val_loss: 4.5239 - val_accuracy: 0.7375\n",
      "Epoch 101/120\n",
      "60/60 [==============================] - ETA: 0s - loss: 0.1927 - accuracy: 0.9750\n",
      "Epoch 101: val_accuracy did not improve from 0.76667\n",
      "60/60 [==============================] - 7s 119ms/step - loss: 0.1927 - accuracy: 0.9750 - val_loss: 4.7456 - val_accuracy: 0.7583\n",
      "Epoch 102/120\n",
      "60/60 [==============================] - ETA: 0s - loss: 0.1972 - accuracy: 0.9781\n",
      "Epoch 102: val_accuracy did not improve from 0.76667\n",
      "60/60 [==============================] - 7s 120ms/step - loss: 0.1972 - accuracy: 0.9781 - val_loss: 4.5895 - val_accuracy: 0.7375\n",
      "Epoch 103/120\n",
      "60/60 [==============================] - ETA: 0s - loss: 0.1868 - accuracy: 0.9677\n",
      "Epoch 103: val_accuracy did not improve from 0.76667\n",
      "60/60 [==============================] - 7s 120ms/step - loss: 0.1868 - accuracy: 0.9677 - val_loss: 4.7755 - val_accuracy: 0.7500\n",
      "Epoch 104/120\n",
      "60/60 [==============================] - ETA: 0s - loss: 0.2548 - accuracy: 0.9750\n",
      "Epoch 104: val_accuracy did not improve from 0.76667\n",
      "60/60 [==============================] - 7s 119ms/step - loss: 0.2548 - accuracy: 0.9750 - val_loss: 4.8449 - val_accuracy: 0.7417\n",
      "Epoch 105/120\n",
      "60/60 [==============================] - ETA: 0s - loss: 0.2473 - accuracy: 0.9677\n",
      "Epoch 105: val_accuracy did not improve from 0.76667\n",
      "60/60 [==============================] - 7s 118ms/step - loss: 0.2473 - accuracy: 0.9677 - val_loss: 5.1920 - val_accuracy: 0.7458\n",
      "Epoch 106/120\n",
      "60/60 [==============================] - ETA: 0s - loss: 0.3298 - accuracy: 0.9698\n",
      "Epoch 106: val_accuracy did not improve from 0.76667\n",
      "60/60 [==============================] - 7s 119ms/step - loss: 0.3298 - accuracy: 0.9698 - val_loss: 4.4762 - val_accuracy: 0.7375\n",
      "Epoch 107/120\n",
      "60/60 [==============================] - ETA: 0s - loss: 0.4655 - accuracy: 0.9531\n",
      "Epoch 107: val_accuracy did not improve from 0.76667\n",
      "60/60 [==============================] - 7s 121ms/step - loss: 0.4655 - accuracy: 0.9531 - val_loss: 4.6231 - val_accuracy: 0.7167\n",
      "Epoch 108/120\n",
      "60/60 [==============================] - ETA: 0s - loss: 0.4567 - accuracy: 0.9552\n",
      "Epoch 108: val_accuracy did not improve from 0.76667\n",
      "60/60 [==============================] - 7s 119ms/step - loss: 0.4567 - accuracy: 0.9552 - val_loss: 4.2752 - val_accuracy: 0.7458\n",
      "Epoch 109/120\n",
      "60/60 [==============================] - ETA: 0s - loss: 0.1943 - accuracy: 0.9594\n",
      "Epoch 109: val_accuracy did not improve from 0.76667\n",
      "60/60 [==============================] - 7s 120ms/step - loss: 0.1943 - accuracy: 0.9594 - val_loss: 4.2574 - val_accuracy: 0.7500\n",
      "Epoch 110/120\n",
      "60/60 [==============================] - ETA: 0s - loss: 0.2161 - accuracy: 0.9708\n",
      "Epoch 110: val_accuracy did not improve from 0.76667\n",
      "60/60 [==============================] - 7s 119ms/step - loss: 0.2161 - accuracy: 0.9708 - val_loss: 5.0754 - val_accuracy: 0.7375\n",
      "Epoch 111/120\n",
      "60/60 [==============================] - ETA: 0s - loss: 0.2542 - accuracy: 0.9698\n",
      "Epoch 111: val_accuracy did not improve from 0.76667\n",
      "60/60 [==============================] - 7s 119ms/step - loss: 0.2542 - accuracy: 0.9698 - val_loss: 4.4601 - val_accuracy: 0.7458\n",
      "Epoch 112/120\n",
      "60/60 [==============================] - ETA: 0s - loss: 0.1748 - accuracy: 0.9750\n",
      "Epoch 112: val_accuracy did not improve from 0.76667\n",
      "60/60 [==============================] - 7s 119ms/step - loss: 0.1748 - accuracy: 0.9750 - val_loss: 4.3144 - val_accuracy: 0.7375\n",
      "Epoch 113/120\n"
     ]
    },
    {
     "name": "stdout",
     "output_type": "stream",
     "text": [
      "60/60 [==============================] - ETA: 0s - loss: 0.2869 - accuracy: 0.9750\n",
      "Epoch 113: val_accuracy did not improve from 0.76667\n",
      "60/60 [==============================] - 7s 118ms/step - loss: 0.2869 - accuracy: 0.9750 - val_loss: 3.8989 - val_accuracy: 0.7542\n",
      "Epoch 114/120\n",
      "60/60 [==============================] - ETA: 0s - loss: 0.1244 - accuracy: 0.9844\n",
      "Epoch 114: val_accuracy improved from 0.76667 to 0.78333, saving model to /home/best/Code/HACKATONS/HacksAi_2023/solution/files/model_cat_3_w.h5\n",
      "60/60 [==============================] - 9s 151ms/step - loss: 0.1244 - accuracy: 0.9844 - val_loss: 3.9830 - val_accuracy: 0.7833\n",
      "Epoch 115/120\n",
      "60/60 [==============================] - ETA: 0s - loss: 0.0836 - accuracy: 0.9917\n",
      "Epoch 115: val_accuracy did not improve from 0.78333\n",
      "60/60 [==============================] - 7s 119ms/step - loss: 0.0836 - accuracy: 0.9917 - val_loss: 4.2120 - val_accuracy: 0.7500\n",
      "Epoch 116/120\n",
      "60/60 [==============================] - ETA: 0s - loss: 0.1655 - accuracy: 0.9771\n",
      "Epoch 116: val_accuracy did not improve from 0.78333\n",
      "60/60 [==============================] - 7s 120ms/step - loss: 0.1655 - accuracy: 0.9771 - val_loss: 4.1249 - val_accuracy: 0.7667\n",
      "Epoch 117/120\n",
      "60/60 [==============================] - ETA: 0s - loss: 0.1153 - accuracy: 0.9854\n",
      "Epoch 117: val_accuracy did not improve from 0.78333\n",
      "60/60 [==============================] - 7s 120ms/step - loss: 0.1153 - accuracy: 0.9854 - val_loss: 4.2270 - val_accuracy: 0.7583\n",
      "Epoch 118/120\n",
      "60/60 [==============================] - ETA: 0s - loss: 0.0466 - accuracy: 0.9854\n",
      "Epoch 118: val_accuracy did not improve from 0.78333\n",
      "60/60 [==============================] - 7s 118ms/step - loss: 0.0466 - accuracy: 0.9854 - val_loss: 4.2583 - val_accuracy: 0.7542\n",
      "Epoch 119/120\n",
      "60/60 [==============================] - ETA: 0s - loss: 0.1225 - accuracy: 0.9865\n",
      "Epoch 119: val_accuracy did not improve from 0.78333\n",
      "60/60 [==============================] - 7s 120ms/step - loss: 0.1225 - accuracy: 0.9865 - val_loss: 4.3677 - val_accuracy: 0.7625\n",
      "Epoch 120/120\n",
      "60/60 [==============================] - ETA: 0s - loss: 0.0821 - accuracy: 0.9906\n",
      "Epoch 120: val_accuracy did not improve from 0.78333\n",
      "60/60 [==============================] - 7s 120ms/step - loss: 0.0821 - accuracy: 0.9906 - val_loss: 4.6763 - val_accuracy: 0.7375\n"
     ]
    }
   ],
   "source": [
    "history = model_cat.fit(\n",
    "  [x_cat_train, x_feat_train],\n",
    "  y_cat_train,\n",
    "  epochs = 120,\n",
    "  batch_size = 16,\n",
    "  validation_data = ([x_cat_val, x_feat_val], y_cat_val),\n",
    "  callbacks = [checkpointer],\n",
    "  verbose = 1\n",
    ")"
   ]
  },
  {
   "cell_type": "code",
   "execution_count": 41,
   "metadata": {
    "id": "4n6Q5i5mf--p",
    "outputId": "1ce7f1e2-0f35-4c47-9db9-bd4f5d575ac0"
   },
   "outputs": [
    {
     "name": "stderr",
     "output_type": "stream",
     "text": [
      "WARNING:matplotlib.legend:No artists with labels found to put in legend.  Note that artists whose label start with an underscore are ignored when legend() is called with no argument.\n"
     ]
    },
    {
     "data": {
      "image/png": "[encoded data removed]",
      "text/plain": [
       "<Figure size 640x480 with 1 Axes>"
      ]
     },
     "metadata": {},
     "output_type": "display_data"
    }
   ],
   "source": [
    "# Оображаем график точности обучения\n",
    "plt.plot(history.history['accuracy'])\n",
    "plt.plot(history.history['val_accuracy'])\n",
    "plt.title(label='Model multi input', fontsize=20)\n",
    "plt.xlabel('Epoch')\n",
    "plt.ylabel('Accuracy')\n",
    "plt.legend()\n",
    "plt.show()"
   ]
  },
  {
   "cell_type": "markdown",
   "metadata": {
    "id": "Wu1erzARr9vp"
   },
   "source": [
    "## Evaluate the model\n",
    "Загружаем лучшие веса модели и оцениваем модель"
   ]
  },
  {
   "cell_type": "code",
   "execution_count": 42,
   "metadata": {
    "id": "w1QJoyPxr0Q6"
   },
   "outputs": [],
   "source": [
    "model_cat.load_weights(DIR + 'model_cat_3_w.h5')"
   ]
  },
  {
   "cell_type": "code",
   "execution_count": 43,
   "metadata": {
    "id": "Ugwu-okqsGEi",
    "outputId": "dfc525db-c422-400c-e89d-a7654db245ca"
   },
   "outputs": [
    {
     "name": "stdout",
     "output_type": "stream",
     "text": [
      "30/30 [==============================] - 5s 149ms/step - loss: 0.0081 - accuracy: 0.9969\n",
      "Train, accuracy: 0.996874988079071, loss: 0.008113604038953781\n",
      "\n",
      "8/8 [==============================] - 1s 138ms/step - loss: 3.9830 - accuracy: 0.7833\n",
      "Val, accuracy: 0.7833333611488342, loss: 3.9829788208007812\n"
     ]
    }
   ],
   "source": [
    "loss, accuracy = model_cat.evaluate([x_cat_train, x_feat_train], y_cat_train)\n",
    "print(f'Train, accuracy: {accuracy}, loss: {loss}')\n",
    "print()\n",
    "\n",
    "val_loss, val_accuracy = model_cat.evaluate([x_cat_val, x_feat_val], y_cat_val)\n",
    "print(f'Val, accuracy: {val_accuracy}, loss: {val_loss}')"
   ]
  },
  {
   "cell_type": "code",
   "execution_count": 44,
   "metadata": {
    "id": "faGrb9doH8l7",
    "outputId": "b6a87132-a678-4072-a7fd-0b297c771a18"
   },
   "outputs": [
    {
     "name": "stdout",
     "output_type": "stream",
     "text": [
      "8/8 [==============================] - 1s 124ms/step\n",
      "(240, 7) (240, 7)\n"
     ]
    }
   ],
   "source": [
    "y_pred_v = model_cat.predict([x_cat_val, x_feat_val])\n",
    "y_pred_am = np.argmax(y_pred_v, axis=1)\n",
    "y_pred = to_categorical(y_pred_am,  num_classes=7, dtype='int')\n",
    "print(y_cat_val.shape, y_pred.shape)"
   ]
  },
  {
   "cell_type": "code",
   "execution_count": 45,
   "metadata": {
    "id": "hX5ElcoKH8l7",
    "outputId": "895ffb99-9373-4164-8e03-51e2947313b8"
   },
   "outputs": [
    {
     "data": {
      "text/plain": [
       "array([[1, 0, 0, ..., 0, 0, 0],\n",
       "       [1, 0, 0, ..., 0, 0, 0],\n",
       "       [0, 0, 0, ..., 1, 0, 0],\n",
       "       ...,\n",
       "       [1, 0, 0, ..., 0, 0, 0],\n",
       "       [1, 0, 0, ..., 0, 0, 0],\n",
       "       [0, 1, 0, ..., 0, 0, 0]])"
      ]
     },
     "execution_count": 45,
     "metadata": {},
     "output_type": "execute_result"
    }
   ],
   "source": [
    "y_pred"
   ]
  },
  {
   "cell_type": "code",
   "execution_count": 46,
   "metadata": {
    "id": "ybL14OwEH8l8",
    "outputId": "dd5fbf02-f50e-4dea-cb2f-bce2178a3676"
   },
   "outputs": [
    {
     "data": {
      "text/html": [
       "<div>\n",
       "<style scoped>\n",
       "    .dataframe tbody tr th:only-of-type {\n",
       "        vertical-align: middle;\n",
       "    }\n",
       "\n",
       "    .dataframe tbody tr th {\n",
       "        vertical-align: top;\n",
       "    }\n",
       "\n",
       "    .dataframe thead th {\n",
       "        text-align: right;\n",
       "    }\n",
       "</style>\n",
       "<table border=\"1\" class=\"dataframe\">\n",
       "  <thead>\n",
       "    <tr style=\"text-align: right;\">\n",
       "      <th></th>\n",
       "      <th>0</th>\n",
       "      <th>1</th>\n",
       "      <th>2</th>\n",
       "      <th>3</th>\n",
       "      <th>4</th>\n",
       "      <th>5</th>\n",
       "      <th>6</th>\n",
       "    </tr>\n",
       "  </thead>\n",
       "  <tbody>\n",
       "    <tr>\n",
       "      <th>1074</th>\n",
       "      <td>1</td>\n",
       "      <td>0</td>\n",
       "      <td>0</td>\n",
       "      <td>0</td>\n",
       "      <td>0</td>\n",
       "      <td>0</td>\n",
       "      <td>0</td>\n",
       "    </tr>\n",
       "    <tr>\n",
       "      <th>289</th>\n",
       "      <td>0</td>\n",
       "      <td>0</td>\n",
       "      <td>0</td>\n",
       "      <td>0</td>\n",
       "      <td>1</td>\n",
       "      <td>0</td>\n",
       "      <td>0</td>\n",
       "    </tr>\n",
       "    <tr>\n",
       "      <th>883</th>\n",
       "      <td>0</td>\n",
       "      <td>0</td>\n",
       "      <td>0</td>\n",
       "      <td>1</td>\n",
       "      <td>0</td>\n",
       "      <td>0</td>\n",
       "      <td>0</td>\n",
       "    </tr>\n",
       "    <tr>\n",
       "      <th>1045</th>\n",
       "      <td>1</td>\n",
       "      <td>0</td>\n",
       "      <td>0</td>\n",
       "      <td>0</td>\n",
       "      <td>0</td>\n",
       "      <td>0</td>\n",
       "      <td>0</td>\n",
       "    </tr>\n",
       "    <tr>\n",
       "      <th>1057</th>\n",
       "      <td>0</td>\n",
       "      <td>0</td>\n",
       "      <td>0</td>\n",
       "      <td>0</td>\n",
       "      <td>1</td>\n",
       "      <td>0</td>\n",
       "      <td>0</td>\n",
       "    </tr>\n",
       "    <tr>\n",
       "      <th>...</th>\n",
       "      <td>...</td>\n",
       "      <td>...</td>\n",
       "      <td>...</td>\n",
       "      <td>...</td>\n",
       "      <td>...</td>\n",
       "      <td>...</td>\n",
       "      <td>...</td>\n",
       "    </tr>\n",
       "    <tr>\n",
       "      <th>915</th>\n",
       "      <td>0</td>\n",
       "      <td>0</td>\n",
       "      <td>0</td>\n",
       "      <td>0</td>\n",
       "      <td>0</td>\n",
       "      <td>1</td>\n",
       "      <td>0</td>\n",
       "    </tr>\n",
       "    <tr>\n",
       "      <th>217</th>\n",
       "      <td>1</td>\n",
       "      <td>0</td>\n",
       "      <td>0</td>\n",
       "      <td>0</td>\n",
       "      <td>0</td>\n",
       "      <td>0</td>\n",
       "      <td>0</td>\n",
       "    </tr>\n",
       "    <tr>\n",
       "      <th>168</th>\n",
       "      <td>0</td>\n",
       "      <td>0</td>\n",
       "      <td>0</td>\n",
       "      <td>0</td>\n",
       "      <td>0</td>\n",
       "      <td>1</td>\n",
       "      <td>0</td>\n",
       "    </tr>\n",
       "    <tr>\n",
       "      <th>1104</th>\n",
       "      <td>1</td>\n",
       "      <td>0</td>\n",
       "      <td>0</td>\n",
       "      <td>0</td>\n",
       "      <td>0</td>\n",
       "      <td>0</td>\n",
       "      <td>0</td>\n",
       "    </tr>\n",
       "    <tr>\n",
       "      <th>999</th>\n",
       "      <td>0</td>\n",
       "      <td>1</td>\n",
       "      <td>0</td>\n",
       "      <td>0</td>\n",
       "      <td>0</td>\n",
       "      <td>0</td>\n",
       "      <td>0</td>\n",
       "    </tr>\n",
       "  </tbody>\n",
       "</table>\n",
       "<p>240 rows × 7 columns</p>\n",
       "</div>"
      ],
      "text/plain": [
       "      0  1  2  3  4  5  6\n",
       "1074  1  0  0  0  0  0  0\n",
       "289   0  0  0  0  1  0  0\n",
       "883   0  0  0  1  0  0  0\n",
       "1045  1  0  0  0  0  0  0\n",
       "1057  0  0  0  0  1  0  0\n",
       "...  .. .. .. .. .. .. ..\n",
       "915   0  0  0  0  0  1  0\n",
       "217   1  0  0  0  0  0  0\n",
       "168   0  0  0  0  0  1  0\n",
       "1104  1  0  0  0  0  0  0\n",
       "999   0  1  0  0  0  0  0\n",
       "\n",
       "[240 rows x 7 columns]"
      ]
     },
     "execution_count": 46,
     "metadata": {},
     "output_type": "execute_result"
    }
   ],
   "source": [
    "y_cat_val"
   ]
  },
  {
   "cell_type": "code",
   "execution_count": 47,
   "metadata": {
    "id": "DDahuOtlH8l8",
    "outputId": "0dd63e7a-b684-49ff-fed8-f86b687a6bf6"
   },
   "outputs": [
    {
     "name": "stdout",
     "output_type": "stream",
     "text": [
      "0.706763161878835\n"
     ]
    }
   ],
   "source": [
    "f1 = sklearn.metrics.f1_score(y_cat_val, y_pred, average='macro')\n",
    "print(f1)"
   ]
  },
  {
   "cell_type": "markdown",
   "metadata": {
    "id": "K51pkT9OfXAI"
   },
   "source": [
    "# Save model"
   ]
  },
  {
   "cell_type": "code",
   "execution_count": 48,
   "metadata": {
    "id": "UJ6b3_fzUAm-"
   },
   "outputs": [],
   "source": [
    "model_cat.save(DIR + 'model_cat_3.keras')"
   ]
  },
  {
   "cell_type": "markdown",
   "metadata": {
    "id": "nUwzLozvH8l-"
   },
   "source": [
    "# === model_rating ===\n",
    "Модель для работы с рейтингом\n",
    "Представляет собой Fine Tuning BERT (SOTA) - предварительно обученная модель, которая дообучается на наших данных.\n",
    "Дополнительно для улучшения скора - создаём дополнительный вход и подаём туда фичи.\n",
    "Итого, модель с 2 входами:\n",
    "- текст\n",
    "- 6 признаков"
   ]
  },
  {
   "cell_type": "markdown",
   "metadata": {
    "id": "TNRM8lKjBI8Q"
   },
   "source": [
    "## Model with multiple inputs\n",
    "Модель с двумя входами"
   ]
  },
  {
   "cell_type": "code",
   "execution_count": 49,
   "metadata": {
    "executionInfo": {
     "elapsed": 1465,
     "status": "ok",
     "timestamp": 1694299966120,
     "user": {
      "displayName": "Леонид Чесников",
      "userId": "02283243865444924445"
     },
     "user_tz": -180
    },
    "id": "Vup0shXSH8l-"
   },
   "outputs": [],
   "source": [
    "text_input = Input(shape=(), dtype=tf.string, name='text_input')\n",
    "preprocessed_text = bert_preprocess(text_input)\n",
    "outputs = bert_encoder(preprocessed_text)\n",
    "\n",
    "features_input = Input(shape=(6), name='features_input')\n",
    "x_1 = outputs['pooled_output']\n",
    "x_2 = Dense(6, activation='relu')(features_input)\n",
    "x = concatenate([x_1, x_2])\n",
    "x = Dropout(0.25)(x)\n",
    "x_output = Dense(17, activation='softmax')(x)"
   ]
  },
  {
   "cell_type": "code",
   "execution_count": 50,
   "metadata": {
    "colab": {
     "base_uri": "https://localhost:8080/",
     "height": 343
    },
    "executionInfo": {
     "elapsed": 295,
     "status": "ok",
     "timestamp": 1694299981153,
     "user": {
      "displayName": "Леонид Чесников",
      "userId": "02283243865444924445"
     },
     "user_tz": -180
    },
    "id": "Ka_MjEf6BI8Q",
    "outputId": "9fc9609b-3ba9-42df-c2f4-0fb8c527e105"
   },
   "outputs": [
    {
     "data": {
      "image/png": "[encoded data removed]",
      "text/plain": [
       "<IPython.core.display.Image object>"
      ]
     },
     "execution_count": 50,
     "metadata": {},
     "output_type": "execute_result"
    }
   ],
   "source": [
    "model_rat = Model(inputs=[text_input, features_input], outputs = [x_output])\n",
    "plot_model(model_rat, show_shapes=True, expand_nested=True, show_layer_names=True, dpi=50)"
   ]
  },
  {
   "cell_type": "code",
   "execution_count": 51,
   "metadata": {
    "colab": {
     "base_uri": "https://localhost:8080/"
    },
    "executionInfo": {
     "elapsed": 302,
     "status": "ok",
     "timestamp": 1694299983915,
     "user": {
      "displayName": "Леонид Чесников",
      "userId": "02283243865444924445"
     },
     "user_tz": -180
    },
    "id": "9cQvHOmaBI8Q",
    "outputId": "c5599964-2b07-4c23-ac7d-2aa9bf917988"
   },
   "outputs": [
    {
     "name": "stdout",
     "output_type": "stream",
     "text": [
      "Model: \"model_1\"\n",
      "__________________________________________________________________________________________________\n",
      " Layer (type)                Output Shape                 Param #   Connected to                  \n",
      "==================================================================================================\n",
      " text_input (InputLayer)     [(None,)]                    0         []                            \n",
      "                                                                                                  \n",
      " keras_layer (KerasLayer)    {'input_type_ids': (None,    0         ['text_input[0][0]']          \n",
      "                             128),                                                                \n",
      "                              'input_mask': (None, 128)                                           \n",
      "                             , 'input_word_ids': (None,                                           \n",
      "                              128)}                                                               \n",
      "                                                                                                  \n",
      " features_input (InputLayer  [(None, 6)]                  0         []                            \n",
      " )                                                                                                \n",
      "                                                                                                  \n",
      " keras_layer_1 (KerasLayer)  {'pooled_output': (None, 7   1778534   ['keras_layer[2][0]',         \n",
      "                             68),                         41         'keras_layer[2][1]',         \n",
      "                              'sequence_output': (None,              'keras_layer[2][2]']         \n",
      "                              128, 768),                                                          \n",
      "                              'encoder_outputs': [(None                                           \n",
      "                             , 128, 768),                                                         \n",
      "                              (None, 128, 768),                                                   \n",
      "                              (None, 128, 768),                                                   \n",
      "                              (None, 128, 768),                                                   \n",
      "                              (None, 128, 768),                                                   \n",
      "                              (None, 128, 768),                                                   \n",
      "                              (None, 128, 768),                                                   \n",
      "                              (None, 128, 768),                                                   \n",
      "                              (None, 128, 768),                                                   \n",
      "                              (None, 128, 768),                                                   \n",
      "                              (None, 128, 768),                                                   \n",
      "                              (None, 128, 768)],                                                  \n",
      "                              'default': (None, 768)}                                             \n",
      "                                                                                                  \n",
      " dense_2 (Dense)             (None, 6)                    42        ['features_input[0][0]']      \n",
      "                                                                                                  \n",
      " concatenate_1 (Concatenate  (None, 774)                  0         ['keras_layer_1[2][13]',      \n",
      " )                                                                   'dense_2[0][0]']             \n",
      "                                                                                                  \n",
      " dropout_1 (Dropout)         (None, 774)                  0         ['concatenate_1[0][0]']       \n",
      "                                                                                                  \n",
      " dense_3 (Dense)             (None, 17)                   13175     ['dropout_1[0][0]']           \n",
      "                                                                                                  \n",
      "==================================================================================================\n",
      "Total params: 177866658 (678.51 MB)\n",
      "Trainable params: 177866657 (678.51 MB)\n",
      "Non-trainable params: 1 (1.00 Byte)\n",
      "__________________________________________________________________________________________________\n",
      "None\n"
     ]
    }
   ],
   "source": [
    "print(model_rat.summary())"
   ]
  },
  {
   "cell_type": "markdown",
   "metadata": {
    "id": "k62cdPK4BI8R"
   },
   "source": [
    "## Model complite\n",
    "Особенность - очень маленький шаг обучения. Для ускорения обучения до 5 - 7 эпох, можно поднять learning_rate до 0.00005, но не более. Далее - существенное снижение точности."
   ]
  },
  {
   "cell_type": "code",
   "execution_count": 52,
   "metadata": {
    "executionInfo": {
     "elapsed": 249,
     "status": "ok",
     "timestamp": 1694299986212,
     "user": {
      "displayName": "Леонид Чесников",
      "userId": "02283243865444924445"
     },
     "user_tz": -180
    },
    "id": "CeFgIS-yBI8R"
   },
   "outputs": [],
   "source": [
    "model_rat.compile(loss='categorical_crossentropy', optimizer=Adam(learning_rate=(0.00001)), metrics=['accuracy'])\n",
    "\n",
    "checkpointer = ModelCheckpoint(\n",
    "  filepath = DIR + 'model_rat_3_w.h5',\n",
    "  monitor = 'val_accuracy',\n",
    "  mode = 'max',\n",
    "  verbose = 1,\n",
    "  save_best_only = True\n",
    ")"
   ]
  },
  {
   "cell_type": "code",
   "execution_count": 53,
   "metadata": {
    "colab": {
     "base_uri": "https://localhost:8080/",
     "height": 390
    },
    "executionInfo": {
     "elapsed": 721,
     "status": "error",
     "timestamp": 1694300001273,
     "user": {
      "displayName": "Леонид Чесников",
      "userId": "02283243865444924445"
     },
     "user_tz": -180
    },
    "id": "AuHqPMJfBI8R",
    "outputId": "954e0f15-7fc9-4c08-9489-b9ee3569bef9"
   },
   "outputs": [
    {
     "name": "stdout",
     "output_type": "stream",
     "text": [
      "Epoch 1/150\n",
      "60/60 [==============================] - ETA: 0s - loss: 13.4475 - accuracy: 0.1271\n",
      "Epoch 1: val_accuracy improved from -inf to 0.13750, saving model to /home/best/Code/HACKATONS/HacksAi_2023/solution/files/model_rat_3_w.h5\n"
     ]
    },
    {
     "name": "stderr",
     "output_type": "stream",
     "text": [
      "/home/best/.local/lib/python3.10/site-packages/keras/src/engine/training.py:3000: UserWarning: You are saving your model as an HDF5 file via `model.save()`. This file format is considered legacy. We recommend using instead the native Keras format, e.g. `model.save('my_model.keras')`.\n",
      "  saving_api.save_model(\n"
     ]
    },
    {
     "name": "stdout",
     "output_type": "stream",
     "text": [
      "60/60 [==============================] - 23s 186ms/step - loss: 13.4475 - accuracy: 0.1271 - val_loss: 10.8799 - val_accuracy: 0.1375\n",
      "Epoch 2/150\n",
      "60/60 [==============================] - ETA: 0s - loss: 11.3975 - accuracy: 0.2073\n",
      "Epoch 2: val_accuracy improved from 0.13750 to 0.22500, saving model to /home/best/Code/HACKATONS/HacksAi_2023/solution/files/model_rat_3_w.h5\n",
      "60/60 [==============================] - 10s 175ms/step - loss: 11.3975 - accuracy: 0.2073 - val_loss: 9.1514 - val_accuracy: 0.2250\n",
      "Epoch 3/150\n",
      "60/60 [==============================] - ETA: 0s - loss: 9.9348 - accuracy: 0.2865\n",
      "Epoch 3: val_accuracy improved from 0.22500 to 0.28333, saving model to /home/best/Code/HACKATONS/HacksAi_2023/solution/files/model_rat_3_w.h5\n",
      "60/60 [==============================] - 10s 165ms/step - loss: 9.9348 - accuracy: 0.2865 - val_loss: 8.0687 - val_accuracy: 0.2833\n",
      "Epoch 4/150\n",
      "60/60 [==============================] - ETA: 0s - loss: 8.7839 - accuracy: 0.3313\n",
      "Epoch 4: val_accuracy did not improve from 0.28333\n",
      "60/60 [==============================] - 8s 132ms/step - loss: 8.7839 - accuracy: 0.3313 - val_loss: 7.4831 - val_accuracy: 0.2792\n",
      "Epoch 5/150\n",
      "60/60 [==============================] - ETA: 0s - loss: 7.9289 - accuracy: 0.3396\n",
      "Epoch 5: val_accuracy improved from 0.28333 to 0.38750, saving model to /home/best/Code/HACKATONS/HacksAi_2023/solution/files/model_rat_3_w.h5\n",
      "60/60 [==============================] - 9s 158ms/step - loss: 7.9289 - accuracy: 0.3396 - val_loss: 6.7558 - val_accuracy: 0.3875\n",
      "Epoch 6/150\n",
      "60/60 [==============================] - ETA: 0s - loss: 6.9654 - accuracy: 0.4052\n",
      "Epoch 6: val_accuracy improved from 0.38750 to 0.40000, saving model to /home/best/Code/HACKATONS/HacksAi_2023/solution/files/model_rat_3_w.h5\n",
      "60/60 [==============================] - 10s 160ms/step - loss: 6.9654 - accuracy: 0.4052 - val_loss: 6.5649 - val_accuracy: 0.4000\n",
      "Epoch 7/150\n",
      "60/60 [==============================] - ETA: 0s - loss: 6.8966 - accuracy: 0.4208\n",
      "Epoch 7: val_accuracy did not improve from 0.40000\n",
      "60/60 [==============================] - 7s 123ms/step - loss: 6.8966 - accuracy: 0.4208 - val_loss: 6.2871 - val_accuracy: 0.3917\n",
      "Epoch 8/150\n",
      "60/60 [==============================] - ETA: 0s - loss: 6.3243 - accuracy: 0.4646\n",
      "Epoch 8: val_accuracy did not improve from 0.40000\n",
      "60/60 [==============================] - 7s 123ms/step - loss: 6.3243 - accuracy: 0.4646 - val_loss: 5.9056 - val_accuracy: 0.3917\n",
      "Epoch 9/150\n",
      "60/60 [==============================] - ETA: 0s - loss: 5.5993 - accuracy: 0.4750\n",
      "Epoch 9: val_accuracy improved from 0.40000 to 0.48333, saving model to /home/best/Code/HACKATONS/HacksAi_2023/solution/files/model_rat_3_w.h5\n",
      "60/60 [==============================] - 9s 154ms/step - loss: 5.5993 - accuracy: 0.4750 - val_loss: 5.8198 - val_accuracy: 0.4833\n",
      "Epoch 10/150\n",
      "60/60 [==============================] - ETA: 0s - loss: 5.4298 - accuracy: 0.5052\n",
      "Epoch 10: val_accuracy did not improve from 0.48333\n",
      "60/60 [==============================] - 7s 120ms/step - loss: 5.4298 - accuracy: 0.5052 - val_loss: 5.2253 - val_accuracy: 0.4583\n",
      "Epoch 11/150\n",
      "60/60 [==============================] - ETA: 0s - loss: 4.9648 - accuracy: 0.5531\n",
      "Epoch 11: val_accuracy did not improve from 0.48333\n",
      "60/60 [==============================] - 8s 126ms/step - loss: 4.9648 - accuracy: 0.5531 - val_loss: 5.5058 - val_accuracy: 0.4792\n",
      "Epoch 12/150\n",
      "60/60 [==============================] - ETA: 0s - loss: 4.3834 - accuracy: 0.5583\n",
      "Epoch 12: val_accuracy improved from 0.48333 to 0.50417, saving model to /home/best/Code/HACKATONS/HacksAi_2023/solution/files/model_rat_3_w.h5\n",
      "60/60 [==============================] - 9s 152ms/step - loss: 4.3834 - accuracy: 0.5583 - val_loss: 5.0465 - val_accuracy: 0.5042\n",
      "Epoch 13/150\n",
      "60/60 [==============================] - ETA: 0s - loss: 3.9626 - accuracy: 0.6115\n",
      "Epoch 13: val_accuracy did not improve from 0.50417\n",
      "60/60 [==============================] - 7s 124ms/step - loss: 3.9626 - accuracy: 0.6115 - val_loss: 4.9640 - val_accuracy: 0.5042\n",
      "Epoch 14/150\n",
      "60/60 [==============================] - ETA: 0s - loss: 3.7592 - accuracy: 0.6344\n",
      "Epoch 14: val_accuracy did not improve from 0.50417\n",
      "60/60 [==============================] - 7s 121ms/step - loss: 3.7592 - accuracy: 0.6344 - val_loss: 5.2799 - val_accuracy: 0.5000\n",
      "Epoch 15/150\n",
      "60/60 [==============================] - ETA: 0s - loss: 3.4859 - accuracy: 0.6531\n",
      "Epoch 15: val_accuracy improved from 0.50417 to 0.53333, saving model to /home/best/Code/HACKATONS/HacksAi_2023/solution/files/model_rat_3_w.h5\n",
      "60/60 [==============================] - 9s 153ms/step - loss: 3.4859 - accuracy: 0.6531 - val_loss: 4.9049 - val_accuracy: 0.5333\n",
      "Epoch 16/150\n",
      "60/60 [==============================] - ETA: 0s - loss: 2.9891 - accuracy: 0.6885\n",
      "Epoch 16: val_accuracy improved from 0.53333 to 0.55417, saving model to /home/best/Code/HACKATONS/HacksAi_2023/solution/files/model_rat_3_w.h5\n",
      "60/60 [==============================] - 9s 152ms/step - loss: 2.9891 - accuracy: 0.6885 - val_loss: 5.3187 - val_accuracy: 0.5542\n",
      "Epoch 17/150\n",
      "60/60 [==============================] - ETA: 0s - loss: 3.1175 - accuracy: 0.6719\n",
      "Epoch 17: val_accuracy did not improve from 0.55417\n",
      "60/60 [==============================] - 7s 120ms/step - loss: 3.1175 - accuracy: 0.6719 - val_loss: 5.1171 - val_accuracy: 0.5542\n",
      "Epoch 18/150\n",
      "60/60 [==============================] - ETA: 0s - loss: 2.6073 - accuracy: 0.7188\n",
      "Epoch 18: val_accuracy did not improve from 0.55417\n",
      "60/60 [==============================] - 7s 121ms/step - loss: 2.6073 - accuracy: 0.7188 - val_loss: 4.9153 - val_accuracy: 0.5292\n",
      "Epoch 19/150\n",
      "60/60 [==============================] - ETA: 0s - loss: 2.5792 - accuracy: 0.7229\n",
      "Epoch 19: val_accuracy did not improve from 0.55417\n",
      "60/60 [==============================] - 7s 121ms/step - loss: 2.5792 - accuracy: 0.7229 - val_loss: 5.6726 - val_accuracy: 0.5333\n",
      "Epoch 20/150\n",
      "60/60 [==============================] - ETA: 0s - loss: 2.3787 - accuracy: 0.7521\n",
      "Epoch 20: val_accuracy improved from 0.55417 to 0.58333, saving model to /home/best/Code/HACKATONS/HacksAi_2023/solution/files/model_rat_3_w.h5\n",
      "60/60 [==============================] - 9s 153ms/step - loss: 2.3787 - accuracy: 0.7521 - val_loss: 5.2148 - val_accuracy: 0.5833\n",
      "Epoch 21/150\n",
      "60/60 [==============================] - ETA: 0s - loss: 2.4282 - accuracy: 0.7594\n",
      "Epoch 21: val_accuracy did not improve from 0.58333\n",
      "60/60 [==============================] - 7s 120ms/step - loss: 2.4282 - accuracy: 0.7594 - val_loss: 5.2132 - val_accuracy: 0.5667\n",
      "Epoch 22/150\n",
      "60/60 [==============================] - ETA: 0s - loss: 1.9131 - accuracy: 0.7927\n",
      "Epoch 22: val_accuracy did not improve from 0.58333\n",
      "60/60 [==============================] - 7s 123ms/step - loss: 1.9131 - accuracy: 0.7927 - val_loss: 5.0521 - val_accuracy: 0.5833\n",
      "Epoch 23/150\n",
      "60/60 [==============================] - ETA: 0s - loss: 1.7534 - accuracy: 0.7990\n",
      "Epoch 23: val_accuracy did not improve from 0.58333\n",
      "60/60 [==============================] - 7s 120ms/step - loss: 1.7534 - accuracy: 0.7990 - val_loss: 5.4048 - val_accuracy: 0.5500\n",
      "Epoch 24/150\n",
      "60/60 [==============================] - ETA: 0s - loss: 1.7672 - accuracy: 0.8010\n",
      "Epoch 24: val_accuracy did not improve from 0.58333\n",
      "60/60 [==============================] - 7s 121ms/step - loss: 1.7672 - accuracy: 0.8010 - val_loss: 5.1955 - val_accuracy: 0.5375\n",
      "Epoch 25/150\n",
      "60/60 [==============================] - ETA: 0s - loss: 1.7184 - accuracy: 0.8198\n",
      "Epoch 25: val_accuracy did not improve from 0.58333\n",
      "60/60 [==============================] - 7s 121ms/step - loss: 1.7184 - accuracy: 0.8198 - val_loss: 5.3781 - val_accuracy: 0.5417\n",
      "Epoch 26/150\n",
      "60/60 [==============================] - ETA: 0s - loss: 1.4379 - accuracy: 0.8302\n",
      "Epoch 26: val_accuracy did not improve from 0.58333\n",
      "60/60 [==============================] - 7s 119ms/step - loss: 1.4379 - accuracy: 0.8302 - val_loss: 5.8419 - val_accuracy: 0.5125\n",
      "Epoch 27/150\n",
      "60/60 [==============================] - ETA: 0s - loss: 1.4830 - accuracy: 0.8313\n",
      "Epoch 27: val_accuracy did not improve from 0.58333\n",
      "60/60 [==============================] - 7s 121ms/step - loss: 1.4830 - accuracy: 0.8313 - val_loss: 5.9621 - val_accuracy: 0.5542\n"
     ]
    },
    {
     "name": "stdout",
     "output_type": "stream",
     "text": [
      "Epoch 28/150\n",
      "60/60 [==============================] - ETA: 0s - loss: 1.2345 - accuracy: 0.8510\n",
      "Epoch 28: val_accuracy did not improve from 0.58333\n",
      "60/60 [==============================] - 7s 120ms/step - loss: 1.2345 - accuracy: 0.8510 - val_loss: 5.3592 - val_accuracy: 0.5750\n",
      "Epoch 29/150\n",
      "60/60 [==============================] - ETA: 0s - loss: 1.0649 - accuracy: 0.8698\n",
      "Epoch 29: val_accuracy improved from 0.58333 to 0.58750, saving model to /home/best/Code/HACKATONS/HacksAi_2023/solution/files/model_rat_3_w.h5\n",
      "60/60 [==============================] - 9s 151ms/step - loss: 1.0649 - accuracy: 0.8698 - val_loss: 5.4002 - val_accuracy: 0.5875\n",
      "Epoch 30/150\n",
      "60/60 [==============================] - ETA: 0s - loss: 1.1247 - accuracy: 0.8708\n",
      "Epoch 30: val_accuracy did not improve from 0.58750\n",
      "60/60 [==============================] - 7s 119ms/step - loss: 1.1247 - accuracy: 0.8708 - val_loss: 5.4408 - val_accuracy: 0.5875\n",
      "Epoch 31/150\n",
      "60/60 [==============================] - ETA: 0s - loss: 1.0244 - accuracy: 0.8792\n",
      "Epoch 31: val_accuracy did not improve from 0.58750\n",
      "60/60 [==============================] - 7s 119ms/step - loss: 1.0244 - accuracy: 0.8792 - val_loss: 5.3746 - val_accuracy: 0.5833\n",
      "Epoch 32/150\n",
      "60/60 [==============================] - ETA: 0s - loss: 0.9971 - accuracy: 0.8792\n",
      "Epoch 32: val_accuracy improved from 0.58750 to 0.61250, saving model to /home/best/Code/HACKATONS/HacksAi_2023/solution/files/model_rat_3_w.h5\n",
      "60/60 [==============================] - 9s 153ms/step - loss: 0.9971 - accuracy: 0.8792 - val_loss: 5.2737 - val_accuracy: 0.6125\n",
      "Epoch 33/150\n",
      "60/60 [==============================] - ETA: 0s - loss: 0.8766 - accuracy: 0.8969\n",
      "Epoch 33: val_accuracy did not improve from 0.61250\n",
      "60/60 [==============================] - 7s 119ms/step - loss: 0.8766 - accuracy: 0.8969 - val_loss: 5.4960 - val_accuracy: 0.5958\n",
      "Epoch 34/150\n",
      "60/60 [==============================] - ETA: 0s - loss: 0.7816 - accuracy: 0.8990\n",
      "Epoch 34: val_accuracy did not improve from 0.61250\n",
      "60/60 [==============================] - 7s 119ms/step - loss: 0.7816 - accuracy: 0.8990 - val_loss: 5.4523 - val_accuracy: 0.5958\n",
      "Epoch 35/150\n",
      "60/60 [==============================] - ETA: 0s - loss: 0.8641 - accuracy: 0.9021\n",
      "Epoch 35: val_accuracy did not improve from 0.61250\n",
      "60/60 [==============================] - 7s 120ms/step - loss: 0.8641 - accuracy: 0.9021 - val_loss: 5.9056 - val_accuracy: 0.5792\n",
      "Epoch 36/150\n",
      "60/60 [==============================] - ETA: 0s - loss: 0.8081 - accuracy: 0.9073\n",
      "Epoch 36: val_accuracy did not improve from 0.61250\n",
      "60/60 [==============================] - 7s 121ms/step - loss: 0.8081 - accuracy: 0.9073 - val_loss: 5.4333 - val_accuracy: 0.5708\n",
      "Epoch 37/150\n",
      "60/60 [==============================] - ETA: 0s - loss: 0.7051 - accuracy: 0.9083\n",
      "Epoch 37: val_accuracy did not improve from 0.61250\n",
      "60/60 [==============================] - 7s 121ms/step - loss: 0.7051 - accuracy: 0.9083 - val_loss: 5.5812 - val_accuracy: 0.6125\n",
      "Epoch 38/150\n",
      "60/60 [==============================] - ETA: 0s - loss: 0.9100 - accuracy: 0.9042\n",
      "Epoch 38: val_accuracy did not improve from 0.61250\n",
      "60/60 [==============================] - 7s 121ms/step - loss: 0.9100 - accuracy: 0.9042 - val_loss: 5.7154 - val_accuracy: 0.5750\n",
      "Epoch 39/150\n",
      "60/60 [==============================] - ETA: 0s - loss: 0.7974 - accuracy: 0.9083\n",
      "Epoch 39: val_accuracy did not improve from 0.61250\n",
      "60/60 [==============================] - 7s 120ms/step - loss: 0.7974 - accuracy: 0.9083 - val_loss: 5.5696 - val_accuracy: 0.5833\n",
      "Epoch 40/150\n",
      "60/60 [==============================] - ETA: 0s - loss: 0.6260 - accuracy: 0.9177\n",
      "Epoch 40: val_accuracy did not improve from 0.61250\n",
      "60/60 [==============================] - 7s 120ms/step - loss: 0.6260 - accuracy: 0.9177 - val_loss: 5.6419 - val_accuracy: 0.5958\n",
      "Epoch 41/150\n",
      "60/60 [==============================] - ETA: 0s - loss: 0.6840 - accuracy: 0.9177\n",
      "Epoch 41: val_accuracy did not improve from 0.61250\n",
      "60/60 [==============================] - 7s 118ms/step - loss: 0.6840 - accuracy: 0.9177 - val_loss: 6.0321 - val_accuracy: 0.5708\n",
      "Epoch 42/150\n",
      "60/60 [==============================] - ETA: 0s - loss: 0.8347 - accuracy: 0.9010\n",
      "Epoch 42: val_accuracy did not improve from 0.61250\n",
      "60/60 [==============================] - 7s 121ms/step - loss: 0.8347 - accuracy: 0.9010 - val_loss: 5.6414 - val_accuracy: 0.5708\n",
      "Epoch 43/150\n",
      "60/60 [==============================] - ETA: 0s - loss: 0.5746 - accuracy: 0.9312\n",
      "Epoch 43: val_accuracy did not improve from 0.61250\n",
      "60/60 [==============================] - 7s 120ms/step - loss: 0.5746 - accuracy: 0.9312 - val_loss: 5.7576 - val_accuracy: 0.5875\n",
      "Epoch 44/150\n",
      "60/60 [==============================] - ETA: 0s - loss: 0.5535 - accuracy: 0.9354\n",
      "Epoch 44: val_accuracy did not improve from 0.61250\n",
      "60/60 [==============================] - 7s 120ms/step - loss: 0.5535 - accuracy: 0.9354 - val_loss: 6.0098 - val_accuracy: 0.5875\n",
      "Epoch 45/150\n",
      "60/60 [==============================] - ETA: 0s - loss: 0.5063 - accuracy: 0.9385\n",
      "Epoch 45: val_accuracy did not improve from 0.61250\n",
      "60/60 [==============================] - 7s 120ms/step - loss: 0.5063 - accuracy: 0.9385 - val_loss: 5.9110 - val_accuracy: 0.5750\n",
      "Epoch 46/150\n",
      "60/60 [==============================] - ETA: 0s - loss: 0.4043 - accuracy: 0.9438\n",
      "Epoch 46: val_accuracy did not improve from 0.61250\n",
      "60/60 [==============================] - 7s 118ms/step - loss: 0.4043 - accuracy: 0.9438 - val_loss: 5.8657 - val_accuracy: 0.5917\n",
      "Epoch 47/150\n",
      "60/60 [==============================] - ETA: 0s - loss: 0.4875 - accuracy: 0.9354\n",
      "Epoch 47: val_accuracy did not improve from 0.61250\n",
      "60/60 [==============================] - 7s 120ms/step - loss: 0.4875 - accuracy: 0.9354 - val_loss: 5.9896 - val_accuracy: 0.5917\n",
      "Epoch 48/150\n",
      "60/60 [==============================] - ETA: 0s - loss: 0.4328 - accuracy: 0.9479\n",
      "Epoch 48: val_accuracy did not improve from 0.61250\n",
      "60/60 [==============================] - 7s 120ms/step - loss: 0.4328 - accuracy: 0.9479 - val_loss: 6.0150 - val_accuracy: 0.5917\n",
      "Epoch 49/150\n",
      "60/60 [==============================] - ETA: 0s - loss: 0.2547 - accuracy: 0.9615\n",
      "Epoch 49: val_accuracy did not improve from 0.61250\n",
      "60/60 [==============================] - 7s 120ms/step - loss: 0.2547 - accuracy: 0.9615 - val_loss: 6.0991 - val_accuracy: 0.5875\n",
      "Epoch 50/150\n",
      "60/60 [==============================] - ETA: 0s - loss: 0.2720 - accuracy: 0.9667\n",
      "Epoch 50: val_accuracy did not improve from 0.61250\n",
      "60/60 [==============================] - 7s 120ms/step - loss: 0.2720 - accuracy: 0.9667 - val_loss: 6.3274 - val_accuracy: 0.5875\n",
      "Epoch 51/150\n",
      "60/60 [==============================] - ETA: 0s - loss: 0.3430 - accuracy: 0.9583\n",
      "Epoch 51: val_accuracy did not improve from 0.61250\n",
      "60/60 [==============================] - 7s 120ms/step - loss: 0.3430 - accuracy: 0.9583 - val_loss: 6.0981 - val_accuracy: 0.5958\n",
      "Epoch 52/150\n",
      "60/60 [==============================] - ETA: 0s - loss: 0.3193 - accuracy: 0.9552\n",
      "Epoch 52: val_accuracy did not improve from 0.61250\n",
      "60/60 [==============================] - 7s 121ms/step - loss: 0.3193 - accuracy: 0.9552 - val_loss: 6.1262 - val_accuracy: 0.5875\n",
      "Epoch 53/150\n",
      "60/60 [==============================] - ETA: 0s - loss: 0.3805 - accuracy: 0.9521\n",
      "Epoch 53: val_accuracy did not improve from 0.61250\n",
      "60/60 [==============================] - 7s 119ms/step - loss: 0.3805 - accuracy: 0.9521 - val_loss: 5.8986 - val_accuracy: 0.5875\n",
      "Epoch 54/150\n",
      "60/60 [==============================] - ETA: 0s - loss: 0.2519 - accuracy: 0.9552\n",
      "Epoch 54: val_accuracy did not improve from 0.61250\n",
      "60/60 [==============================] - 7s 119ms/step - loss: 0.2519 - accuracy: 0.9552 - val_loss: 6.2441 - val_accuracy: 0.5750\n",
      "Epoch 55/150\n",
      "60/60 [==============================] - ETA: 0s - loss: 0.2660 - accuracy: 0.9594\n",
      "Epoch 55: val_accuracy did not improve from 0.61250\n",
      "60/60 [==============================] - 7s 119ms/step - loss: 0.2660 - accuracy: 0.9594 - val_loss: 6.2591 - val_accuracy: 0.5667\n",
      "Epoch 56/150\n",
      "60/60 [==============================] - ETA: 0s - loss: 0.3316 - accuracy: 0.9531\n",
      "Epoch 56: val_accuracy did not improve from 0.61250\n",
      "60/60 [==============================] - 7s 119ms/step - loss: 0.3316 - accuracy: 0.9531 - val_loss: 6.3891 - val_accuracy: 0.5417\n"
     ]
    },
    {
     "name": "stdout",
     "output_type": "stream",
     "text": [
      "Epoch 57/150\n",
      "60/60 [==============================] - ETA: 0s - loss: 0.3793 - accuracy: 0.9490\n",
      "Epoch 57: val_accuracy did not improve from 0.61250\n",
      "60/60 [==============================] - 7s 120ms/step - loss: 0.3793 - accuracy: 0.9490 - val_loss: 6.4847 - val_accuracy: 0.5458\n",
      "Epoch 58/150\n",
      "60/60 [==============================] - ETA: 0s - loss: 0.3572 - accuracy: 0.9542\n",
      "Epoch 58: val_accuracy did not improve from 0.61250\n",
      "60/60 [==============================] - 7s 117ms/step - loss: 0.3572 - accuracy: 0.9542 - val_loss: 5.7234 - val_accuracy: 0.6000\n",
      "Epoch 59/150\n",
      "60/60 [==============================] - ETA: 0s - loss: 0.3275 - accuracy: 0.9552\n",
      "Epoch 59: val_accuracy did not improve from 0.61250\n",
      "60/60 [==============================] - 7s 119ms/step - loss: 0.3275 - accuracy: 0.9552 - val_loss: 6.4150 - val_accuracy: 0.5417\n",
      "Epoch 60/150\n",
      "60/60 [==============================] - ETA: 0s - loss: 0.3818 - accuracy: 0.9521\n",
      "Epoch 60: val_accuracy did not improve from 0.61250\n",
      "60/60 [==============================] - 7s 119ms/step - loss: 0.3818 - accuracy: 0.9521 - val_loss: 6.3377 - val_accuracy: 0.5625\n",
      "Epoch 61/150\n",
      "60/60 [==============================] - ETA: 0s - loss: 0.2785 - accuracy: 0.9656\n",
      "Epoch 61: val_accuracy did not improve from 0.61250\n",
      "60/60 [==============================] - 7s 119ms/step - loss: 0.2785 - accuracy: 0.9656 - val_loss: 6.3939 - val_accuracy: 0.5750\n",
      "Epoch 62/150\n",
      "60/60 [==============================] - ETA: 0s - loss: 0.2422 - accuracy: 0.9677\n",
      "Epoch 62: val_accuracy did not improve from 0.61250\n",
      "60/60 [==============================] - 7s 119ms/step - loss: 0.2422 - accuracy: 0.9677 - val_loss: 6.3670 - val_accuracy: 0.5917\n",
      "Epoch 63/150\n",
      "60/60 [==============================] - ETA: 0s - loss: 0.1670 - accuracy: 0.9708\n",
      "Epoch 63: val_accuracy did not improve from 0.61250\n",
      "60/60 [==============================] - 7s 118ms/step - loss: 0.1670 - accuracy: 0.9708 - val_loss: 6.3395 - val_accuracy: 0.5708\n",
      "Epoch 64/150\n",
      "60/60 [==============================] - ETA: 0s - loss: 0.1532 - accuracy: 0.9750\n",
      "Epoch 64: val_accuracy did not improve from 0.61250\n",
      "60/60 [==============================] - 7s 119ms/step - loss: 0.1532 - accuracy: 0.9750 - val_loss: 6.3986 - val_accuracy: 0.5667\n",
      "Epoch 65/150\n",
      "60/60 [==============================] - ETA: 0s - loss: 0.1590 - accuracy: 0.9833\n",
      "Epoch 65: val_accuracy did not improve from 0.61250\n",
      "60/60 [==============================] - 7s 119ms/step - loss: 0.1590 - accuracy: 0.9833 - val_loss: 6.6296 - val_accuracy: 0.5667\n",
      "Epoch 66/150\n",
      "60/60 [==============================] - ETA: 0s - loss: 0.1895 - accuracy: 0.9729\n",
      "Epoch 66: val_accuracy did not improve from 0.61250\n",
      "60/60 [==============================] - 7s 118ms/step - loss: 0.1895 - accuracy: 0.9729 - val_loss: 6.4883 - val_accuracy: 0.5833\n",
      "Epoch 67/150\n",
      "60/60 [==============================] - ETA: 0s - loss: 0.1362 - accuracy: 0.9771\n",
      "Epoch 67: val_accuracy did not improve from 0.61250\n",
      "60/60 [==============================] - 7s 118ms/step - loss: 0.1362 - accuracy: 0.9771 - val_loss: 6.3845 - val_accuracy: 0.5708\n",
      "Epoch 68/150\n",
      "60/60 [==============================] - ETA: 0s - loss: 0.1106 - accuracy: 0.9812\n",
      "Epoch 68: val_accuracy did not improve from 0.61250\n",
      "60/60 [==============================] - 7s 119ms/step - loss: 0.1106 - accuracy: 0.9812 - val_loss: 6.5929 - val_accuracy: 0.5625\n",
      "Epoch 69/150\n",
      "60/60 [==============================] - ETA: 0s - loss: 0.1623 - accuracy: 0.9792\n",
      "Epoch 69: val_accuracy did not improve from 0.61250\n",
      "60/60 [==============================] - 7s 118ms/step - loss: 0.1623 - accuracy: 0.9792 - val_loss: 6.6004 - val_accuracy: 0.5583\n",
      "Epoch 70/150\n",
      "60/60 [==============================] - ETA: 0s - loss: 0.2218 - accuracy: 0.9729\n",
      "Epoch 70: val_accuracy did not improve from 0.61250\n",
      "60/60 [==============================] - 7s 119ms/step - loss: 0.2218 - accuracy: 0.9729 - val_loss: 6.5344 - val_accuracy: 0.5750\n",
      "Epoch 71/150\n",
      "60/60 [==============================] - ETA: 0s - loss: 0.3211 - accuracy: 0.9635\n",
      "Epoch 71: val_accuracy did not improve from 0.61250\n",
      "60/60 [==============================] - 7s 119ms/step - loss: 0.3211 - accuracy: 0.9635 - val_loss: 6.3418 - val_accuracy: 0.5500\n",
      "Epoch 72/150\n",
      "60/60 [==============================] - ETA: 0s - loss: 0.2990 - accuracy: 0.9594\n",
      "Epoch 72: val_accuracy did not improve from 0.61250\n",
      "60/60 [==============================] - 7s 118ms/step - loss: 0.2990 - accuracy: 0.9594 - val_loss: 6.3372 - val_accuracy: 0.5792\n",
      "Epoch 73/150\n",
      "60/60 [==============================] - ETA: 0s - loss: 0.2053 - accuracy: 0.9698\n",
      "Epoch 73: val_accuracy did not improve from 0.61250\n",
      "60/60 [==============================] - 7s 118ms/step - loss: 0.2053 - accuracy: 0.9698 - val_loss: 6.4837 - val_accuracy: 0.5792\n",
      "Epoch 74/150\n",
      "60/60 [==============================] - ETA: 0s - loss: 0.2608 - accuracy: 0.9594\n",
      "Epoch 74: val_accuracy did not improve from 0.61250\n",
      "60/60 [==============================] - 7s 118ms/step - loss: 0.2608 - accuracy: 0.9594 - val_loss: 6.4412 - val_accuracy: 0.5583\n",
      "Epoch 75/150\n",
      "60/60 [==============================] - ETA: 0s - loss: 0.1760 - accuracy: 0.9708\n",
      "Epoch 75: val_accuracy did not improve from 0.61250\n",
      "60/60 [==============================] - 7s 119ms/step - loss: 0.1760 - accuracy: 0.9708 - val_loss: 6.5235 - val_accuracy: 0.5625\n",
      "Epoch 76/150\n",
      "60/60 [==============================] - ETA: 0s - loss: 0.1943 - accuracy: 0.9698\n",
      "Epoch 76: val_accuracy did not improve from 0.61250\n",
      "60/60 [==============================] - 7s 119ms/step - loss: 0.1943 - accuracy: 0.9698 - val_loss: 6.2377 - val_accuracy: 0.5500\n",
      "Epoch 77/150\n",
      "60/60 [==============================] - ETA: 0s - loss: 0.1738 - accuracy: 0.9781\n",
      "Epoch 77: val_accuracy did not improve from 0.61250\n",
      "60/60 [==============================] - 7s 120ms/step - loss: 0.1738 - accuracy: 0.9781 - val_loss: 6.7129 - val_accuracy: 0.5375\n",
      "Epoch 78/150\n",
      "60/60 [==============================] - ETA: 0s - loss: 0.1426 - accuracy: 0.9740\n",
      "Epoch 78: val_accuracy did not improve from 0.61250\n",
      "60/60 [==============================] - 7s 121ms/step - loss: 0.1426 - accuracy: 0.9740 - val_loss: 6.0294 - val_accuracy: 0.5875\n",
      "Epoch 79/150\n",
      "60/60 [==============================] - ETA: 0s - loss: 0.1565 - accuracy: 0.9781\n",
      "Epoch 79: val_accuracy did not improve from 0.61250\n",
      "60/60 [==============================] - 7s 118ms/step - loss: 0.1565 - accuracy: 0.9781 - val_loss: 6.5723 - val_accuracy: 0.5667\n",
      "Epoch 80/150\n",
      "60/60 [==============================] - ETA: 0s - loss: 0.0972 - accuracy: 0.9781\n",
      "Epoch 80: val_accuracy did not improve from 0.61250\n",
      "60/60 [==============================] - 7s 121ms/step - loss: 0.0972 - accuracy: 0.9781 - val_loss: 6.7388 - val_accuracy: 0.5750\n",
      "Epoch 81/150\n",
      "60/60 [==============================] - ETA: 0s - loss: 0.0917 - accuracy: 0.9823\n",
      "Epoch 81: val_accuracy did not improve from 0.61250\n",
      "60/60 [==============================] - 7s 118ms/step - loss: 0.0917 - accuracy: 0.9823 - val_loss: 6.5130 - val_accuracy: 0.5667\n",
      "Epoch 82/150\n",
      "60/60 [==============================] - ETA: 0s - loss: 0.0698 - accuracy: 0.9865\n",
      "Epoch 82: val_accuracy did not improve from 0.61250\n",
      "60/60 [==============================] - 7s 118ms/step - loss: 0.0698 - accuracy: 0.9865 - val_loss: 6.5985 - val_accuracy: 0.5583\n",
      "Epoch 83/150\n",
      "60/60 [==============================] - ETA: 0s - loss: 0.1327 - accuracy: 0.9781\n",
      "Epoch 83: val_accuracy did not improve from 0.61250\n",
      "60/60 [==============================] - 7s 118ms/step - loss: 0.1327 - accuracy: 0.9781 - val_loss: 6.6836 - val_accuracy: 0.5875\n",
      "Epoch 84/150\n",
      "60/60 [==============================] - ETA: 0s - loss: 0.1274 - accuracy: 0.9729\n",
      "Epoch 84: val_accuracy did not improve from 0.61250\n",
      "60/60 [==============================] - 7s 117ms/step - loss: 0.1274 - accuracy: 0.9729 - val_loss: 6.7971 - val_accuracy: 0.5542\n",
      "Epoch 85/150\n",
      "60/60 [==============================] - ETA: 0s - loss: 0.1681 - accuracy: 0.9792\n",
      "Epoch 85: val_accuracy did not improve from 0.61250\n",
      "60/60 [==============================] - 7s 119ms/step - loss: 0.1681 - accuracy: 0.9792 - val_loss: 6.4657 - val_accuracy: 0.5625\n",
      "Epoch 86/150\n",
      "60/60 [==============================] - ETA: 0s - loss: 0.1149 - accuracy: 0.9875\n",
      "Epoch 86: val_accuracy did not improve from 0.61250\n"
     ]
    },
    {
     "name": "stdout",
     "output_type": "stream",
     "text": [
      "60/60 [==============================] - 7s 119ms/step - loss: 0.1149 - accuracy: 0.9875 - val_loss: 6.2951 - val_accuracy: 0.5625\n",
      "Epoch 87/150\n",
      "60/60 [==============================] - ETA: 0s - loss: 0.0850 - accuracy: 0.9844\n",
      "Epoch 87: val_accuracy did not improve from 0.61250\n",
      "60/60 [==============================] - 7s 118ms/step - loss: 0.0850 - accuracy: 0.9844 - val_loss: 6.5508 - val_accuracy: 0.5917\n",
      "Epoch 88/150\n",
      "60/60 [==============================] - ETA: 0s - loss: 0.0926 - accuracy: 0.9844\n",
      "Epoch 88: val_accuracy did not improve from 0.61250\n",
      "60/60 [==============================] - 7s 119ms/step - loss: 0.0926 - accuracy: 0.9844 - val_loss: 6.3880 - val_accuracy: 0.5792\n",
      "Epoch 89/150\n",
      "60/60 [==============================] - ETA: 0s - loss: 0.1742 - accuracy: 0.9760\n",
      "Epoch 89: val_accuracy did not improve from 0.61250\n",
      "60/60 [==============================] - 7s 120ms/step - loss: 0.1742 - accuracy: 0.9760 - val_loss: 6.4166 - val_accuracy: 0.5750\n",
      "Epoch 90/150\n",
      "60/60 [==============================] - ETA: 0s - loss: 0.1869 - accuracy: 0.9792\n",
      "Epoch 90: val_accuracy did not improve from 0.61250\n",
      "60/60 [==============================] - 7s 119ms/step - loss: 0.1869 - accuracy: 0.9792 - val_loss: 6.3934 - val_accuracy: 0.5708\n",
      "Epoch 91/150\n",
      "60/60 [==============================] - ETA: 0s - loss: 0.1146 - accuracy: 0.9865\n",
      "Epoch 91: val_accuracy did not improve from 0.61250\n",
      "60/60 [==============================] - 7s 118ms/step - loss: 0.1146 - accuracy: 0.9865 - val_loss: 6.4537 - val_accuracy: 0.5875\n",
      "Epoch 92/150\n",
      "60/60 [==============================] - ETA: 0s - loss: 0.0653 - accuracy: 0.9854\n",
      "Epoch 92: val_accuracy did not improve from 0.61250\n",
      "60/60 [==============================] - 7s 118ms/step - loss: 0.0653 - accuracy: 0.9854 - val_loss: 6.3476 - val_accuracy: 0.5583\n",
      "Epoch 93/150\n",
      "60/60 [==============================] - ETA: 0s - loss: 0.0989 - accuracy: 0.9844\n",
      "Epoch 93: val_accuracy did not improve from 0.61250\n",
      "60/60 [==============================] - 7s 119ms/step - loss: 0.0989 - accuracy: 0.9844 - val_loss: 6.4782 - val_accuracy: 0.5708\n",
      "Epoch 94/150\n",
      "60/60 [==============================] - ETA: 0s - loss: 0.0838 - accuracy: 0.9875\n",
      "Epoch 94: val_accuracy did not improve from 0.61250\n",
      "60/60 [==============================] - 7s 119ms/step - loss: 0.0838 - accuracy: 0.9875 - val_loss: 6.4881 - val_accuracy: 0.5625\n",
      "Epoch 95/150\n",
      "60/60 [==============================] - ETA: 0s - loss: 0.0681 - accuracy: 0.9906\n",
      "Epoch 95: val_accuracy did not improve from 0.61250\n",
      "60/60 [==============================] - 7s 119ms/step - loss: 0.0681 - accuracy: 0.9906 - val_loss: 6.4631 - val_accuracy: 0.5792\n",
      "Epoch 96/150\n",
      "60/60 [==============================] - ETA: 0s - loss: 0.0987 - accuracy: 0.9833\n",
      "Epoch 96: val_accuracy did not improve from 0.61250\n",
      "60/60 [==============================] - 7s 119ms/step - loss: 0.0987 - accuracy: 0.9833 - val_loss: 6.6693 - val_accuracy: 0.5750\n",
      "Epoch 97/150\n",
      "60/60 [==============================] - ETA: 0s - loss: 0.0701 - accuracy: 0.9896\n",
      "Epoch 97: val_accuracy did not improve from 0.61250\n",
      "60/60 [==============================] - 7s 120ms/step - loss: 0.0701 - accuracy: 0.9896 - val_loss: 6.3634 - val_accuracy: 0.5833\n",
      "Epoch 98/150\n",
      "60/60 [==============================] - ETA: 0s - loss: 0.1745 - accuracy: 0.9802\n",
      "Epoch 98: val_accuracy did not improve from 0.61250\n",
      "60/60 [==============================] - 7s 120ms/step - loss: 0.1745 - accuracy: 0.9802 - val_loss: 6.2392 - val_accuracy: 0.5708\n",
      "Epoch 99/150\n",
      "60/60 [==============================] - ETA: 0s - loss: 0.1116 - accuracy: 0.9844\n",
      "Epoch 99: val_accuracy did not improve from 0.61250\n",
      "60/60 [==============================] - 7s 119ms/step - loss: 0.1116 - accuracy: 0.9844 - val_loss: 6.4528 - val_accuracy: 0.5792\n",
      "Epoch 100/150\n",
      "60/60 [==============================] - ETA: 0s - loss: 0.0444 - accuracy: 0.9906\n",
      "Epoch 100: val_accuracy did not improve from 0.61250\n",
      "60/60 [==============================] - 7s 120ms/step - loss: 0.0444 - accuracy: 0.9906 - val_loss: 6.2874 - val_accuracy: 0.5833\n",
      "Epoch 101/150\n",
      "60/60 [==============================] - ETA: 0s - loss: 0.0352 - accuracy: 0.9896\n",
      "Epoch 101: val_accuracy did not improve from 0.61250\n",
      "60/60 [==============================] - 7s 120ms/step - loss: 0.0352 - accuracy: 0.9896 - val_loss: 6.6600 - val_accuracy: 0.5542\n",
      "Epoch 102/150\n",
      "60/60 [==============================] - ETA: 0s - loss: 0.0471 - accuracy: 0.9937\n",
      "Epoch 102: val_accuracy did not improve from 0.61250\n",
      "60/60 [==============================] - 7s 118ms/step - loss: 0.0471 - accuracy: 0.9937 - val_loss: 6.5202 - val_accuracy: 0.5833\n",
      "Epoch 103/150\n",
      "60/60 [==============================] - ETA: 0s - loss: 0.0387 - accuracy: 0.9917\n",
      "Epoch 103: val_accuracy did not improve from 0.61250\n",
      "60/60 [==============================] - 7s 120ms/step - loss: 0.0387 - accuracy: 0.9917 - val_loss: 6.6577 - val_accuracy: 0.5750\n",
      "Epoch 104/150\n",
      "60/60 [==============================] - ETA: 0s - loss: 0.0253 - accuracy: 0.9927\n",
      "Epoch 104: val_accuracy did not improve from 0.61250\n",
      "60/60 [==============================] - 7s 119ms/step - loss: 0.0253 - accuracy: 0.9927 - val_loss: 6.6725 - val_accuracy: 0.5833\n",
      "Epoch 105/150\n",
      "60/60 [==============================] - ETA: 0s - loss: 0.0157 - accuracy: 0.9969\n",
      "Epoch 105: val_accuracy did not improve from 0.61250\n",
      "60/60 [==============================] - 7s 118ms/step - loss: 0.0157 - accuracy: 0.9969 - val_loss: 6.6949 - val_accuracy: 0.5875\n",
      "Epoch 106/150\n",
      "60/60 [==============================] - ETA: 0s - loss: 0.0370 - accuracy: 0.9917\n",
      "Epoch 106: val_accuracy did not improve from 0.61250\n",
      "60/60 [==============================] - 7s 118ms/step - loss: 0.0370 - accuracy: 0.9917 - val_loss: 6.6193 - val_accuracy: 0.5750\n",
      "Epoch 107/150\n",
      "60/60 [==============================] - ETA: 0s - loss: 0.1779 - accuracy: 0.9802\n",
      "Epoch 107: val_accuracy did not improve from 0.61250\n",
      "60/60 [==============================] - 7s 119ms/step - loss: 0.1779 - accuracy: 0.9802 - val_loss: 6.6339 - val_accuracy: 0.5625\n",
      "Epoch 108/150\n",
      "60/60 [==============================] - ETA: 0s - loss: 0.1849 - accuracy: 0.9760\n",
      "Epoch 108: val_accuracy did not improve from 0.61250\n",
      "60/60 [==============================] - 7s 118ms/step - loss: 0.1849 - accuracy: 0.9760 - val_loss: 5.9328 - val_accuracy: 0.5625\n",
      "Epoch 109/150\n",
      "60/60 [==============================] - ETA: 0s - loss: 0.1228 - accuracy: 0.9823\n",
      "Epoch 109: val_accuracy did not improve from 0.61250\n",
      "60/60 [==============================] - 7s 119ms/step - loss: 0.1228 - accuracy: 0.9823 - val_loss: 6.4913 - val_accuracy: 0.5542\n",
      "Epoch 110/150\n",
      "60/60 [==============================] - ETA: 0s - loss: 0.0657 - accuracy: 0.9885\n",
      "Epoch 110: val_accuracy did not improve from 0.61250\n",
      "60/60 [==============================] - 7s 119ms/step - loss: 0.0657 - accuracy: 0.9885 - val_loss: 6.6542 - val_accuracy: 0.5583\n",
      "Epoch 111/150\n",
      "60/60 [==============================] - ETA: 0s - loss: 0.0509 - accuracy: 0.9896\n",
      "Epoch 111: val_accuracy did not improve from 0.61250\n",
      "60/60 [==============================] - 7s 118ms/step - loss: 0.0509 - accuracy: 0.9896 - val_loss: 6.7506 - val_accuracy: 0.5792\n",
      "Epoch 112/150\n",
      "60/60 [==============================] - ETA: 0s - loss: 0.0977 - accuracy: 0.9833\n",
      "Epoch 112: val_accuracy did not improve from 0.61250\n",
      "60/60 [==============================] - 7s 120ms/step - loss: 0.0977 - accuracy: 0.9833 - val_loss: 6.6649 - val_accuracy: 0.5542\n",
      "Epoch 113/150\n",
      "60/60 [==============================] - ETA: 0s - loss: 0.0715 - accuracy: 0.9896\n",
      "Epoch 113: val_accuracy did not improve from 0.61250\n",
      "60/60 [==============================] - 7s 119ms/step - loss: 0.0715 - accuracy: 0.9896 - val_loss: 6.5904 - val_accuracy: 0.5750\n",
      "Epoch 114/150\n",
      "60/60 [==============================] - ETA: 0s - loss: 0.0997 - accuracy: 0.9885\n",
      "Epoch 114: val_accuracy did not improve from 0.61250\n",
      "60/60 [==============================] - 7s 119ms/step - loss: 0.0997 - accuracy: 0.9885 - val_loss: 6.6214 - val_accuracy: 0.5708\n",
      "Epoch 115/150\n",
      "60/60 [==============================] - ETA: 0s - loss: 0.0427 - accuracy: 0.9896\n",
      "Epoch 115: val_accuracy did not improve from 0.61250\n",
      "60/60 [==============================] - 7s 119ms/step - loss: 0.0427 - accuracy: 0.9896 - val_loss: 6.9374 - val_accuracy: 0.5458\n"
     ]
    },
    {
     "name": "stdout",
     "output_type": "stream",
     "text": [
      "Epoch 116/150\n",
      "60/60 [==============================] - ETA: 0s - loss: 0.0755 - accuracy: 0.9854\n",
      "Epoch 116: val_accuracy did not improve from 0.61250\n",
      "60/60 [==============================] - 7s 118ms/step - loss: 0.0755 - accuracy: 0.9854 - val_loss: 6.9440 - val_accuracy: 0.5667\n",
      "Epoch 117/150\n",
      "60/60 [==============================] - ETA: 0s - loss: 0.1512 - accuracy: 0.9844\n",
      "Epoch 117: val_accuracy did not improve from 0.61250\n",
      "60/60 [==============================] - 7s 118ms/step - loss: 0.1512 - accuracy: 0.9844 - val_loss: 6.4933 - val_accuracy: 0.5833\n",
      "Epoch 118/150\n",
      "60/60 [==============================] - ETA: 0s - loss: 0.0986 - accuracy: 0.9823\n",
      "Epoch 118: val_accuracy did not improve from 0.61250\n",
      "60/60 [==============================] - 7s 119ms/step - loss: 0.0986 - accuracy: 0.9823 - val_loss: 6.3302 - val_accuracy: 0.5667\n",
      "Epoch 119/150\n",
      "60/60 [==============================] - ETA: 0s - loss: 0.1742 - accuracy: 0.9729\n",
      "Epoch 119: val_accuracy did not improve from 0.61250\n",
      "60/60 [==============================] - 7s 120ms/step - loss: 0.1742 - accuracy: 0.9729 - val_loss: 7.0406 - val_accuracy: 0.5792\n",
      "Epoch 120/150\n",
      "60/60 [==============================] - ETA: 0s - loss: 0.0559 - accuracy: 0.9896\n",
      "Epoch 120: val_accuracy did not improve from 0.61250\n",
      "60/60 [==============================] - 7s 118ms/step - loss: 0.0559 - accuracy: 0.9896 - val_loss: 6.8341 - val_accuracy: 0.5583\n",
      "Epoch 121/150\n",
      "60/60 [==============================] - ETA: 0s - loss: 0.0912 - accuracy: 0.9917\n",
      "Epoch 121: val_accuracy did not improve from 0.61250\n",
      "60/60 [==============================] - 7s 119ms/step - loss: 0.0912 - accuracy: 0.9917 - val_loss: 6.8430 - val_accuracy: 0.5750\n",
      "Epoch 122/150\n",
      "60/60 [==============================] - ETA: 0s - loss: 0.0580 - accuracy: 0.9969\n",
      "Epoch 122: val_accuracy did not improve from 0.61250\n",
      "60/60 [==============================] - 7s 118ms/step - loss: 0.0580 - accuracy: 0.9969 - val_loss: 6.7837 - val_accuracy: 0.5875\n",
      "Epoch 123/150\n",
      "60/60 [==============================] - ETA: 0s - loss: 0.0105 - accuracy: 0.9979\n",
      "Epoch 123: val_accuracy did not improve from 0.61250\n",
      "60/60 [==============================] - 7s 118ms/step - loss: 0.0105 - accuracy: 0.9979 - val_loss: 6.8663 - val_accuracy: 0.5625\n",
      "Epoch 124/150\n",
      "60/60 [==============================] - ETA: 0s - loss: 0.0447 - accuracy: 0.9865\n",
      "Epoch 124: val_accuracy did not improve from 0.61250\n",
      "60/60 [==============================] - 7s 119ms/step - loss: 0.0447 - accuracy: 0.9865 - val_loss: 6.6611 - val_accuracy: 0.5708\n",
      "Epoch 125/150\n",
      "60/60 [==============================] - ETA: 0s - loss: 0.0089 - accuracy: 0.9979\n",
      "Epoch 125: val_accuracy did not improve from 0.61250\n",
      "60/60 [==============================] - 7s 119ms/step - loss: 0.0089 - accuracy: 0.9979 - val_loss: 6.6013 - val_accuracy: 0.5917\n",
      "Epoch 126/150\n",
      "60/60 [==============================] - ETA: 0s - loss: 0.0071 - accuracy: 0.9990\n",
      "Epoch 126: val_accuracy did not improve from 0.61250\n",
      "60/60 [==============================] - 7s 120ms/step - loss: 0.0071 - accuracy: 0.9990 - val_loss: 6.7342 - val_accuracy: 0.5833\n",
      "Epoch 127/150\n",
      "60/60 [==============================] - ETA: 0s - loss: 0.0086 - accuracy: 0.9969\n",
      "Epoch 127: val_accuracy did not improve from 0.61250\n",
      "60/60 [==============================] - 7s 119ms/step - loss: 0.0086 - accuracy: 0.9969 - val_loss: 6.7760 - val_accuracy: 0.5833\n",
      "Epoch 128/150\n",
      "60/60 [==============================] - ETA: 0s - loss: 0.0089 - accuracy: 0.9958\n",
      "Epoch 128: val_accuracy did not improve from 0.61250\n",
      "60/60 [==============================] - 7s 118ms/step - loss: 0.0089 - accuracy: 0.9958 - val_loss: 6.7964 - val_accuracy: 0.5875\n",
      "Epoch 129/150\n",
      "60/60 [==============================] - ETA: 0s - loss: 0.0124 - accuracy: 0.9990\n",
      "Epoch 129: val_accuracy did not improve from 0.61250\n",
      "60/60 [==============================] - 7s 118ms/step - loss: 0.0124 - accuracy: 0.9990 - val_loss: 6.8041 - val_accuracy: 0.5875\n",
      "Epoch 130/150\n",
      "60/60 [==============================] - ETA: 0s - loss: 0.0120 - accuracy: 0.9958\n",
      "Epoch 130: val_accuracy did not improve from 0.61250\n",
      "60/60 [==============================] - 7s 120ms/step - loss: 0.0120 - accuracy: 0.9958 - val_loss: 6.8630 - val_accuracy: 0.5833\n",
      "Epoch 131/150\n",
      "60/60 [==============================] - ETA: 0s - loss: 0.0163 - accuracy: 0.9948\n",
      "Epoch 131: val_accuracy did not improve from 0.61250\n",
      "60/60 [==============================] - 7s 118ms/step - loss: 0.0163 - accuracy: 0.9948 - val_loss: 7.1221 - val_accuracy: 0.5625\n",
      "Epoch 132/150\n",
      "60/60 [==============================] - ETA: 0s - loss: 0.0277 - accuracy: 0.9958\n",
      "Epoch 132: val_accuracy did not improve from 0.61250\n",
      "60/60 [==============================] - 7s 119ms/step - loss: 0.0277 - accuracy: 0.9958 - val_loss: 6.8799 - val_accuracy: 0.5667\n",
      "Epoch 133/150\n",
      "60/60 [==============================] - ETA: 0s - loss: 0.0058 - accuracy: 0.9969\n",
      "Epoch 133: val_accuracy did not improve from 0.61250\n",
      "60/60 [==============================] - 7s 120ms/step - loss: 0.0058 - accuracy: 0.9969 - val_loss: 6.9186 - val_accuracy: 0.5500\n",
      "Epoch 134/150\n",
      "60/60 [==============================] - ETA: 0s - loss: 0.0124 - accuracy: 0.9979\n",
      "Epoch 134: val_accuracy did not improve from 0.61250\n",
      "60/60 [==============================] - 7s 120ms/step - loss: 0.0124 - accuracy: 0.9979 - val_loss: 7.0026 - val_accuracy: 0.5625\n",
      "Epoch 135/150\n",
      "60/60 [==============================] - ETA: 0s - loss: 0.0080 - accuracy: 0.9979\n",
      "Epoch 135: val_accuracy did not improve from 0.61250\n",
      "60/60 [==============================] - 7s 118ms/step - loss: 0.0080 - accuracy: 0.9979 - val_loss: 7.0109 - val_accuracy: 0.5625\n",
      "Epoch 136/150\n",
      "60/60 [==============================] - ETA: 0s - loss: 0.0254 - accuracy: 0.9958\n",
      "Epoch 136: val_accuracy did not improve from 0.61250\n",
      "60/60 [==============================] - 7s 119ms/step - loss: 0.0254 - accuracy: 0.9958 - val_loss: 7.0697 - val_accuracy: 0.5708\n",
      "Epoch 137/150\n",
      "60/60 [==============================] - ETA: 0s - loss: 0.0117 - accuracy: 0.9958\n",
      "Epoch 137: val_accuracy did not improve from 0.61250\n",
      "60/60 [==============================] - 7s 119ms/step - loss: 0.0117 - accuracy: 0.9958 - val_loss: 7.1501 - val_accuracy: 0.5708\n",
      "Epoch 138/150\n",
      "60/60 [==============================] - ETA: 0s - loss: 0.0130 - accuracy: 0.9958\n",
      "Epoch 138: val_accuracy did not improve from 0.61250\n",
      "60/60 [==============================] - 7s 119ms/step - loss: 0.0130 - accuracy: 0.9958 - val_loss: 7.0816 - val_accuracy: 0.5750\n",
      "Epoch 139/150\n",
      "60/60 [==============================] - ETA: 0s - loss: 0.0588 - accuracy: 0.9906\n",
      "Epoch 139: val_accuracy did not improve from 0.61250\n",
      "60/60 [==============================] - 7s 119ms/step - loss: 0.0588 - accuracy: 0.9906 - val_loss: 7.0638 - val_accuracy: 0.5583\n",
      "Epoch 140/150\n",
      "60/60 [==============================] - ETA: 0s - loss: 0.0333 - accuracy: 0.9896\n",
      "Epoch 140: val_accuracy did not improve from 0.61250\n",
      "60/60 [==============================] - 7s 119ms/step - loss: 0.0333 - accuracy: 0.9896 - val_loss: 7.1276 - val_accuracy: 0.5625\n",
      "Epoch 141/150\n",
      "60/60 [==============================] - ETA: 0s - loss: 0.1068 - accuracy: 0.9865\n",
      "Epoch 141: val_accuracy did not improve from 0.61250\n",
      "60/60 [==============================] - 7s 118ms/step - loss: 0.1068 - accuracy: 0.9865 - val_loss: 6.9598 - val_accuracy: 0.5708\n",
      "Epoch 142/150\n",
      "60/60 [==============================] - ETA: 0s - loss: 0.0250 - accuracy: 0.9937\n",
      "Epoch 142: val_accuracy did not improve from 0.61250\n",
      "60/60 [==============================] - 7s 119ms/step - loss: 0.0250 - accuracy: 0.9937 - val_loss: 6.9743 - val_accuracy: 0.5792\n",
      "Epoch 143/150\n",
      "60/60 [==============================] - ETA: 0s - loss: 0.1351 - accuracy: 0.9854\n",
      "Epoch 143: val_accuracy did not improve from 0.61250\n",
      "60/60 [==============================] - 7s 118ms/step - loss: 0.1351 - accuracy: 0.9854 - val_loss: 7.2367 - val_accuracy: 0.5542\n",
      "Epoch 144/150\n",
      "60/60 [==============================] - ETA: 0s - loss: 0.3423 - accuracy: 0.9625\n",
      "Epoch 144: val_accuracy did not improve from 0.61250\n",
      "60/60 [==============================] - 7s 119ms/step - loss: 0.3423 - accuracy: 0.9625 - val_loss: 6.7016 - val_accuracy: 0.5667\n",
      "Epoch 145/150\n"
     ]
    },
    {
     "name": "stdout",
     "output_type": "stream",
     "text": [
      "60/60 [==============================] - ETA: 0s - loss: 0.1941 - accuracy: 0.9698\n",
      "Epoch 145: val_accuracy did not improve from 0.61250\n",
      "60/60 [==============================] - 7s 119ms/step - loss: 0.1941 - accuracy: 0.9698 - val_loss: 6.4679 - val_accuracy: 0.5792\n",
      "Epoch 146/150\n",
      "60/60 [==============================] - ETA: 0s - loss: 0.1122 - accuracy: 0.9823\n",
      "Epoch 146: val_accuracy did not improve from 0.61250\n",
      "60/60 [==============================] - 7s 119ms/step - loss: 0.1122 - accuracy: 0.9823 - val_loss: 6.5325 - val_accuracy: 0.5667\n",
      "Epoch 147/150\n",
      "60/60 [==============================] - ETA: 0s - loss: 0.1117 - accuracy: 0.9844\n",
      "Epoch 147: val_accuracy did not improve from 0.61250\n",
      "60/60 [==============================] - 7s 119ms/step - loss: 0.1117 - accuracy: 0.9844 - val_loss: 6.7117 - val_accuracy: 0.5542\n",
      "Epoch 148/150\n",
      "60/60 [==============================] - ETA: 0s - loss: 0.1277 - accuracy: 0.9854\n",
      "Epoch 148: val_accuracy did not improve from 0.61250\n",
      "60/60 [==============================] - 7s 119ms/step - loss: 0.1277 - accuracy: 0.9854 - val_loss: 6.3008 - val_accuracy: 0.5625\n",
      "Epoch 149/150\n",
      "60/60 [==============================] - ETA: 0s - loss: 0.1281 - accuracy: 0.9865\n",
      "Epoch 149: val_accuracy did not improve from 0.61250\n",
      "60/60 [==============================] - 7s 120ms/step - loss: 0.1281 - accuracy: 0.9865 - val_loss: 6.2140 - val_accuracy: 0.5500\n",
      "Epoch 150/150\n",
      "60/60 [==============================] - ETA: 0s - loss: 0.0215 - accuracy: 0.9969\n",
      "Epoch 150: val_accuracy did not improve from 0.61250\n",
      "60/60 [==============================] - 7s 120ms/step - loss: 0.0215 - accuracy: 0.9969 - val_loss: 6.2428 - val_accuracy: 0.5833\n"
     ]
    }
   ],
   "source": [
    "history = model_rat.fit(\n",
    "  [x_rat_train, x_feat_train],\n",
    "  y_rat_train,\n",
    "  epochs = 150,\n",
    "  batch_size = 16,\n",
    "  validation_data = ([x_rat_val, x_feat_val], y_rat_val),\n",
    "  callbacks = [checkpointer],\n",
    "  verbose = 1\n",
    ")"
   ]
  },
  {
   "cell_type": "code",
   "execution_count": 54,
   "metadata": {
    "id": "E1RlCwx1BI8R",
    "outputId": "8e6a7d0b-3499-4c08-e009-d2be83210b06"
   },
   "outputs": [
    {
     "name": "stderr",
     "output_type": "stream",
     "text": [
      "WARNING:matplotlib.legend:No artists with labels found to put in legend.  Note that artists whose label start with an underscore are ignored when legend() is called with no argument.\n"
     ]
    },
    {
     "data": {
      "image/png": "[encoded data removed]",
      "text/plain": [
       "<Figure size 640x480 with 1 Axes>"
      ]
     },
     "metadata": {},
     "output_type": "display_data"
    }
   ],
   "source": [
    "# Оображаем график точности обучения\n",
    "plt.plot(history.history['accuracy'])\n",
    "plt.plot(history.history['val_accuracy'])\n",
    "plt.title(label='Model multi input', fontsize=20)\n",
    "plt.xlabel('Epoch')\n",
    "plt.ylabel('Accuracy')\n",
    "plt.legend()\n",
    "plt.show()"
   ]
  },
  {
   "cell_type": "markdown",
   "metadata": {
    "id": "KEMWIySTBI8S"
   },
   "source": [
    "## Evaluate the model\n",
    "Загружаем лучшие веса модели и оцениваем модель"
   ]
  },
  {
   "cell_type": "code",
   "execution_count": 55,
   "metadata": {
    "id": "IqKMOL77BI8S"
   },
   "outputs": [],
   "source": [
    "model_rat.load_weights(DIR + 'model_rat_3_w.h5')"
   ]
  },
  {
   "cell_type": "code",
   "execution_count": 56,
   "metadata": {
    "id": "H1Jf2y9VBI8S",
    "outputId": "25722a52-5b6c-47e5-9518-6fec6a1705c8"
   },
   "outputs": [
    {
     "name": "stdout",
     "output_type": "stream",
     "text": [
      "30/30 [==============================] - 5s 148ms/step - loss: 0.2660 - accuracy: 0.9583\n",
      "Train, accuracy: 0.9583333134651184, loss: 0.2660471498966217\n",
      "\n",
      "8/8 [==============================] - 1s 139ms/step - loss: 5.2737 - accuracy: 0.6125\n",
      "Val, accuracy: 0.612500011920929, loss: 5.27374267578125\n"
     ]
    }
   ],
   "source": [
    "loss, accuracy = model_rat.evaluate([x_rat_train, x_feat_train], y_rat_train)\n",
    "print(f'Train, accuracy: {accuracy}, loss: {loss}')\n",
    "print()\n",
    "\n",
    "val_loss, val_accuracy = model_rat.evaluate([x_rat_val, x_feat_val], y_rat_val)\n",
    "print(f'Val, accuracy: {val_accuracy}, loss: {val_loss}')"
   ]
  },
  {
   "cell_type": "code",
   "execution_count": 57,
   "metadata": {
    "id": "l7Nsn8fUBI8S",
    "outputId": "a9f7b160-7ec8-4d14-b499-9b217b19fedb"
   },
   "outputs": [
    {
     "name": "stdout",
     "output_type": "stream",
     "text": [
      "8/8 [==============================] - 1s 123ms/step\n",
      "(240, 17) (240, 17)\n"
     ]
    }
   ],
   "source": [
    "y_pred_v = model_rat.predict([x_rat_val, x_feat_val])\n",
    "y_pred_am = np.argmax(y_pred_v, axis=1)\n",
    "y_pred = to_categorical(y_pred_am,  num_classes=17, dtype='int')\n",
    "print(y_rat_val.shape, y_pred.shape)"
   ]
  },
  {
   "cell_type": "code",
   "execution_count": 58,
   "metadata": {
    "id": "QKSzY3I1BI8T",
    "outputId": "f25357e0-a82c-424b-a9f5-95e057b1e3e8"
   },
   "outputs": [
    {
     "data": {
      "text/plain": [
       "array([[0, 1, 0, ..., 0, 0, 0],\n",
       "       [0, 1, 0, ..., 0, 0, 0],\n",
       "       [0, 0, 0, ..., 0, 0, 0],\n",
       "       ...,\n",
       "       [0, 0, 1, ..., 0, 0, 0],\n",
       "       [1, 0, 0, ..., 0, 0, 0],\n",
       "       [0, 0, 0, ..., 0, 0, 0]])"
      ]
     },
     "execution_count": 58,
     "metadata": {},
     "output_type": "execute_result"
    }
   ],
   "source": [
    "y_pred"
   ]
  },
  {
   "cell_type": "code",
   "execution_count": 59,
   "metadata": {
    "id": "Ltk0zuIuBI8T",
    "outputId": "f2324ae7-d366-4bc0-ced9-ebe5846631ef"
   },
   "outputs": [
    {
     "data": {
      "text/html": [
       "<div>\n",
       "<style scoped>\n",
       "    .dataframe tbody tr th:only-of-type {\n",
       "        vertical-align: middle;\n",
       "    }\n",
       "\n",
       "    .dataframe tbody tr th {\n",
       "        vertical-align: top;\n",
       "    }\n",
       "\n",
       "    .dataframe thead th {\n",
       "        text-align: right;\n",
       "    }\n",
       "</style>\n",
       "<table border=\"1\" class=\"dataframe\">\n",
       "  <thead>\n",
       "    <tr style=\"text-align: right;\">\n",
       "      <th></th>\n",
       "      <th>0</th>\n",
       "      <th>1</th>\n",
       "      <th>2</th>\n",
       "      <th>3</th>\n",
       "      <th>4</th>\n",
       "      <th>5</th>\n",
       "      <th>6</th>\n",
       "      <th>7</th>\n",
       "      <th>8</th>\n",
       "      <th>9</th>\n",
       "      <th>10</th>\n",
       "      <th>11</th>\n",
       "      <th>12</th>\n",
       "      <th>13</th>\n",
       "      <th>14</th>\n",
       "      <th>15</th>\n",
       "      <th>16</th>\n",
       "    </tr>\n",
       "  </thead>\n",
       "  <tbody>\n",
       "    <tr>\n",
       "      <th>1074</th>\n",
       "      <td>0</td>\n",
       "      <td>1</td>\n",
       "      <td>0</td>\n",
       "      <td>0</td>\n",
       "      <td>0</td>\n",
       "      <td>0</td>\n",
       "      <td>0</td>\n",
       "      <td>0</td>\n",
       "      <td>0</td>\n",
       "      <td>0</td>\n",
       "      <td>0</td>\n",
       "      <td>0</td>\n",
       "      <td>0</td>\n",
       "      <td>0</td>\n",
       "      <td>0</td>\n",
       "      <td>0</td>\n",
       "      <td>0</td>\n",
       "    </tr>\n",
       "    <tr>\n",
       "      <th>289</th>\n",
       "      <td>0</td>\n",
       "      <td>0</td>\n",
       "      <td>0</td>\n",
       "      <td>0</td>\n",
       "      <td>0</td>\n",
       "      <td>0</td>\n",
       "      <td>0</td>\n",
       "      <td>0</td>\n",
       "      <td>0</td>\n",
       "      <td>0</td>\n",
       "      <td>1</td>\n",
       "      <td>0</td>\n",
       "      <td>0</td>\n",
       "      <td>0</td>\n",
       "      <td>0</td>\n",
       "      <td>0</td>\n",
       "      <td>0</td>\n",
       "    </tr>\n",
       "    <tr>\n",
       "      <th>883</th>\n",
       "      <td>0</td>\n",
       "      <td>0</td>\n",
       "      <td>0</td>\n",
       "      <td>0</td>\n",
       "      <td>0</td>\n",
       "      <td>0</td>\n",
       "      <td>0</td>\n",
       "      <td>0</td>\n",
       "      <td>1</td>\n",
       "      <td>0</td>\n",
       "      <td>0</td>\n",
       "      <td>0</td>\n",
       "      <td>0</td>\n",
       "      <td>0</td>\n",
       "      <td>0</td>\n",
       "      <td>0</td>\n",
       "      <td>0</td>\n",
       "    </tr>\n",
       "    <tr>\n",
       "      <th>1045</th>\n",
       "      <td>1</td>\n",
       "      <td>0</td>\n",
       "      <td>0</td>\n",
       "      <td>0</td>\n",
       "      <td>0</td>\n",
       "      <td>0</td>\n",
       "      <td>0</td>\n",
       "      <td>0</td>\n",
       "      <td>0</td>\n",
       "      <td>0</td>\n",
       "      <td>0</td>\n",
       "      <td>0</td>\n",
       "      <td>0</td>\n",
       "      <td>0</td>\n",
       "      <td>0</td>\n",
       "      <td>0</td>\n",
       "      <td>0</td>\n",
       "    </tr>\n",
       "    <tr>\n",
       "      <th>1057</th>\n",
       "      <td>0</td>\n",
       "      <td>0</td>\n",
       "      <td>0</td>\n",
       "      <td>0</td>\n",
       "      <td>0</td>\n",
       "      <td>0</td>\n",
       "      <td>0</td>\n",
       "      <td>0</td>\n",
       "      <td>0</td>\n",
       "      <td>0</td>\n",
       "      <td>0</td>\n",
       "      <td>1</td>\n",
       "      <td>0</td>\n",
       "      <td>0</td>\n",
       "      <td>0</td>\n",
       "      <td>0</td>\n",
       "      <td>0</td>\n",
       "    </tr>\n",
       "    <tr>\n",
       "      <th>...</th>\n",
       "      <td>...</td>\n",
       "      <td>...</td>\n",
       "      <td>...</td>\n",
       "      <td>...</td>\n",
       "      <td>...</td>\n",
       "      <td>...</td>\n",
       "      <td>...</td>\n",
       "      <td>...</td>\n",
       "      <td>...</td>\n",
       "      <td>...</td>\n",
       "      <td>...</td>\n",
       "      <td>...</td>\n",
       "      <td>...</td>\n",
       "      <td>...</td>\n",
       "      <td>...</td>\n",
       "      <td>...</td>\n",
       "      <td>...</td>\n",
       "    </tr>\n",
       "    <tr>\n",
       "      <th>915</th>\n",
       "      <td>0</td>\n",
       "      <td>0</td>\n",
       "      <td>0</td>\n",
       "      <td>0</td>\n",
       "      <td>0</td>\n",
       "      <td>0</td>\n",
       "      <td>0</td>\n",
       "      <td>0</td>\n",
       "      <td>0</td>\n",
       "      <td>0</td>\n",
       "      <td>0</td>\n",
       "      <td>0</td>\n",
       "      <td>0</td>\n",
       "      <td>0</td>\n",
       "      <td>1</td>\n",
       "      <td>0</td>\n",
       "      <td>0</td>\n",
       "    </tr>\n",
       "    <tr>\n",
       "      <th>217</th>\n",
       "      <td>0</td>\n",
       "      <td>1</td>\n",
       "      <td>0</td>\n",
       "      <td>0</td>\n",
       "      <td>0</td>\n",
       "      <td>0</td>\n",
       "      <td>0</td>\n",
       "      <td>0</td>\n",
       "      <td>0</td>\n",
       "      <td>0</td>\n",
       "      <td>0</td>\n",
       "      <td>0</td>\n",
       "      <td>0</td>\n",
       "      <td>0</td>\n",
       "      <td>0</td>\n",
       "      <td>0</td>\n",
       "      <td>0</td>\n",
       "    </tr>\n",
       "    <tr>\n",
       "      <th>168</th>\n",
       "      <td>0</td>\n",
       "      <td>0</td>\n",
       "      <td>0</td>\n",
       "      <td>0</td>\n",
       "      <td>0</td>\n",
       "      <td>0</td>\n",
       "      <td>0</td>\n",
       "      <td>0</td>\n",
       "      <td>0</td>\n",
       "      <td>0</td>\n",
       "      <td>0</td>\n",
       "      <td>0</td>\n",
       "      <td>0</td>\n",
       "      <td>1</td>\n",
       "      <td>0</td>\n",
       "      <td>0</td>\n",
       "      <td>0</td>\n",
       "    </tr>\n",
       "    <tr>\n",
       "      <th>1104</th>\n",
       "      <td>1</td>\n",
       "      <td>0</td>\n",
       "      <td>0</td>\n",
       "      <td>0</td>\n",
       "      <td>0</td>\n",
       "      <td>0</td>\n",
       "      <td>0</td>\n",
       "      <td>0</td>\n",
       "      <td>0</td>\n",
       "      <td>0</td>\n",
       "      <td>0</td>\n",
       "      <td>0</td>\n",
       "      <td>0</td>\n",
       "      <td>0</td>\n",
       "      <td>0</td>\n",
       "      <td>0</td>\n",
       "      <td>0</td>\n",
       "    </tr>\n",
       "    <tr>\n",
       "      <th>999</th>\n",
       "      <td>0</td>\n",
       "      <td>0</td>\n",
       "      <td>0</td>\n",
       "      <td>1</td>\n",
       "      <td>0</td>\n",
       "      <td>0</td>\n",
       "      <td>0</td>\n",
       "      <td>0</td>\n",
       "      <td>0</td>\n",
       "      <td>0</td>\n",
       "      <td>0</td>\n",
       "      <td>0</td>\n",
       "      <td>0</td>\n",
       "      <td>0</td>\n",
       "      <td>0</td>\n",
       "      <td>0</td>\n",
       "      <td>0</td>\n",
       "    </tr>\n",
       "  </tbody>\n",
       "</table>\n",
       "<p>240 rows × 17 columns</p>\n",
       "</div>"
      ],
      "text/plain": [
       "      0   1   2   3   4   5   6   7   8   9   10  11  12  13  14  15  16\n",
       "1074   0   1   0   0   0   0   0   0   0   0   0   0   0   0   0   0   0\n",
       "289    0   0   0   0   0   0   0   0   0   0   1   0   0   0   0   0   0\n",
       "883    0   0   0   0   0   0   0   0   1   0   0   0   0   0   0   0   0\n",
       "1045   1   0   0   0   0   0   0   0   0   0   0   0   0   0   0   0   0\n",
       "1057   0   0   0   0   0   0   0   0   0   0   0   1   0   0   0   0   0\n",
       "...   ..  ..  ..  ..  ..  ..  ..  ..  ..  ..  ..  ..  ..  ..  ..  ..  ..\n",
       "915    0   0   0   0   0   0   0   0   0   0   0   0   0   0   1   0   0\n",
       "217    0   1   0   0   0   0   0   0   0   0   0   0   0   0   0   0   0\n",
       "168    0   0   0   0   0   0   0   0   0   0   0   0   0   1   0   0   0\n",
       "1104   1   0   0   0   0   0   0   0   0   0   0   0   0   0   0   0   0\n",
       "999    0   0   0   1   0   0   0   0   0   0   0   0   0   0   0   0   0\n",
       "\n",
       "[240 rows x 17 columns]"
      ]
     },
     "execution_count": 59,
     "metadata": {},
     "output_type": "execute_result"
    }
   ],
   "source": [
    "y_rat_val"
   ]
  },
  {
   "cell_type": "code",
   "execution_count": 60,
   "metadata": {
    "id": "YRZHmDMiBI8T",
    "outputId": "b1525df8-ad8e-43fd-9362-dd07316d7a79"
   },
   "outputs": [
    {
     "name": "stdout",
     "output_type": "stream",
     "text": [
      "0.48614526513142226\n"
     ]
    }
   ],
   "source": [
    "f1 = sklearn.metrics.f1_score(y_rat_val, y_pred, average='macro')\n",
    "print(f1)"
   ]
  },
  {
   "cell_type": "code",
   "execution_count": 61,
   "metadata": {
    "id": "2K_zYXLHBI8T"
   },
   "outputs": [],
   "source": [
    "model_rat.save(DIR + 'model_rat_3.keras')"
   ]
  },
  {
   "cell_type": "markdown",
   "metadata": {
    "id": "MLtKnuYIBI8T"
   },
   "source": [
    "# Summary\n",
    "Подводим итоги - извлечение именованных сущностей и извлечение дополнительных признаков долгий процесс, но этот подход увеличивает точность на 2 - 3%"
   ]
  },
  {
   "cell_type": "code",
   "execution_count": null,
   "metadata": {
    "id": "LaoUJKzcBI8U"
   },
   "outputs": [],
   "source": []
  },
  {
   "cell_type": "code",
   "execution_count": null,
   "metadata": {},
   "outputs": [],
   "source": []
  }
 ],
 "metadata": {
  "colab": {
   "provenance": [
    {
     "file_id": "1am4NmjyVzySjlfYKv7Zgot-RvcaRkGrB",
     "timestamp": 1693540550390
    }
   ]
  },
  "kernelspec": {
   "display_name": "Python 3 (ipykernel)",
   "language": "python",
   "name": "python3"
  },
  "language_info": {
   "codemirror_mode": {
    "name": "ipython",
    "version": 3
   },
   "file_extension": ".py",
   "mimetype": "text/x-python",
   "name": "python",
   "nbconvert_exporter": "python",
   "pygments_lexer": "ipython3",
   "version": "3.10.12"
  }
 },
 "nbformat": 4,
 "nbformat_minor": 1
}
